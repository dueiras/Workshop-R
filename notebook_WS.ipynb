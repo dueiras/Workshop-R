{
 "cells": [
  {
   "cell_type": "markdown",
   "metadata": {},
   "source": [
    "#  R básico"
   ]
  },
  {
   "cell_type": "markdown",
   "metadata": {},
   "source": [
    "### Bibliotecas"
   ]
  },
  {
   "cell_type": "code",
   "execution_count": 1,
   "metadata": {},
   "outputs": [
    {
     "data": {
      "text/html": [
       "'C:/Users/dueir/anaconda3/envs/Renv/Lib/R/library'"
      ],
      "text/latex": [
       "'C:/Users/dueir/anaconda3/envs/Renv/Lib/R/library'"
      ],
      "text/markdown": [
       "'C:/Users/dueir/anaconda3/envs/Renv/Lib/R/library'"
      ],
      "text/plain": [
       "[1] \"C:/Users/dueir/anaconda3/envs/Renv/Lib/R/library\""
      ]
     },
     "metadata": {},
     "output_type": "display_data"
    },
    {
     "data": {
      "text/html": [
       "<ol class=list-inline>\n",
       "\t<li>'.GlobalEnv'</li>\n",
       "\t<li>'jupyter:irkernel'</li>\n",
       "\t<li>'package:stats'</li>\n",
       "\t<li>'package:graphics'</li>\n",
       "\t<li>'package:grDevices'</li>\n",
       "\t<li>'package:utils'</li>\n",
       "\t<li>'package:datasets'</li>\n",
       "\t<li>'package:methods'</li>\n",
       "\t<li>'Autoloads'</li>\n",
       "\t<li>'package:base'</li>\n",
       "</ol>\n"
      ],
      "text/latex": [
       "\\begin{enumerate*}\n",
       "\\item '.GlobalEnv'\n",
       "\\item 'jupyter:irkernel'\n",
       "\\item 'package:stats'\n",
       "\\item 'package:graphics'\n",
       "\\item 'package:grDevices'\n",
       "\\item 'package:utils'\n",
       "\\item 'package:datasets'\n",
       "\\item 'package:methods'\n",
       "\\item 'Autoloads'\n",
       "\\item 'package:base'\n",
       "\\end{enumerate*}\n"
      ],
      "text/markdown": [
       "1. '.GlobalEnv'\n",
       "2. 'jupyter:irkernel'\n",
       "3. 'package:stats'\n",
       "4. 'package:graphics'\n",
       "5. 'package:grDevices'\n",
       "6. 'package:utils'\n",
       "7. 'package:datasets'\n",
       "8. 'package:methods'\n",
       "9. 'Autoloads'\n",
       "10. 'package:base'\n",
       "\n",
       "\n"
      ],
      "text/plain": [
       " [1] \".GlobalEnv\"        \"jupyter:irkernel\"  \"package:stats\"    \n",
       " [4] \"package:graphics\"  \"package:grDevices\" \"package:utils\"    \n",
       " [7] \"package:datasets\"  \"package:methods\"   \"Autoloads\"        \n",
       "[10] \"package:base\"     "
      ]
     },
     "metadata": {},
     "output_type": "display_data"
    }
   ],
   "source": [
    ".libPaths() # get library location\n",
    "library()   # see all packages installed\n",
    "search()    # see packages currently loaded"
   ]
  },
  {
   "cell_type": "markdown",
   "metadata": {},
   "source": [
    "### Pedindo ajuda "
   ]
  },
  {
   "cell_type": "code",
   "execution_count": null,
   "metadata": {},
   "outputs": [],
   "source": [
    "help.start()   # general help\n",
    "help(foo)      # help about function foo\n",
    "?foo           # same thing\n",
    "apropos(\"foo\") # list all functions containing string foo\n",
    "example(foo)   # show an example of function foo"
   ]
  },
  {
   "cell_type": "markdown",
   "metadata": {},
   "source": [
    "## Comandos Básicos "
   ]
  },
  {
   "cell_type": "markdown",
   "metadata": {},
   "source": [
    "Dar um valor a uma variável:\n",
    "```x <- 42```"
   ]
  },
  {
   "cell_type": "code",
   "execution_count": 1,
   "metadata": {},
   "outputs": [
    {
     "ename": "ERROR",
     "evalue": "Error in mydata$x1 = 10: object 'mydata' not found\n",
     "output_type": "error",
     "traceback": [
      "Error in mydata$x1 = 10: object 'mydata' not found\nTraceback:\n"
     ]
    }
   ],
   "source": [
    "mydata$x1 = 10\n",
    "mydata$x2 = 20"
   ]
  },
  {
   "cell_type": "markdown",
   "metadata": {},
   "source": [
    "### Descobrindo o tipo da variável"
   ]
  },
  {
   "cell_type": "code",
   "execution_count": 3,
   "metadata": {},
   "outputs": [
    {
     "data": {
      "text/html": [
       "'numeric'"
      ],
      "text/latex": [
       "'numeric'"
      ],
      "text/markdown": [
       "'numeric'"
      ],
      "text/plain": [
       "[1] \"numeric\""
      ]
     },
     "metadata": {},
     "output_type": "display_data"
    },
    {
     "data": {
      "text/html": [
       "'character'"
      ],
      "text/latex": [
       "'character'"
      ],
      "text/markdown": [
       "'character'"
      ],
      "text/plain": [
       "[1] \"character\""
      ]
     },
     "metadata": {},
     "output_type": "display_data"
    },
    {
     "data": {
      "text/html": [
       "'logical'"
      ],
      "text/latex": [
       "'logical'"
      ],
      "text/markdown": [
       "'logical'"
      ],
      "text/plain": [
       "[1] \"logical\""
      ]
     },
     "metadata": {},
     "output_type": "display_data"
    }
   ],
   "source": [
    "# Declare variables of different types\n",
    "my_numeric <- 42\n",
    "my_character <- \"universe\"\n",
    "my_logical <- FALSE \n",
    "\n",
    "# Check class of my_numeric\n",
    "class(my_numeric)\n",
    "\n",
    "# Check class of my_character\n",
    "class(my_character)\n",
    "\n",
    "# Check class of my_logical\n",
    "class(my_logical)"
   ]
  },
  {
   "cell_type": "code",
   "execution_count": 2,
   "metadata": {
    "scrolled": true
   },
   "outputs": [
    {
     "ename": "ERROR",
     "evalue": "Error in eval(expr, envir, enclos): object 'mydata' not found\n",
     "output_type": "error",
     "traceback": [
      "Error in eval(expr, envir, enclos): object 'mydata' not found\nTraceback:\n"
     ]
    }
   ],
   "source": [
    "mydata$sum <- mydata$x1 + mydata$x2"
   ]
  },
  {
   "cell_type": "code",
   "execution_count": null,
   "metadata": {},
   "outputs": [],
   "source": [
    "mydata$mean <- (mydata$x1 + mydata$x2)/2"
   ]
  },
  {
   "cell_type": "markdown",
   "metadata": {},
   "source": [
    "### Matrizes"
   ]
  },
  {
   "cell_type": "markdown",
   "metadata": {},
   "source": [
    "matrix(data, nrow, ncol, byrow = FALSE)"
   ]
  },
  {
   "cell_type": "markdown",
   "metadata": {},
   "source": [
    "data: The collection of elements that R will arrange into the rows and columns of the matrix \n",
    "\n",
    "nrow: Number of rows \n",
    "\n",
    "ncol: Number of columns\n",
    "\n",
    "byrow: The rows are filled from the left to the right. We use `byrow = FALSE` (default values), if we want the matrix to be filled by the columns i.e. the values are filled top to bottom."
   ]
  },
  {
   "cell_type": "code",
   "execution_count": 4,
   "metadata": {
    "scrolled": true
   },
   "outputs": [
    {
     "data": {
      "text/html": [
       "<table>\n",
       "<tbody>\n",
       "\t<tr><td>1 </td><td> 2</td></tr>\n",
       "\t<tr><td>3 </td><td> 4</td></tr>\n",
       "\t<tr><td>5 </td><td> 6</td></tr>\n",
       "\t<tr><td>7 </td><td> 8</td></tr>\n",
       "\t<tr><td>9 </td><td>10</td></tr>\n",
       "</tbody>\n",
       "</table>\n"
      ],
      "text/latex": [
       "\\begin{tabular}{ll}\n",
       "\t 1  &  2\\\\\n",
       "\t 3  &  4\\\\\n",
       "\t 5  &  6\\\\\n",
       "\t 7  &  8\\\\\n",
       "\t 9  & 10\\\\\n",
       "\\end{tabular}\n"
      ],
      "text/markdown": [
       "\n",
       "| 1  |  2 |\n",
       "| 3  |  4 |\n",
       "| 5  |  6 |\n",
       "| 7  |  8 |\n",
       "| 9  | 10 |\n",
       "\n"
      ],
      "text/plain": [
       "     [,1] [,2]\n",
       "[1,] 1     2  \n",
       "[2,] 3     4  \n",
       "[3,] 5     6  \n",
       "[4,] 7     8  \n",
       "[5,] 9    10  "
      ]
     },
     "metadata": {},
     "output_type": "display_data"
    }
   ],
   "source": [
    "# Construct a matrix with 5 rows that contain the numbers 1 up to 10 and byrow =  TRUE \n",
    "matrix_a <-matrix(1:10, byrow = TRUE, nrow = 5)\n",
    "matrix_a"
   ]
  },
  {
   "cell_type": "code",
   "execution_count": 5,
   "metadata": {
    "scrolled": true
   },
   "outputs": [
    {
     "data": {
      "text/html": [
       "<ol class=list-inline>\n",
       "\t<li>5</li>\n",
       "\t<li>2</li>\n",
       "</ol>\n"
      ],
      "text/latex": [
       "\\begin{enumerate*}\n",
       "\\item 5\n",
       "\\item 2\n",
       "\\end{enumerate*}\n"
      ],
      "text/markdown": [
       "1. 5\n",
       "2. 2\n",
       "\n",
       "\n"
      ],
      "text/plain": [
       "[1] 5 2"
      ]
     },
     "metadata": {},
     "output_type": "display_data"
    }
   ],
   "source": [
    "# Print dimension of the matrix with dim()\n",
    "dim(matrix_a)"
   ]
  },
  {
   "cell_type": "code",
   "execution_count": 6,
   "metadata": {
    "scrolled": true
   },
   "outputs": [
    {
     "data": {
      "text/html": [
       "<table>\n",
       "<tbody>\n",
       "\t<tr><td>1 </td><td> 6</td></tr>\n",
       "\t<tr><td>2 </td><td> 7</td></tr>\n",
       "\t<tr><td>3 </td><td> 8</td></tr>\n",
       "\t<tr><td>4 </td><td> 9</td></tr>\n",
       "\t<tr><td>5 </td><td>10</td></tr>\n",
       "</tbody>\n",
       "</table>\n"
      ],
      "text/latex": [
       "\\begin{tabular}{ll}\n",
       "\t 1  &  6\\\\\n",
       "\t 2  &  7\\\\\n",
       "\t 3  &  8\\\\\n",
       "\t 4  &  9\\\\\n",
       "\t 5  & 10\\\\\n",
       "\\end{tabular}\n"
      ],
      "text/markdown": [
       "\n",
       "| 1  |  6 |\n",
       "| 2  |  7 |\n",
       "| 3  |  8 |\n",
       "| 4  |  9 |\n",
       "| 5  | 10 |\n",
       "\n"
      ],
      "text/plain": [
       "     [,1] [,2]\n",
       "[1,] 1     6  \n",
       "[2,] 2     7  \n",
       "[3,] 3     8  \n",
       "[4,] 4     9  \n",
       "[5,] 5    10  "
      ]
     },
     "metadata": {},
     "output_type": "display_data"
    }
   ],
   "source": [
    "# Construct a matrix with 5 rows that contain the numbers 1 up to 10 and byrow =  FALSE\n",
    "matrix_b <-matrix(1:10, byrow = FALSE, nrow = 5)\n",
    "matrix_b"
   ]
  },
  {
   "cell_type": "code",
   "execution_count": 7,
   "metadata": {},
   "outputs": [
    {
     "data": {
      "text/html": [
       "<ol class=list-inline>\n",
       "\t<li>5</li>\n",
       "\t<li>3</li>\n",
       "</ol>\n"
      ],
      "text/latex": [
       "\\begin{enumerate*}\n",
       "\\item 5\n",
       "\\item 3\n",
       "\\end{enumerate*}\n"
      ],
      "text/markdown": [
       "1. 5\n",
       "2. 3\n",
       "\n",
       "\n"
      ],
      "text/plain": [
       "[1] 5 3"
      ]
     },
     "metadata": {},
     "output_type": "display_data"
    }
   ],
   "source": [
    "# concatenate c(1:5) to the matrix_a\n",
    "matrix_a1 <- cbind(matrix_a, c(1:5))\n",
    "# Check the dimension\n",
    "dim(matrix_a1)"
   ]
  },
  {
   "cell_type": "code",
   "execution_count": 8,
   "metadata": {},
   "outputs": [
    {
     "data": {
      "text/html": [
       "<table>\n",
       "<tbody>\n",
       "\t<tr><td>1 </td><td> 2</td><td>1 </td></tr>\n",
       "\t<tr><td>3 </td><td> 4</td><td>2 </td></tr>\n",
       "\t<tr><td>5 </td><td> 6</td><td>3 </td></tr>\n",
       "\t<tr><td>7 </td><td> 8</td><td>4 </td></tr>\n",
       "\t<tr><td>9 </td><td>10</td><td>5 </td></tr>\n",
       "</tbody>\n",
       "</table>\n"
      ],
      "text/latex": [
       "\\begin{tabular}{lll}\n",
       "\t 1  &  2 & 1 \\\\\n",
       "\t 3  &  4 & 2 \\\\\n",
       "\t 5  &  6 & 3 \\\\\n",
       "\t 7  &  8 & 4 \\\\\n",
       "\t 9  & 10 & 5 \\\\\n",
       "\\end{tabular}\n"
      ],
      "text/markdown": [
       "\n",
       "| 1  |  2 | 1  |\n",
       "| 3  |  4 | 2  |\n",
       "| 5  |  6 | 3  |\n",
       "| 7  |  8 | 4  |\n",
       "| 9  | 10 | 5  |\n",
       "\n"
      ],
      "text/plain": [
       "     [,1] [,2] [,3]\n",
       "[1,] 1     2   1   \n",
       "[2,] 3     4   2   \n",
       "[3,] 5     6   3   \n",
       "[4,] 7     8   4   \n",
       "[5,] 9    10   5   "
      ]
     },
     "metadata": {},
     "output_type": "display_data"
    }
   ],
   "source": [
    "matrix_a1"
   ]
  },
  {
   "cell_type": "code",
   "execution_count": 9,
   "metadata": {
    "scrolled": false
   },
   "outputs": [
    {
     "data": {
      "text/html": [
       "<table>\n",
       "<tbody>\n",
       "\t<tr><td>13</td><td>17</td><td>21</td></tr>\n",
       "\t<tr><td>14</td><td>18</td><td>22</td></tr>\n",
       "\t<tr><td>15</td><td>19</td><td>23</td></tr>\n",
       "\t<tr><td>16</td><td>20</td><td>24</td></tr>\n",
       "</tbody>\n",
       "</table>\n"
      ],
      "text/latex": [
       "\\begin{tabular}{lll}\n",
       "\t 13 & 17 & 21\\\\\n",
       "\t 14 & 18 & 22\\\\\n",
       "\t 15 & 19 & 23\\\\\n",
       "\t 16 & 20 & 24\\\\\n",
       "\\end{tabular}\n"
      ],
      "text/markdown": [
       "\n",
       "| 13 | 17 | 21 |\n",
       "| 14 | 18 | 22 |\n",
       "| 15 | 19 | 23 |\n",
       "| 16 | 20 | 24 |\n",
       "\n"
      ],
      "text/plain": [
       "     [,1] [,2] [,3]\n",
       "[1,] 13   17   21  \n",
       "[2,] 14   18   22  \n",
       "[3,] 15   19   23  \n",
       "[4,] 16   20   24  "
      ]
     },
     "metadata": {},
     "output_type": "display_data"
    }
   ],
   "source": [
    "matrix_a2 <-matrix(13:24, byrow = FALSE, ncol = 3)\n",
    "matrix_a2"
   ]
  },
  {
   "cell_type": "markdown",
   "metadata": {},
   "source": [
    "matrix_c[1,2] selects the element at the first row and second column.\n",
    "\n",
    "matrix_c[1:3,2:3] results in a matrix with the data on the rows 1, 2, 3 and columns 2, 3,\n",
    "\n",
    "matrix_c[,1] selects all elements of the first column.\n",
    "\n",
    "matrix_c[1,] selects all elements of the first row."
   ]
  },
  {
   "cell_type": "markdown",
   "metadata": {},
   "source": [
    "### Criando um Data Frame "
   ]
  },
  {
   "cell_type": "code",
   "execution_count": 12,
   "metadata": {
    "scrolled": true
   },
   "outputs": [
    {
     "data": {
      "text/html": [
       "<table>\n",
       "<thead><tr><th scope=col>a</th><th scope=col>b</th><th scope=col>c</th><th scope=col>d</th></tr></thead>\n",
       "<tbody>\n",
       "\t<tr><td>10         </td><td>book       </td><td> TRUE      </td><td> 2.5       </td></tr>\n",
       "\t<tr><td>20         </td><td>pen        </td><td>FALSE      </td><td> 8.0       </td></tr>\n",
       "\t<tr><td>30         </td><td>textbook   </td><td> TRUE      </td><td>10.0       </td></tr>\n",
       "\t<tr><td>40         </td><td>pencil_case</td><td>FALSE      </td><td> 7.0       </td></tr>\n",
       "</tbody>\n",
       "</table>\n"
      ],
      "text/latex": [
       "\\begin{tabular}{r|llll}\n",
       " a & b & c & d\\\\\n",
       "\\hline\n",
       "\t 10          & book        &  TRUE       &  2.5       \\\\\n",
       "\t 20          & pen         & FALSE       &  8.0       \\\\\n",
       "\t 30          & textbook    &  TRUE       & 10.0       \\\\\n",
       "\t 40            & pencil\\_case & FALSE         &  7.0         \\\\\n",
       "\\end{tabular}\n"
      ],
      "text/markdown": [
       "\n",
       "| a | b | c | d |\n",
       "|---|---|---|---|\n",
       "| 10          | book        |  TRUE       |  2.5        |\n",
       "| 20          | pen         | FALSE       |  8.0        |\n",
       "| 30          | textbook    |  TRUE       | 10.0        |\n",
       "| 40          | pencil_case | FALSE       |  7.0        |\n",
       "\n"
      ],
      "text/plain": [
       "  a  b           c     d   \n",
       "1 10 book         TRUE  2.5\n",
       "2 20 pen         FALSE  8.0\n",
       "3 30 textbook     TRUE 10.0\n",
       "4 40 pencil_case FALSE  7.0"
      ]
     },
     "metadata": {},
     "output_type": "display_data"
    }
   ],
   "source": [
    "# Create a, b, c, d variables\n",
    "a <- c(10,20,30,40)\n",
    "b <- c('book', 'pen', 'textbook', 'pencil_case')\n",
    "c <- c(TRUE,FALSE,TRUE,FALSE)\n",
    "d <- c(2.5, 8, 10, 7)\n",
    "# Join the variables to create a data frame\n",
    "df <- data.frame(a,b,c,d)\n",
    "df"
   ]
  },
  {
   "cell_type": "code",
   "execution_count": 13,
   "metadata": {
    "scrolled": true
   },
   "outputs": [
    {
     "data": {
      "text/html": [
       "<table>\n",
       "<thead><tr><th scope=col>ID</th><th scope=col>items</th><th scope=col>store</th><th scope=col>price</th></tr></thead>\n",
       "<tbody>\n",
       "\t<tr><td>10         </td><td>book       </td><td> TRUE      </td><td> 2.5       </td></tr>\n",
       "\t<tr><td>20         </td><td>pen        </td><td>FALSE      </td><td> 8.0       </td></tr>\n",
       "\t<tr><td>30         </td><td>textbook   </td><td> TRUE      </td><td>10.0       </td></tr>\n",
       "\t<tr><td>40         </td><td>pencil_case</td><td>FALSE      </td><td> 7.0       </td></tr>\n",
       "</tbody>\n",
       "</table>\n"
      ],
      "text/latex": [
       "\\begin{tabular}{r|llll}\n",
       " ID & items & store & price\\\\\n",
       "\\hline\n",
       "\t 10          & book        &  TRUE       &  2.5       \\\\\n",
       "\t 20          & pen         & FALSE       &  8.0       \\\\\n",
       "\t 30          & textbook    &  TRUE       & 10.0       \\\\\n",
       "\t 40            & pencil\\_case & FALSE         &  7.0         \\\\\n",
       "\\end{tabular}\n"
      ],
      "text/markdown": [
       "\n",
       "| ID | items | store | price |\n",
       "|---|---|---|---|\n",
       "| 10          | book        |  TRUE       |  2.5        |\n",
       "| 20          | pen         | FALSE       |  8.0        |\n",
       "| 30          | textbook    |  TRUE       | 10.0        |\n",
       "| 40          | pencil_case | FALSE       |  7.0        |\n",
       "\n"
      ],
      "text/plain": [
       "  ID items       store price\n",
       "1 10 book         TRUE  2.5 \n",
       "2 20 pen         FALSE  8.0 \n",
       "3 30 textbook     TRUE 10.0 \n",
       "4 40 pencil_case FALSE  7.0 "
      ]
     },
     "metadata": {},
     "output_type": "display_data"
    }
   ],
   "source": [
    "# Name the data frame\n",
    "names(df) <- c('ID', 'items', 'store', 'price')\n",
    "df"
   ]
  },
  {
   "cell_type": "markdown",
   "metadata": {},
   "source": [
    "#### Selecionando valores "
   ]
  },
  {
   "cell_type": "code",
   "execution_count": 14,
   "metadata": {},
   "outputs": [
    {
     "data": {
      "text/html": [
       "book\n",
       "<details>\n",
       "\t<summary style=display:list-item;cursor:pointer>\n",
       "\t\t<strong>Levels</strong>:\n",
       "\t</summary>\n",
       "\t<ol class=list-inline>\n",
       "\t\t<li>'book'</li>\n",
       "\t\t<li>'pen'</li>\n",
       "\t\t<li>'pencil_case'</li>\n",
       "\t\t<li>'textbook'</li>\n",
       "\t</ol>\n",
       "</details>"
      ],
      "text/latex": [
       "book\n",
       "\\emph{Levels}: \\begin{enumerate*}\n",
       "\\item 'book'\n",
       "\\item 'pen'\n",
       "\\item 'pencil\\_case'\n",
       "\\item 'textbook'\n",
       "\\end{enumerate*}\n"
      ],
      "text/markdown": [
       "book\n",
       "**Levels**: 1. 'book'\n",
       "2. 'pen'\n",
       "3. 'pencil_case'\n",
       "4. 'textbook'\n",
       "\n",
       "\n"
      ],
      "text/plain": [
       "[1] book\n",
       "Levels: book pen pencil_case textbook"
      ]
     },
     "metadata": {},
     "output_type": "display_data"
    }
   ],
   "source": [
    "## Select row 1 in column 2\n",
    "df[1,2]"
   ]
  },
  {
   "cell_type": "code",
   "execution_count": 15,
   "metadata": {
    "scrolled": true
   },
   "outputs": [
    {
     "data": {
      "text/html": [
       "<table>\n",
       "<thead><tr><th scope=col>ID</th><th scope=col>items</th><th scope=col>store</th><th scope=col>price</th></tr></thead>\n",
       "<tbody>\n",
       "\t<tr><td>10   </td><td>book </td><td> TRUE</td><td>2.5  </td></tr>\n",
       "\t<tr><td>20   </td><td>pen  </td><td>FALSE</td><td>8.0  </td></tr>\n",
       "</tbody>\n",
       "</table>\n"
      ],
      "text/latex": [
       "\\begin{tabular}{r|llll}\n",
       " ID & items & store & price\\\\\n",
       "\\hline\n",
       "\t 10    & book  &  TRUE & 2.5  \\\\\n",
       "\t 20    & pen   & FALSE & 8.0  \\\\\n",
       "\\end{tabular}\n"
      ],
      "text/markdown": [
       "\n",
       "| ID | items | store | price |\n",
       "|---|---|---|---|\n",
       "| 10    | book  |  TRUE | 2.5   |\n",
       "| 20    | pen   | FALSE | 8.0   |\n",
       "\n"
      ],
      "text/plain": [
       "  ID items store price\n",
       "1 10 book   TRUE 2.5  \n",
       "2 20 pen   FALSE 8.0  "
      ]
     },
     "metadata": {},
     "output_type": "display_data"
    }
   ],
   "source": [
    "## Select Rows 1 to 2\n",
    "df[1:2,]"
   ]
  },
  {
   "cell_type": "code",
   "execution_count": 16,
   "metadata": {},
   "outputs": [
    {
     "data": {
      "text/html": [
       "<ol class=list-inline>\n",
       "\t<li>10</li>\n",
       "\t<li>20</li>\n",
       "\t<li>30</li>\n",
       "\t<li>40</li>\n",
       "</ol>\n"
      ],
      "text/latex": [
       "\\begin{enumerate*}\n",
       "\\item 10\n",
       "\\item 20\n",
       "\\item 30\n",
       "\\item 40\n",
       "\\end{enumerate*}\n"
      ],
      "text/markdown": [
       "1. 10\n",
       "2. 20\n",
       "3. 30\n",
       "4. 40\n",
       "\n",
       "\n"
      ],
      "text/plain": [
       "[1] 10 20 30 40"
      ]
     },
     "metadata": {},
     "output_type": "display_data"
    }
   ],
   "source": [
    "## Select Columns 1\n",
    "df[,1]"
   ]
  },
  {
   "cell_type": "code",
   "execution_count": 17,
   "metadata": {
    "scrolled": true
   },
   "outputs": [
    {
     "data": {
      "text/html": [
       "<table>\n",
       "<thead><tr><th scope=col>store</th><th scope=col>price</th></tr></thead>\n",
       "<tbody>\n",
       "\t<tr><td> TRUE</td><td> 2.5 </td></tr>\n",
       "\t<tr><td>FALSE</td><td> 8.0 </td></tr>\n",
       "\t<tr><td> TRUE</td><td>10.0 </td></tr>\n",
       "</tbody>\n",
       "</table>\n"
      ],
      "text/latex": [
       "\\begin{tabular}{r|ll}\n",
       " store & price\\\\\n",
       "\\hline\n",
       "\t  TRUE &  2.5 \\\\\n",
       "\t FALSE &  8.0 \\\\\n",
       "\t  TRUE & 10.0 \\\\\n",
       "\\end{tabular}\n"
      ],
      "text/markdown": [
       "\n",
       "| store | price |\n",
       "|---|---|\n",
       "|  TRUE |  2.5  |\n",
       "| FALSE |  8.0  |\n",
       "|  TRUE | 10.0  |\n",
       "\n"
      ],
      "text/plain": [
       "  store price\n",
       "1  TRUE  2.5 \n",
       "2 FALSE  8.0 \n",
       "3  TRUE 10.0 "
      ]
     },
     "metadata": {},
     "output_type": "display_data"
    }
   ],
   "source": [
    "## Select Rows 1 to 3 and columns 3 to 4\n",
    "df[1:3, 3:4]"
   ]
  },
  {
   "cell_type": "code",
   "execution_count": 18,
   "metadata": {
    "scrolled": false
   },
   "outputs": [
    {
     "data": {
      "text/html": [
       "<table>\n",
       "<thead><tr><th scope=col>ID</th><th scope=col>store</th></tr></thead>\n",
       "<tbody>\n",
       "\t<tr><td>10   </td><td> TRUE</td></tr>\n",
       "\t<tr><td>20   </td><td>FALSE</td></tr>\n",
       "\t<tr><td>30   </td><td> TRUE</td></tr>\n",
       "\t<tr><td>40   </td><td>FALSE</td></tr>\n",
       "</tbody>\n",
       "</table>\n"
      ],
      "text/latex": [
       "\\begin{tabular}{r|ll}\n",
       " ID & store\\\\\n",
       "\\hline\n",
       "\t 10    &  TRUE\\\\\n",
       "\t 20    & FALSE\\\\\n",
       "\t 30    &  TRUE\\\\\n",
       "\t 40    & FALSE\\\\\n",
       "\\end{tabular}\n"
      ],
      "text/markdown": [
       "\n",
       "| ID | store |\n",
       "|---|---|\n",
       "| 10    |  TRUE |\n",
       "| 20    | FALSE |\n",
       "| 30    |  TRUE |\n",
       "| 40    | FALSE |\n",
       "\n"
      ],
      "text/plain": [
       "  ID store\n",
       "1 10  TRUE\n",
       "2 20 FALSE\n",
       "3 30  TRUE\n",
       "4 40 FALSE"
      ]
     },
     "metadata": {},
     "output_type": "display_data"
    }
   ],
   "source": [
    "# Slice with columns name\n",
    "df[, c('ID', 'store')]"
   ]
  },
  {
   "cell_type": "markdown",
   "metadata": {},
   "source": [
    "#### Inserindo uma Coluna a um Data Frame "
   ]
  },
  {
   "cell_type": "code",
   "execution_count": 19,
   "metadata": {
    "scrolled": true
   },
   "outputs": [
    {
     "data": {
      "text/html": [
       "<table>\n",
       "<thead><tr><th scope=col>ID</th><th scope=col>items</th><th scope=col>store</th><th scope=col>price</th><th scope=col>quantity</th></tr></thead>\n",
       "<tbody>\n",
       "\t<tr><td>10         </td><td>book       </td><td> TRUE      </td><td> 2.5       </td><td>10         </td></tr>\n",
       "\t<tr><td>20         </td><td>pen        </td><td>FALSE      </td><td> 8.0       </td><td>35         </td></tr>\n",
       "\t<tr><td>30         </td><td>textbook   </td><td> TRUE      </td><td>10.0       </td><td>40         </td></tr>\n",
       "\t<tr><td>40         </td><td>pencil_case</td><td>FALSE      </td><td> 7.0       </td><td> 5         </td></tr>\n",
       "</tbody>\n",
       "</table>\n"
      ],
      "text/latex": [
       "\\begin{tabular}{r|lllll}\n",
       " ID & items & store & price & quantity\\\\\n",
       "\\hline\n",
       "\t 10          & book        &  TRUE       &  2.5        & 10         \\\\\n",
       "\t 20          & pen         & FALSE       &  8.0        & 35         \\\\\n",
       "\t 30          & textbook    &  TRUE       & 10.0        & 40         \\\\\n",
       "\t 40            & pencil\\_case & FALSE         &  7.0          &  5           \\\\\n",
       "\\end{tabular}\n"
      ],
      "text/markdown": [
       "\n",
       "| ID | items | store | price | quantity |\n",
       "|---|---|---|---|---|\n",
       "| 10          | book        |  TRUE       |  2.5        | 10          |\n",
       "| 20          | pen         | FALSE       |  8.0        | 35          |\n",
       "| 30          | textbook    |  TRUE       | 10.0        | 40          |\n",
       "| 40          | pencil_case | FALSE       |  7.0        |  5          |\n",
       "\n"
      ],
      "text/plain": [
       "  ID items       store price quantity\n",
       "1 10 book         TRUE  2.5  10      \n",
       "2 20 pen         FALSE  8.0  35      \n",
       "3 30 textbook     TRUE 10.0  40      \n",
       "4 40 pencil_case FALSE  7.0   5      "
      ]
     },
     "metadata": {},
     "output_type": "display_data"
    }
   ],
   "source": [
    "# Create a new vector\n",
    "quantity <- c(10, 35, 40, 5)\n",
    "\n",
    "# Add `quantity` to the `df` data frame\n",
    "df$quantity <- quantity\n",
    "df"
   ]
  },
  {
   "cell_type": "markdown",
   "metadata": {},
   "source": [
    "#### Selecionando uma Coluna "
   ]
  },
  {
   "cell_type": "code",
   "execution_count": 20,
   "metadata": {},
   "outputs": [
    {
     "data": {
      "text/html": [
       "<ol class=list-inline>\n",
       "\t<li>10</li>\n",
       "\t<li>20</li>\n",
       "\t<li>30</li>\n",
       "\t<li>40</li>\n",
       "</ol>\n"
      ],
      "text/latex": [
       "\\begin{enumerate*}\n",
       "\\item 10\n",
       "\\item 20\n",
       "\\item 30\n",
       "\\item 40\n",
       "\\end{enumerate*}\n"
      ],
      "text/markdown": [
       "1. 10\n",
       "2. 20\n",
       "3. 30\n",
       "4. 40\n",
       "\n",
       "\n"
      ],
      "text/plain": [
       "[1] 10 20 30 40"
      ]
     },
     "metadata": {},
     "output_type": "display_data"
    }
   ],
   "source": [
    "# Select the column ID\n",
    "df$ID"
   ]
  },
  {
   "cell_type": "code",
   "execution_count": 21,
   "metadata": {},
   "outputs": [
    {
     "data": {
      "text/html": [
       "<table>\n",
       "<thead><tr><th></th><th scope=col>ID</th><th scope=col>items</th><th scope=col>store</th><th scope=col>price</th><th scope=col>quantity</th></tr></thead>\n",
       "<tbody>\n",
       "\t<tr><th scope=row>2</th><td>20         </td><td>pen        </td><td>FALSE      </td><td> 8         </td><td>35         </td></tr>\n",
       "\t<tr><th scope=row>3</th><td>30         </td><td>textbook   </td><td> TRUE      </td><td>10         </td><td>40         </td></tr>\n",
       "\t<tr><th scope=row>4</th><td>40         </td><td>pencil_case</td><td>FALSE      </td><td> 7         </td><td> 5         </td></tr>\n",
       "</tbody>\n",
       "</table>\n"
      ],
      "text/latex": [
       "\\begin{tabular}{r|lllll}\n",
       "  & ID & items & store & price & quantity\\\\\n",
       "\\hline\n",
       "\t2 & 20          & pen         & FALSE       &  8          & 35         \\\\\n",
       "\t3 & 30          & textbook    &  TRUE       & 10          & 40         \\\\\n",
       "\t4 & 40            & pencil\\_case & FALSE         &  7            &  5           \\\\\n",
       "\\end{tabular}\n"
      ],
      "text/markdown": [
       "\n",
       "| <!--/--> | ID | items | store | price | quantity |\n",
       "|---|---|---|---|---|---|\n",
       "| 2 | 20          | pen         | FALSE       |  8          | 35          |\n",
       "| 3 | 30          | textbook    |  TRUE       | 10          | 40          |\n",
       "| 4 | 40          | pencil_case | FALSE       |  7          |  5          |\n",
       "\n"
      ],
      "text/plain": [
       "  ID items       store price quantity\n",
       "2 20 pen         FALSE  8    35      \n",
       "3 30 textbook     TRUE 10    40      \n",
       "4 40 pencil_case FALSE  7     5      "
      ]
     },
     "metadata": {},
     "output_type": "display_data"
    }
   ],
   "source": [
    "# Select price above 5\n",
    "subset(df, subset = price > 5)"
   ]
  },
  {
   "cell_type": "markdown",
   "metadata": {},
   "source": [
    "### Descriptive Statistics "
   ]
  },
  {
   "cell_type": "markdown",
   "metadata": {},
   "source": [
    "R provides a wide range of functions for obtaining summary statistics. One way to get descriptive statistics is to use the sapply( ) function with a specified summary statistic."
   ]
  },
  {
   "cell_type": "code",
   "execution_count": null,
   "metadata": {},
   "outputs": [],
   "source": [
    "# get means for variables in data frame mydata\n",
    "# excluding missing values\n",
    "sapply(mydata, mean, na.rm=TRUE)"
   ]
  },
  {
   "cell_type": "markdown",
   "metadata": {},
   "source": [
    "### Plotting in R "
   ]
  },
  {
   "cell_type": "code",
   "execution_count": 4,
   "metadata": {},
   "outputs": [
    {
     "data": {
      "image/png": "[encoded data removed]",
      "text/plain": [
       "Plot with title \"Regression of MPG on Weight\""
      ]
     },
     "metadata": {},
     "output_type": "display_data"
    }
   ],
   "source": [
    "# Creating a Graph\n",
    "attach(mtcars)\n",
    "plot(wt, mpg)\n",
    "abline(lm(mpg~wt))\n",
    "title(\"Regression of MPG on Weight\")"
   ]
  },
  {
   "cell_type": "markdown",
   "metadata": {},
   "source": [
    "-"
   ]
  },
  {
   "cell_type": "markdown",
   "metadata": {},
   "source": [
    "-"
   ]
  },
  {
   "cell_type": "markdown",
   "metadata": {},
   "source": [
    "# Material do WorkShop "
   ]
  },
  {
   "cell_type": "markdown",
   "metadata": {},
   "source": [
    "## Importanto dados em R "
   ]
  },
  {
   "cell_type": "markdown",
   "metadata": {},
   "source": [
    "Quando vamos fazer nossa análise de dados, comumente devemos trazer esses dados de algum outro arquivo, o que nos pede um pouco de cuidado. <br> Por exemplo, é importante sabermos qual é o tipo de arquivo que estamos importando, pois isso pode fazer nosso programa ler os dados errôneamente. <br> Um dos formatos mais comums para a análise de dados é o **CSV**, ou *Comma separeted values*, que é o tipo de arquivo do excel por exemplo."
   ]
  },
  {
   "cell_type": "markdown",
   "metadata": {},
   "source": [
    "Assim, se for salvar uma planilha de dados, não se esqueça de salvar como CSV."
   ]
  },
  {
   "cell_type": "markdown",
   "metadata": {},
   "source": [
    "![img](csv_meme.jpg)"
   ]
  },
  {
   "cell_type": "markdown",
   "metadata": {},
   "source": [
    "Outro fator importante que devemos levar em conta na hora de importar o arquivo é o local em que ele está salvo. Se ele for salvo no mesmo diretório que o programa que se está usando para ler os dados, ou alguma pasta dentro deste, isso acarretará que podemos apenas escrever o nome do arquivo, sem a necessidade de escrever todo o caminho. <br> Vamos ver um exemplo abaixo:"
   ]
  },
  {
   "cell_type": "markdown",
   "metadata": {},
   "source": [
    "### Importando um arquivo CSV "
   ]
  },
  {
   "cell_type": "markdown",
   "metadata": {},
   "source": [
    "```R\n",
    "mydata <- read.csv(\"Data.csv\", header=TRUE)\n",
    "```"
   ]
  },
  {
   "cell_type": "markdown",
   "metadata": {},
   "source": [
    "Aqui ```mydata``` é o nome da variável que atribuiremos o conteúdo do arquivo que estamos lendo <br>\n",
    "A função ```read.csv``` lê arquivos que possuem este formato, aí uma importância de sabermos o formato do arquivo que estamos trabalhando. <br>\n",
    "O nome do arquivo deve vir dentro de aspas (simples ou dupla). Neste caso o arquivo está no mesmo diretório em que o nosso programa está sendo salvo, por isso não há necessidade de especificar diretórios anteriores. <br>\n",
    "Um argumento diferente da função deve ser separado por vírgula, aqui colocamos a função ```header=TRUE``` que significa que a primeira linha do nosso arquivo contém o nome das colunas (*labels*). Caso a primeira linha já contenha dados, vc deve trocar esse argumento por ```header=FALSE``` ."
   ]
  },
  {
   "cell_type": "markdown",
   "metadata": {},
   "source": [
    "Caso o arquivo esteja em um diretório diferente, é necessário identificá-lo. Vamos ver um exemplo:"
   ]
  },
  {
   "cell_type": "markdown",
   "metadata": {},
   "source": [
    "```R\n",
    "mydata <- read.csv(\"C:/Usuarios/Caminho/do/arquivo/Data.csv\", header=TRUE)\n",
    "```"
   ]
  },
  {
   "cell_type": "markdown",
   "metadata": {},
   "source": [
    "### Importando um arquivo TXT "
   ]
  },
  {
   "cell_type": "markdown",
   "metadata": {},
   "source": [
    "Uma outra alternativa é se seus dados não estão no formato CSV, mas em TXT. Nesse caso, você deve usar a seguinte linha de código:"
   ]
  },
  {
   "cell_type": "markdown",
   "metadata": {},
   "source": [
    "``` R \n",
    "mydata2 <- read.table(\"Data2.txt\", header=TRUE)\n",
    "```"
   ]
  },
  {
   "cell_type": "markdown",
   "metadata": {},
   "source": [
    "### Importando um arquivo da internet "
   ]
  },
  {
   "cell_type": "markdown",
   "metadata": {},
   "source": [
    "Caso você queira importar dados diretamente de algum site:"
   ]
  },
  {
   "cell_type": "markdown",
   "metadata": {},
   "source": [
    "``` R\n",
    "library(RCurl)\n",
    "site <- \"https://algum_site\"\n",
    "dados <- getURL(site)\n",
    "mydata3 <- read.table(text = dados, header = TRUE)\n",
    "```"
   ]
  },
  {
   "cell_type": "markdown",
   "metadata": {},
   "source": [
    "Note que é necessário importar a biblioteca ``` RCurl ```, e que a função para ler os dados é a mesma do TXT, ```read.table()```."
   ]
  },
  {
   "cell_type": "markdown",
   "metadata": {},
   "source": [
    "### Alguns problemas "
   ]
  },
  {
   "cell_type": "markdown",
   "metadata": {},
   "source": [
    "É comum importarmos um arquivo e este não parecer estar com um formato adequado, como por exemplo uma coluna sem dados, ou duplicada. Nestes casos, é importante checar se os dados estão da mesma forma que seu programa está lendo. Uma forma de descobrir isso é abrir os dados em um programa como o excel, ou leitor de texto e verificar se a divisão das colunas está sendo feita por vírgula ```,``` ou ponto e vírgula ```;```."
   ]
  },
  {
   "cell_type": "markdown",
   "metadata": {},
   "source": [
    "Caso o separador não seja a vírgula, podemos usar o argumento  ```sep=\" \"``` como o separador desejado:"
   ]
  },
  {
   "cell_type": "markdown",
   "metadata": {},
   "source": [
    "``` R \n",
    "mydata4 <- read.csv(\"Data3.csv\", header=TRUE, sep=\";\")\n",
    "```"
   ]
  },
  {
   "cell_type": "markdown",
   "metadata": {},
   "source": [
    "## Boas Práticas "
   ]
  },
  {
   "cell_type": "markdown",
   "metadata": {},
   "source": [
    "Caso você não queira ter problemas na hora de importar dados para fazer suas análises, são necessárias algumas boas práticas na hora de criar seu arquivo."
   ]
  },
  {
   "cell_type": "markdown",
   "metadata": {},
   "source": [
    "Neste WorkShop, usaremos o dataset Adults, que possui dados do censo norte americano sobre fatores socioeconômicos. Vamos visualizá-lo no Excel para entender sua estrutura:"
   ]
  },
  {
   "cell_type": "markdown",
   "metadata": {},
   "source": [
    "![img2](excel_adults.png)"
   ]
  },
  {
   "cell_type": "markdown",
   "metadata": {},
   "source": [
    "Datasets também podem ser montados num simples arquivo de texto:"
   ]
  },
  {
   "cell_type": "markdown",
   "metadata": {},
   "source": [
    "```\n",
    "Id,age,marital.status,occupation,relationship,race,sex,capital.gain,capital.loss,hours.per.week,native.country,income\n",
    "16280,34,Divorced,Exec-managerial,Own-child,White,Male,0,0,44,United-States,<=50K\n",
    "16281,58,Married-civ-spouse,Transport-moving,Husband,White,Male,0,0,40,United-States,<=50K\n",
    "```"
   ]
  },
  {
   "cell_type": "markdown",
   "metadata": {},
   "source": [
    "### Como escrever então seu arquivo de dados?"
   ]
  },
  {
   "cell_type": "markdown",
   "metadata": {},
   "source": [
    "1. Comece pela primeira linha e primeira coluna, ou seja, não pule células\n",
    "2. Inclua uma linha de títulos para cada coluna\n",
    "3. Tenha certeza que o número de títulos é igual ao número de colunas dos seus dados\n",
    "4. Não junte células, isso pode fazer seu programa ter problemas na hora de ler o arquivo\n",
    "5. No caso de arquivos de texto, use preferencialmente ```,``` como separador dos dados"
   ]
  },
  {
   "cell_type": "markdown",
   "metadata": {},
   "source": [
    "## Importando o arquivo do Workshop "
   ]
  },
  {
   "cell_type": "code",
   "execution_count": 11,
   "metadata": {},
   "outputs": [
    {
     "data": {
      "text/html": [
       "<table>\n",
       "<thead><tr><th scope=col>Id</th><th scope=col>age</th><th scope=col>workclass</th><th scope=col>fnlwgt</th><th scope=col>education</th><th scope=col>education.num</th><th scope=col>marital.status</th><th scope=col>occupation</th><th scope=col>relationship</th><th scope=col>race</th><th scope=col>sex</th><th scope=col>capital.gain</th><th scope=col>capital.loss</th><th scope=col>hours.per.week</th><th scope=col>native.country</th><th scope=col>income</th></tr></thead>\n",
       "<tbody>\n",
       "\t<tr><td>16280                                                     </td><td>34                                                        </td><td><span style=white-space:pre-wrap>Private     </span>      </td><td>204991                                                    </td><td>Some-college                                              </td><td>10                                                        </td><td><span style=white-space:pre-wrap>Divorced          </span></td><td><span style=white-space:pre-wrap>Exec-managerial  </span> </td><td><span style=white-space:pre-wrap>Own-child    </span>     </td><td>White                                                     </td><td><span style=white-space:pre-wrap>Male  </span>            </td><td><span style=white-space:pre-wrap>   0</span>              </td><td>0                                                         </td><td>44                                                        </td><td>United-States                                             </td><td>&lt;=50K                                                  </td></tr>\n",
       "\t<tr><td>16281                                                </td><td>58                                                   </td><td><span style=white-space:pre-wrap>Local-gov   </span> </td><td>310085                                               </td><td><span style=white-space:pre-wrap>10th        </span> </td><td> 6                                                   </td><td>Married-civ-spouse                                   </td><td>Transport-moving                                     </td><td><span style=white-space:pre-wrap>Husband      </span></td><td>White                                                </td><td><span style=white-space:pre-wrap>Male  </span>       </td><td><span style=white-space:pre-wrap>   0</span>         </td><td>0                                                    </td><td>40                                                   </td><td>United-States                                        </td><td>&lt;=50K                                             </td></tr>\n",
       "\t<tr><td>16282                                                     </td><td>25                                                        </td><td><span style=white-space:pre-wrap>Private     </span>      </td><td>146117                                                    </td><td>Some-college                                              </td><td>10                                                        </td><td><span style=white-space:pre-wrap>Never-married     </span></td><td>Machine-op-inspct                                         </td><td>Not-in-family                                             </td><td>White                                                     </td><td><span style=white-space:pre-wrap>Male  </span>            </td><td><span style=white-space:pre-wrap>   0</span>              </td><td>0                                                         </td><td>42                                                        </td><td>United-States                                             </td><td>&lt;=50K                                                  </td></tr>\n",
       "\t<tr><td>16283                                                     </td><td>24                                                        </td><td><span style=white-space:pre-wrap>Private     </span>      </td><td>138938                                                    </td><td>Some-college                                              </td><td>10                                                        </td><td><span style=white-space:pre-wrap>Divorced          </span></td><td><span style=white-space:pre-wrap>Adm-clerical     </span> </td><td>Not-in-family                                             </td><td>White                                                     </td><td>Female                                                    </td><td><span style=white-space:pre-wrap>   0</span>              </td><td>0                                                         </td><td>40                                                        </td><td>United-States                                             </td><td>&lt;=50K                                                  </td></tr>\n",
       "\t<tr><td>16284                                                </td><td>57                                                   </td><td>Self-emp-inc                                         </td><td>258883                                               </td><td><span style=white-space:pre-wrap>HS-grad     </span> </td><td> 9                                                   </td><td>Married-civ-spouse                                   </td><td>Transport-moving                                     </td><td><span style=white-space:pre-wrap>Husband      </span></td><td>White                                                </td><td><span style=white-space:pre-wrap>Male  </span>       </td><td>5178                                                 </td><td>0                                                    </td><td>60                                                   </td><td><span style=white-space:pre-wrap>Hungary      </span></td><td>&gt;50K                                              </td></tr>\n",
       "</tbody>\n",
       "</table>\n"
      ],
      "text/latex": [
       "\\begin{tabular}{r|llllllllllllllll}\n",
       " Id & age & workclass & fnlwgt & education & education.num & marital.status & occupation & relationship & race & sex & capital.gain & capital.loss & hours.per.week & native.country & income\\\\\n",
       "\\hline\n",
       "\t 16280              & 34                 & Private            & 204991             & Some-college       & 10                 & Divorced           & Exec-managerial    & Own-child          & White              & Male               &    0               & 0                  & 44                 & United-States      & <=50K             \\\\\n",
       "\t 16281              & 58                 & Local-gov          & 310085             & 10th               &  6                 & Married-civ-spouse & Transport-moving   & Husband            & White              & Male               &    0               & 0                  & 40                 & United-States      & <=50K             \\\\\n",
       "\t 16282              & 25                 & Private            & 146117             & Some-college       & 10                 & Never-married      & Machine-op-inspct  & Not-in-family      & White              & Male               &    0               & 0                  & 42                 & United-States      & <=50K             \\\\\n",
       "\t 16283              & 24                 & Private            & 138938             & Some-college       & 10                 & Divorced           & Adm-clerical       & Not-in-family      & White              & Female             &    0               & 0                  & 40                 & United-States      & <=50K             \\\\\n",
       "\t 16284              & 57                 & Self-emp-inc       & 258883             & HS-grad            &  9                 & Married-civ-spouse & Transport-moving   & Husband            & White              & Male               & 5178               & 0                  & 60                 & Hungary            & >50K              \\\\\n",
       "\\end{tabular}\n"
      ],
      "text/markdown": [
       "\n",
       "| Id | age | workclass | fnlwgt | education | education.num | marital.status | occupation | relationship | race | sex | capital.gain | capital.loss | hours.per.week | native.country | income |\n",
       "|---|---|---|---|---|---|---|---|---|---|---|---|---|---|---|---|\n",
       "| 16280              | 34                 | Private            | 204991             | Some-college       | 10                 | Divorced           | Exec-managerial    | Own-child          | White              | Male               |    0               | 0                  | 44                 | United-States      | <=50K              |\n",
       "| 16281              | 58                 | Local-gov          | 310085             | 10th               |  6                 | Married-civ-spouse | Transport-moving   | Husband            | White              | Male               |    0               | 0                  | 40                 | United-States      | <=50K              |\n",
       "| 16282              | 25                 | Private            | 146117             | Some-college       | 10                 | Never-married      | Machine-op-inspct  | Not-in-family      | White              | Male               |    0               | 0                  | 42                 | United-States      | <=50K              |\n",
       "| 16283              | 24                 | Private            | 138938             | Some-college       | 10                 | Divorced           | Adm-clerical       | Not-in-family      | White              | Female             |    0               | 0                  | 40                 | United-States      | <=50K              |\n",
       "| 16284              | 57                 | Self-emp-inc       | 258883             | HS-grad            |  9                 | Married-civ-spouse | Transport-moving   | Husband            | White              | Male               | 5178               | 0                  | 60                 | Hungary            | >50K               |\n",
       "\n"
      ],
      "text/plain": [
       "  Id    age workclass    fnlwgt education    education.num marital.status    \n",
       "1 16280 34  Private      204991 Some-college 10            Divorced          \n",
       "2 16281 58  Local-gov    310085 10th          6            Married-civ-spouse\n",
       "3 16282 25  Private      146117 Some-college 10            Never-married     \n",
       "4 16283 24  Private      138938 Some-college 10            Divorced          \n",
       "5 16284 57  Self-emp-inc 258883 HS-grad       9            Married-civ-spouse\n",
       "  occupation        relationship  race  sex    capital.gain capital.loss\n",
       "1 Exec-managerial   Own-child     White Male      0         0           \n",
       "2 Transport-moving  Husband       White Male      0         0           \n",
       "3 Machine-op-inspct Not-in-family White Male      0         0           \n",
       "4 Adm-clerical      Not-in-family White Female    0         0           \n",
       "5 Transport-moving  Husband       White Male   5178         0           \n",
       "  hours.per.week native.country income\n",
       "1 44             United-States  <=50K \n",
       "2 40             United-States  <=50K \n",
       "3 42             United-States  <=50K \n",
       "4 40             United-States  <=50K \n",
       "5 60             Hungary        >50K  "
      ]
     },
     "metadata": {},
     "output_type": "display_data"
    }
   ],
   "source": [
    "mydata <- read.csv(\"adults.csv\", header=TRUE)\n",
    "head(mydata, 5)"
   ]
  },
  {
   "cell_type": "markdown",
   "metadata": {},
   "source": [
    "Note que por padrão, R lê seu arquivo CSV como se fosse separado por ```,``` <br>\n",
    "O que acontece então se usarmos outro separador?"
   ]
  },
  {
   "cell_type": "code",
   "execution_count": 12,
   "metadata": {},
   "outputs": [
    {
     "data": {
      "text/html": [
       "<table>\n",
       "<thead><tr><th scope=col>Id.age.workclass.fnlwgt.education.education.num.marital.status.occupation.relationship.race.sex.capital.gain.capital.loss.hours.per.week.native.country.income</th></tr></thead>\n",
       "<tbody>\n",
       "\t<tr><td><span style=white-space:pre-wrap>16280,34,Private,204991,Some-college,10,Divorced,Exec-managerial,Own-child,White,Male,0,0,44,United-States,&lt;=50K           </span></td></tr>\n",
       "\t<tr><td><span style=white-space:pre-wrap>16281,58,Local-gov,310085,10th,6,Married-civ-spouse,Transport-moving,Husband,White,Male,0,0,40,United-States,&lt;=50K         </span></td></tr>\n",
       "\t<tr><td>16282,25,Private,146117,Some-college,10,Never-married,Machine-op-inspct,Not-in-family,White,Male,0,0,42,United-States,&lt;=50K</td></tr>\n",
       "\t<tr><td><span style=white-space:pre-wrap>16283,24,Private,138938,Some-college,10,Divorced,Adm-clerical,Not-in-family,White,Female,0,0,40,United-States,&lt;=50K        </span></td></tr>\n",
       "\t<tr><td><span style=white-space:pre-wrap>16284,57,Self-emp-inc,258883,HS-grad,9,Married-civ-spouse,Transport-moving,Husband,White,Male,5178,0,60,Hungary,&gt;50K       </span></td></tr>\n",
       "</tbody>\n",
       "</table>\n"
      ],
      "text/latex": [
       "\\begin{tabular}{r|l}\n",
       " Id.age.workclass.fnlwgt.education.education.num.marital.status.occupation.relationship.race.sex.capital.gain.capital.loss.hours.per.week.native.country.income\\\\\n",
       "\\hline\n",
       "\t 16280,34,Private,204991,Some-college,10,Divorced,Exec-managerial,Own-child,White,Male,0,0,44,United-States,<=50K           \\\\\n",
       "\t 16281,58,Local-gov,310085,10th,6,Married-civ-spouse,Transport-moving,Husband,White,Male,0,0,40,United-States,<=50K         \\\\\n",
       "\t 16282,25,Private,146117,Some-college,10,Never-married,Machine-op-inspct,Not-in-family,White,Male,0,0,42,United-States,<=50K\\\\\n",
       "\t 16283,24,Private,138938,Some-college,10,Divorced,Adm-clerical,Not-in-family,White,Female,0,0,40,United-States,<=50K        \\\\\n",
       "\t 16284,57,Self-emp-inc,258883,HS-grad,9,Married-civ-spouse,Transport-moving,Husband,White,Male,5178,0,60,Hungary,>50K       \\\\\n",
       "\\end{tabular}\n"
      ],
      "text/markdown": [
       "\n",
       "| Id.age.workclass.fnlwgt.education.education.num.marital.status.occupation.relationship.race.sex.capital.gain.capital.loss.hours.per.week.native.country.income |\n",
       "|---|\n",
       "| 16280,34,Private,204991,Some-college,10,Divorced,Exec-managerial,Own-child,White,Male,0,0,44,United-States,<=50K            |\n",
       "| 16281,58,Local-gov,310085,10th,6,Married-civ-spouse,Transport-moving,Husband,White,Male,0,0,40,United-States,<=50K          |\n",
       "| 16282,25,Private,146117,Some-college,10,Never-married,Machine-op-inspct,Not-in-family,White,Male,0,0,42,United-States,<=50K |\n",
       "| 16283,24,Private,138938,Some-college,10,Divorced,Adm-clerical,Not-in-family,White,Female,0,0,40,United-States,<=50K         |\n",
       "| 16284,57,Self-emp-inc,258883,HS-grad,9,Married-civ-spouse,Transport-moving,Husband,White,Male,5178,0,60,Hungary,>50K        |\n",
       "\n"
      ],
      "text/plain": [
       "  Id.age.workclass.fnlwgt.education.education.num.marital.status.occupation.relationship.race.sex.capital.gain.capital.loss.hours.per.week.native.country.income\n",
       "1 16280,34,Private,204991,Some-college,10,Divorced,Exec-managerial,Own-child,White,Male,0,0,44,United-States,<=50K                                              \n",
       "2 16281,58,Local-gov,310085,10th,6,Married-civ-spouse,Transport-moving,Husband,White,Male,0,0,40,United-States,<=50K                                            \n",
       "3 16282,25,Private,146117,Some-college,10,Never-married,Machine-op-inspct,Not-in-family,White,Male,0,0,42,United-States,<=50K                                   \n",
       "4 16283,24,Private,138938,Some-college,10,Divorced,Adm-clerical,Not-in-family,White,Female,0,0,40,United-States,<=50K                                           \n",
       "5 16284,57,Self-emp-inc,258883,HS-grad,9,Married-civ-spouse,Transport-moving,Husband,White,Male,5178,0,60,Hungary,>50K                                          "
      ]
     },
     "metadata": {},
     "output_type": "display_data"
    }
   ],
   "source": [
    "my_wrong_data <- read.csv(\"adults.csv\", header=TRUE, sep=\";\")\n",
    "head(my_wrong_data, 5)"
   ]
  },
  {
   "cell_type": "markdown",
   "metadata": {},
   "source": [
    "<img src=\"surprised_face.jpg\" width=\"300\"/>"
   ]
  },
  {
   "cell_type": "code",
   "execution_count": null,
   "metadata": {},
   "outputs": [],
   "source": []
  }
 ],
 "metadata": {
  "kernelspec": {
   "display_name": "R",
   "language": "R",
   "name": "ir"
  },
  "language_info": {
   "codemirror_mode": "r",
   "file_extension": ".r",
   "mimetype": "text/x-r-source",
   "name": "R",
   "pygments_lexer": "r",
   "version": "3.6.1"
  }
 },
 "nbformat": 4,
 "nbformat_minor": 4
}
