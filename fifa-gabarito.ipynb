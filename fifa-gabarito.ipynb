{
 "cells": [
  {
   "cell_type": "markdown",
   "metadata": {},
   "source": [
    "# WORKSHOP - ESTATÍSTICA BÁSICA COM R - GRUPO TURING"
   ]
  },
  {
   "cell_type": "markdown",
   "metadata": {},
   "source": [
    "**Tabela de Conteúdos**\n",
    "- [Overview da programação em R para o Workshop](#parte0)\n",
    "    - [Atribuição de valores a variáveis](#valores_variávies)\n",
    "    - [Tabelas de Dados (dataframes)](#dataframes)\n",
    "    <br><br>\n",
    "- [📂 Importando dados em R](#parte1)\n",
    "    - [Importando um csv](#importando_csv)\n",
    "    - [Boas práticas em criação de bases de dados](#boas_praticas)\n",
    "    - [Importando os dados do Workshop](#importando_ws)\n",
    "    <br><br>\n",
    "- [📑 Manipulando dados em R](#parte2)\n",
    "    - [Dados Faltantes](#dados_faltantes)\n",
    "    - [Deep dive in dplyr](#dplyr)\n",
    "        - [mutate() - criando novas variáveis](#mutate)\n",
    "        - [select() - selecionando colunas](#select)\n",
    "        - [filter() - filtrando a base de dados](#filter)\n",
    "        - [summarise() - a tabela dinâmica do R](#summarise)\n",
    "        - [arrange() - alterando a ordem das linhas](#arrange)\n",
    "        - [Combinando os verbos](#varios_verbos)\n",
    "        <br><br>\n",
    "- [📉 Visualizando dados em R](#parte3)\n",
    "<br><br>\n",
    "- [🔎 Estatística básica em R](#parte4)\n",
    "    - [Tipos de dados](#tipos_de_dados)\n",
    "        - [Dados Qualitativos](#quali)\n",
    "        - [Dados Quantitativos](#quant)\n",
    "    - [Estatística Descritiva](#descritiva)\n",
    "        - [Medidas de tendência central](#tendencia_central)\n",
    "            - [Média](#media)\n",
    "            - [Mediana](#mediana)\n",
    "            - [Percentis](#percentil)\n",
    "            - [Summary](#summary)\n",
    "        - [Medidas de variação uni e multivariadas](#variacao)\n",
    "            - [Amplitude](#amplitude)\n",
    "            - [Amplitude interquartil](#amplitude_interquartil)\n",
    "            - [Variância](#variancia)\n",
    "            - [Desvio Padrão](#desv_pad)\n",
    "            - [Covariância](#covar)\n",
    "            - [Coeficiente de Correlação](#ccor)\n",
    "            <br><br>\n",
    "- [❓ Inferência Estatística em R](#parte5)\n",
    "    - [Testes de hipótese](#testes_de_hipotese)\n",
    "        - [Amostra vs População](#amostra_pop)\n",
    "        - [Testes paramétricos VS Testes não paramétricos](#par_vs_npar)\n",
    "        - [Teste de Kolgomorov-Smirnov](#ks)\n",
    "        - Testes Paramétricos\n",
    "            - [Teste T](#t_test)\n",
    "            - [ANOVA de um fator](#anova)\n",
    "        - Testes Não Paramétricos\n",
    "            - [Wilconx-Mann_Whitney](#wmw)\n",
    "            - [Kruskal-Wallys](#kw)"
   ]
  },
  {
   "cell_type": "markdown",
   "metadata": {},
   "source": [
    "## Antes de começar: "
   ]
  },
  {
   "cell_type": "markdown",
   "metadata": {},
   "source": [
    "Em alguns lugares do material, deixamos os comandos incompletos. Preste atenção no WorkShop e substitua os três pontinhos (...) pelas palavras corretas para executar o comando que estará sendo demonstrado."
   ]
  },
  {
   "cell_type": "markdown",
   "metadata": {},
   "source": [
    "## <a id = \"parte0\"></a> <span style=\"color: orange;\"> Parte 0 - Overview da programação em R para o Workshop</span>\n",
    "Nessa parte vamos passar pelo básico do básico do básico na programação R.\n",
    "### <a id = \"valores_variávies\"></a> Atribuição de valores a variáveis\n",
    "Em `R` além de usar o clássico `=` para atrbuir valores a variáveis, nós usamos uma setinha `<-`<br>\n",
    "O comando para \"imprimir\" alguma coisa é o `print()`. <br>\n",
    "Caso você queira juntar/ concatenar dois textos separados por espaço, use a função `paste()` <br>\n",
    "Comentários são coisas escritas no código que são ignoradas pelo computador na hora de executar. No `R` são feitos colocando uma hastag na frente do texto."
   ]
  },
  {
   "cell_type": "code",
   "execution_count": 5,
   "metadata": {},
   "outputs": [],
   "source": [
    "#isso é um comentário"
   ]
  },
  {
   "cell_type": "code",
   "execution_count": 2,
   "metadata": {},
   "outputs": [
    {
     "name": "stdout",
     "output_type": "stream",
     "text": [
      "[1] 2\n"
     ]
    }
   ],
   "source": [
    "#Atribuindo um valor à uma variável\n",
    "a <- 2\n",
    "print(a)"
   ]
  },
  {
   "cell_type": "code",
   "execution_count": 3,
   "metadata": {},
   "outputs": [
    {
     "name": "stdout",
     "output_type": "stream",
     "text": [
      "[1] \"Meu nome é Rodolfo\"\n"
     ]
    }
   ],
   "source": [
    "b <- \"Meu nome é\"\n",
    "c <- \"Rodolfo\"\n",
    "d <- paste(b,c)\n",
    "print(d)"
   ]
  },
  {
   "cell_type": "code",
   "execution_count": 4,
   "metadata": {},
   "outputs": [
    {
     "name": "stdout",
     "output_type": "stream",
     "text": [
      "[1] \"Meu nome é Rodolfo\"\n",
      "[1] \"o valor de a é: 2\"\n"
     ]
    }
   ],
   "source": [
    "print(paste(b,c))\n",
    "print(paste(\"o valor de a é:\",a))"
   ]
  },
  {
   "cell_type": "markdown",
   "metadata": {},
   "source": [
    "Vamos dar uma olhada em alguns tipos de variáveis."
   ]
  },
  {
   "cell_type": "code",
   "execution_count": 19,
   "metadata": {},
   "outputs": [
    {
     "name": "stdout",
     "output_type": "stream",
     "text": [
      "[1] \"um_lógico: FALSE\"\n",
      "[1] \"um_double: 3.444\"\n",
      "[1] \"um_inteiro: 5\"\n",
      "[1] \"um_vetor:\"\n",
      "[1] 5 5 3 2\n",
      "[1] \"uma_string: Roberto\"\n"
     ]
    }
   ],
   "source": [
    "um_logico <- FALSE\n",
    "print(paste(\"um_lógico:\", um_logico))\n",
    "um_double <- 3.444\n",
    "print(paste(\"um_double:\", um_double))\n",
    "um_inteiro <- 5\n",
    "print(paste(\"um_inteiro:\", um_inteiro))\n",
    "um_vetor <- c(5,5,3,2)\n",
    "print(\"um_vetor:\")\n",
    "print(um_vetor)\n",
    "uma_string <- \"Roberto\"\n",
    "print(paste(\"uma_string:\", uma_string))"
   ]
  },
  {
   "cell_type": "markdown",
   "metadata": {},
   "source": [
    "### <a id = \"dataframes\"></a> Tabelas de Dados (dataframes)\n",
    "Um tipo de variável muito importante para nós nesse workshop são os DataFrames. Os dataframes são basicamente tabelas, só que com um nome mais chique. Sua diferença com tabelas é que suas colunas possuem nomes e cada coluna pode ter um tipo de dado diferente. <br>\n",
    "Para criar um dataframe, utilize a função `data.frame()` do `R`."
   ]
  },
  {
   "cell_type": "code",
   "execution_count": 1,
   "metadata": {},
   "outputs": [],
   "source": [
    "disciplina <- c('Matemática', 'Português', 'Física', 'Geografia', 'Biologia')\n",
    "nota <- c(7.5,5,8,7.5,6)\n",
    "notas_e_disciplinas <- data.frame(disciplina,nota)"
   ]
  },
  {
   "cell_type": "markdown",
   "metadata": {},
   "source": [
    "Para visualizar nosso dataframe, podemos usar o print normalmente. O resultado será o mesmo esteja você no jupyter-notebook, no RStudio ou em qualquer outro lugar.\n",
    "<br>\n",
    "Agora, o jupyter é feito especialmente pensando-se em trabalhar com dados. Então usando a função `head()` (em que você especifica quantas linhas quer imprimir) ou simplmesmente digitando o nome do dataframe, ele será impresso de uma forma mais bonita."
   ]
  },
  {
   "cell_type": "code",
   "execution_count": 16,
   "metadata": {},
   "outputs": [
    {
     "name": "stdout",
     "output_type": "stream",
     "text": [
      "  disciplina nota\n",
      "1 Matemática  7.5\n",
      "2  Português  5.0\n",
      "3     Física  8.0\n",
      "4  Geografia  7.5\n",
      "5   Biologia  6.0\n"
     ]
    }
   ],
   "source": [
    "print(notas_e_disciplinas)"
   ]
  },
  {
   "cell_type": "code",
   "execution_count": 18,
   "metadata": {},
   "outputs": [
    {
     "data": {
      "text/html": [
       "<table>\n",
       "<caption>A data.frame: 5 × 2</caption>\n",
       "<thead>\n",
       "\t<tr><th scope=col>disciplina</th><th scope=col>nota</th></tr>\n",
       "\t<tr><th scope=col>&lt;fct&gt;</th><th scope=col>&lt;dbl&gt;</th></tr>\n",
       "</thead>\n",
       "<tbody>\n",
       "\t<tr><td>Matemática</td><td>7.5</td></tr>\n",
       "\t<tr><td>Português </td><td>5.0</td></tr>\n",
       "\t<tr><td>Física    </td><td>8.0</td></tr>\n",
       "\t<tr><td>Geografia </td><td>7.5</td></tr>\n",
       "\t<tr><td>Biologia  </td><td>6.0</td></tr>\n",
       "</tbody>\n",
       "</table>\n"
      ],
      "text/latex": [
       "A data.frame: 5 × 2\n",
       "\\begin{tabular}{ll}\n",
       " disciplina & nota\\\\\n",
       " <fct> & <dbl>\\\\\n",
       "\\hline\n",
       "\t Matemática & 7.5\\\\\n",
       "\t Português  & 5.0\\\\\n",
       "\t Física     & 8.0\\\\\n",
       "\t Geografia  & 7.5\\\\\n",
       "\t Biologia   & 6.0\\\\\n",
       "\\end{tabular}\n"
      ],
      "text/markdown": [
       "\n",
       "A data.frame: 5 × 2\n",
       "\n",
       "| disciplina &lt;fct&gt; | nota &lt;dbl&gt; |\n",
       "|---|---|\n",
       "| Matemática | 7.5 |\n",
       "| Português  | 5.0 |\n",
       "| Física     | 8.0 |\n",
       "| Geografia  | 7.5 |\n",
       "| Biologia   | 6.0 |\n",
       "\n"
      ],
      "text/plain": [
       "  disciplina nota\n",
       "1 Matemática 7.5 \n",
       "2 Português  5.0 \n",
       "3 Física     8.0 \n",
       "4 Geografia  7.5 \n",
       "5 Biologia   6.0 "
      ]
     },
     "metadata": {},
     "output_type": "display_data"
    }
   ],
   "source": [
    "notas_e_disciplinas"
   ]
  },
  {
   "cell_type": "code",
   "execution_count": 17,
   "metadata": {},
   "outputs": [
    {
     "data": {
      "text/html": [
       "<table>\n",
       "<caption>A data.frame: 3 × 2</caption>\n",
       "<thead>\n",
       "\t<tr><th></th><th scope=col>disciplina</th><th scope=col>nota</th></tr>\n",
       "\t<tr><th></th><th scope=col>&lt;fct&gt;</th><th scope=col>&lt;dbl&gt;</th></tr>\n",
       "</thead>\n",
       "<tbody>\n",
       "\t<tr><th scope=row>1</th><td>Matemática</td><td>7.5</td></tr>\n",
       "\t<tr><th scope=row>2</th><td>Português </td><td>5.0</td></tr>\n",
       "\t<tr><th scope=row>3</th><td>Física    </td><td>8.0</td></tr>\n",
       "</tbody>\n",
       "</table>\n"
      ],
      "text/latex": [
       "A data.frame: 3 × 2\n",
       "\\begin{tabular}{r|ll}\n",
       "  & disciplina & nota\\\\\n",
       "  & <fct> & <dbl>\\\\\n",
       "\\hline\n",
       "\t1 & Matemática & 7.5\\\\\n",
       "\t2 & Português  & 5.0\\\\\n",
       "\t3 & Física     & 8.0\\\\\n",
       "\\end{tabular}\n"
      ],
      "text/markdown": [
       "\n",
       "A data.frame: 3 × 2\n",
       "\n",
       "| <!--/--> | disciplina &lt;fct&gt; | nota &lt;dbl&gt; |\n",
       "|---|---|---|\n",
       "| 1 | Matemática | 7.5 |\n",
       "| 2 | Português  | 5.0 |\n",
       "| 3 | Física     | 8.0 |\n",
       "\n"
      ],
      "text/plain": [
       "  disciplina nota\n",
       "1 Matemática 7.5 \n",
       "2 Português  5.0 \n",
       "3 Física     8.0 "
      ]
     },
     "metadata": {},
     "output_type": "display_data"
    }
   ],
   "source": [
    "head(notas_e_disciplinas, 3)"
   ]
  },
  {
   "cell_type": "markdown",
   "metadata": {},
   "source": [
    "#### Selecionando colunas do dataframe"
   ]
  },
  {
   "cell_type": "code",
   "execution_count": 21,
   "metadata": {},
   "outputs": [
    {
     "data": {
      "text/html": [
       "<style>\n",
       ".list-inline {list-style: none; margin:0; padding: 0}\n",
       ".list-inline>li {display: inline-block}\n",
       ".list-inline>li:not(:last-child)::after {content: \"\\00b7\"; padding: 0 .5ex}\n",
       "</style>\n",
       "<ol class=list-inline><li>7.5</li><li>5</li><li>8</li><li>7.5</li><li>6</li></ol>\n"
      ],
      "text/latex": [
       "\\begin{enumerate*}\n",
       "\\item 7.5\n",
       "\\item 5\n",
       "\\item 8\n",
       "\\item 7.5\n",
       "\\item 6\n",
       "\\end{enumerate*}\n"
      ],
      "text/markdown": [
       "1. 7.5\n",
       "2. 5\n",
       "3. 8\n",
       "4. 7.5\n",
       "5. 6\n",
       "\n",
       "\n"
      ],
      "text/plain": [
       "[1] 7.5 5.0 8.0 7.5 6.0"
      ]
     },
     "metadata": {},
     "output_type": "display_data"
    }
   ],
   "source": [
    "notas_e_disciplinas$nota"
   ]
  },
  {
   "cell_type": "code",
   "execution_count": 22,
   "metadata": {},
   "outputs": [
    {
     "data": {
      "text/html": [
       "<style>\n",
       ".list-inline {list-style: none; margin:0; padding: 0}\n",
       ".list-inline>li {display: inline-block}\n",
       ".list-inline>li:not(:last-child)::after {content: \"\\00b7\"; padding: 0 .5ex}\n",
       "</style>\n",
       "<ol class=list-inline><li>Matemática</li><li>Português</li><li>Física</li><li>Geografia</li><li>Biologia</li></ol>\n",
       "\n",
       "<details>\n",
       "\t<summary style=display:list-item;cursor:pointer>\n",
       "\t\t<strong>Levels</strong>:\n",
       "\t</summary>\n",
       "\t<style>\n",
       "\t.list-inline {list-style: none; margin:0; padding: 0}\n",
       "\t.list-inline>li {display: inline-block}\n",
       "\t.list-inline>li:not(:last-child)::after {content: \"\\00b7\"; padding: 0 .5ex}\n",
       "\t</style>\n",
       "\t<ol class=list-inline><li>'Biologia'</li><li>'Física'</li><li>'Geografia'</li><li>'Matemática'</li><li>'Português'</li></ol>\n",
       "</details>"
      ],
      "text/latex": [
       "\\begin{enumerate*}\n",
       "\\item Matemática\n",
       "\\item Português\n",
       "\\item Física\n",
       "\\item Geografia\n",
       "\\item Biologia\n",
       "\\end{enumerate*}\n",
       "\n",
       "\\emph{Levels}: \\begin{enumerate*}\n",
       "\\item 'Biologia'\n",
       "\\item 'Física'\n",
       "\\item 'Geografia'\n",
       "\\item 'Matemática'\n",
       "\\item 'Português'\n",
       "\\end{enumerate*}\n"
      ],
      "text/markdown": [
       "1. Matemática\n",
       "2. Português\n",
       "3. Física\n",
       "4. Geografia\n",
       "5. Biologia\n",
       "\n",
       "\n",
       "\n",
       "**Levels**: 1. 'Biologia'\n",
       "2. 'Física'\n",
       "3. 'Geografia'\n",
       "4. 'Matemática'\n",
       "5. 'Português'\n",
       "\n",
       "\n"
      ],
      "text/plain": [
       "[1] Matemática Português  Física     Geografia  Biologia  \n",
       "Levels: Biologia Física Geografia Matemática Português"
      ]
     },
     "metadata": {},
     "output_type": "display_data"
    }
   ],
   "source": [
    "notas_e_disciplinas$disciplina"
   ]
  },
  {
   "cell_type": "markdown",
   "metadata": {},
   "source": [
    "## <a id = \"parte1\"></a> <span style=\"color: orange;\"> Parte 1 - Importando dados em R </span>"
   ]
  },
  {
   "cell_type": "markdown",
   "metadata": {},
   "source": [
    "Quando vamos fazer nossa análise de dados, comumente devemos trazer esses dados de algum outro arquivo, o que nos pede um pouco de cuidado. <br> Por exemplo, é importante sabermos qual é o tipo de arquivo que estamos importando, pois isso pode fazer nosso programa ler os dados errôneamente. <br> Um dos formatos mais comums para a análise de dados é o **CSV**, ou *Comma separeted values*."
   ]
  },
  {
   "cell_type": "markdown",
   "metadata": {},
   "source": [
    "![img](img/csv_meme.jpg)"
   ]
  },
  {
   "cell_type": "markdown",
   "metadata": {},
   "source": [
    "### <a id=\"importando_csv\"></a>Importando um arquivo CSV "
   ]
  },
  {
   "cell_type": "markdown",
   "metadata": {},
   "source": [
    "```R\n",
    "mydata <- read.csv(\"Data.csv\", header=TRUE)\n",
    "```"
   ]
  },
  {
   "cell_type": "markdown",
   "metadata": {},
   "source": [
    "```mydata``` é o nome da variável que atribuiremos o conteúdo do arquivo que estamos lendo <br>\n",
    "```read.csv``` lê arquivos que possuem este formato<br>\n",
    "O nome do arquivo deve vir dentro de aspas (simples ou dupla). Neste caso o arquivo está no mesmo diretório em que o nosso programa está sendo salvo, por isso não há necessidade de especificar diretórios anteriores. <br>\n",
    "```header=TRUE``` que significa que a primeira linha do nosso arquivo contém o nome das colunas."
   ]
  },
  {
   "cell_type": "markdown",
   "metadata": {},
   "source": [
    "### Alguns problemas "
   ]
  },
  {
   "cell_type": "markdown",
   "metadata": {},
   "source": [
    "Caso o arquivo esteja em um diretório diferente, é necessário identificá-lo. <br>\n",
    "Além disso, caso a primeira linha já contenha dados, vc deve trocar o argumento por ```header=FALSE```. <br>\n",
    "No caso do separador não ser a vírgula, podemos usar o argumento  ```sep=\" \"``` como o separador desejado. <br>\n",
    "Vamos ver um exemplo com esses casos juntos:"
   ]
  },
  {
   "cell_type": "markdown",
   "metadata": {},
   "source": [
    "```R\n",
    "mydata <- read.csv(\"C:/Usuarios/Caminho/do/arquivo/Data.csv\", header=FALSE, sep=\";\")\n",
    "```"
   ]
  },
  {
   "cell_type": "markdown",
   "metadata": {},
   "source": [
    "```R\n",
    "names(mydata) <- c('id','name','type')\n",
    "```"
   ]
  },
  {
   "cell_type": "markdown",
   "metadata": {},
   "source": [
    "## <a id=\"boas_praticas\"></a> Boas Práticas "
   ]
  },
  {
   "cell_type": "markdown",
   "metadata": {},
   "source": [
    "Caso você não queira ter problemas na hora de importar dados para fazer suas análises, são necessárias algumas boas práticas na hora de criar seu arquivo."
   ]
  },
  {
   "cell_type": "markdown",
   "metadata": {},
   "source": [
    "Neste WorkShop, usaremos o dataset Adults, que possui dados do censo norte americano sobre fatores socioeconômicos. Vamos visualizá-lo no Excel para entender sua estrutura:"
   ]
  },
  {
   "cell_type": "markdown",
   "metadata": {},
   "source": [
    "![img2](img/excel_fifa.png)"
   ]
  },
  {
   "cell_type": "markdown",
   "metadata": {},
   "source": [
    "```\n",
    "\"\",\"sofifa_id\",\"short_name\",\"long_name\",\"age\",\"nationality\",\"club\",\"wage_eur\",\"player_positions\",\"preferred_foot\"\n",
    "\"2600\",223152,\"S. Vilakazi\",\"Sibusiso Vilakazi\",29,\"South Africa\",\"South Africa\",0,\"CAM, CF, RW\",\"Right\"\n",
    "\"11493\",244742,\"A. Ivan\",\"Andreas Ivan\",24,\"Romania\",\"New York Red Bulls\",2000,\"RM, LM\",\"Left\"\n",
    "\"11171\",248710,\"Paulino\",\"Paulino de la Fuente GÃ³mez\",22,\"Spain\",\"Deportivo AlavÃ©s\",5000,\"RM, CAM\",\"Left\"\n",
    "\"5780\",245598,\"I. Baba\",\"Iddrisu Baba Mohammed\",23,\"Ghana\",\"RCD Mallorca\",9000,\"CDM, CM\",\"Right\"\n",
    "\n",
    "```"
   ]
  },
  {
   "cell_type": "markdown",
   "metadata": {},
   "source": [
    "Datasets também podem ser montados num simples arquivo de texto:"
   ]
  },
  {
   "cell_type": "markdown",
   "metadata": {},
   "source": [
    "### Como escrever então seu arquivo de dados?"
   ]
  },
  {
   "cell_type": "markdown",
   "metadata": {},
   "source": [
    "1. Comece pela primeira linha e primeira coluna, ou seja, não pule células\n",
    "2. Inclua uma linha de títulos para cada coluna\n",
    "3. Tenha certeza que o número de títulos é igual ao número de colunas dos seus dados\n",
    "4. Não junte células, isso pode fazer seu programa ter problemas na hora de ler o arquivo\n",
    "5. No caso de arquivos de texto, use preferencialmente ```,``` como separador dos dados"
   ]
  },
  {
   "cell_type": "markdown",
   "metadata": {},
   "source": [
    "## <a id=\"importando_ws\"></a> Importando o arquivo do Workshop "
   ]
  },
  {
   "cell_type": "code",
   "execution_count": 1,
   "metadata": {},
   "outputs": [
    {
     "data": {
      "text/html": [
       "<table>\n",
       "<caption>A data.frame: 5 × 10</caption>\n",
       "<thead>\n",
       "\t<tr><th></th><th scope=col>X</th><th scope=col>sofifa_id</th><th scope=col>short_name</th><th scope=col>long_name</th><th scope=col>age</th><th scope=col>nationality</th><th scope=col>club</th><th scope=col>wage_eur</th><th scope=col>player_positions</th><th scope=col>preferred_foot</th></tr>\n",
       "\t<tr><th></th><th scope=col>&lt;int&gt;</th><th scope=col>&lt;int&gt;</th><th scope=col>&lt;fct&gt;</th><th scope=col>&lt;fct&gt;</th><th scope=col>&lt;int&gt;</th><th scope=col>&lt;fct&gt;</th><th scope=col>&lt;fct&gt;</th><th scope=col>&lt;int&gt;</th><th scope=col>&lt;fct&gt;</th><th scope=col>&lt;fct&gt;</th></tr>\n",
       "</thead>\n",
       "<tbody>\n",
       "\t<tr><th scope=row>1</th><td> 2600</td><td>223152</td><td>S. Vilakazi</td><td>Sibusiso Vilakazi         </td><td>29</td><td>South Africa</td><td>South Africa      </td><td>   0</td><td>CAM, CF, RW</td><td>Right</td></tr>\n",
       "\t<tr><th scope=row>2</th><td>11493</td><td>244742</td><td>A. Ivan    </td><td>Andreas Ivan              </td><td>24</td><td>Romania     </td><td>New York Red Bulls</td><td>2000</td><td>RM, LM     </td><td>Left </td></tr>\n",
       "\t<tr><th scope=row>3</th><td>11171</td><td>248710</td><td>Paulino    </td><td>Paulino de la Fuente Gómez</td><td>22</td><td>Spain       </td><td>Deportivo Alavés  </td><td>5000</td><td>RM, CAM    </td><td>Left </td></tr>\n",
       "\t<tr><th scope=row>4</th><td> 5780</td><td>245598</td><td>I. Baba    </td><td>Iddrisu Baba Mohammed     </td><td>23</td><td>Ghana       </td><td>RCD Mallorca      </td><td>9000</td><td>CDM, CM    </td><td>Right</td></tr>\n",
       "\t<tr><th scope=row>5</th><td>17256</td><td>247856</td><td>B. Nieto   </td><td>Byron Nieto               </td><td>21</td><td>Chile       </td><td>CD Antofagasta    </td><td>1000</td><td>RM, RB     </td><td>Right</td></tr>\n",
       "</tbody>\n",
       "</table>\n"
      ],
      "text/latex": [
       "A data.frame: 5 × 10\n",
       "\\begin{tabular}{r|llllllllll}\n",
       "  & X & sofifa\\_id & short\\_name & long\\_name & age & nationality & club & wage\\_eur & player\\_positions & preferred\\_foot\\\\\n",
       "  & <int> & <int> & <fct> & <fct> & <int> & <fct> & <fct> & <int> & <fct> & <fct>\\\\\n",
       "\\hline\n",
       "\t1 &  2600 & 223152 & S. Vilakazi & Sibusiso Vilakazi          & 29 & South Africa & South Africa       &    0 & CAM, CF, RW & Right\\\\\n",
       "\t2 & 11493 & 244742 & A. Ivan     & Andreas Ivan               & 24 & Romania      & New York Red Bulls & 2000 & RM, LM      & Left \\\\\n",
       "\t3 & 11171 & 248710 & Paulino     & Paulino de la Fuente Gómez & 22 & Spain        & Deportivo Alavés   & 5000 & RM, CAM     & Left \\\\\n",
       "\t4 &  5780 & 245598 & I. Baba     & Iddrisu Baba Mohammed      & 23 & Ghana        & RCD Mallorca       & 9000 & CDM, CM     & Right\\\\\n",
       "\t5 & 17256 & 247856 & B. Nieto    & Byron Nieto                & 21 & Chile        & CD Antofagasta     & 1000 & RM, RB      & Right\\\\\n",
       "\\end{tabular}\n"
      ],
      "text/markdown": [
       "\n",
       "A data.frame: 5 × 10\n",
       "\n",
       "| <!--/--> | X &lt;int&gt; | sofifa_id &lt;int&gt; | short_name &lt;fct&gt; | long_name &lt;fct&gt; | age &lt;int&gt; | nationality &lt;fct&gt; | club &lt;fct&gt; | wage_eur &lt;int&gt; | player_positions &lt;fct&gt; | preferred_foot &lt;fct&gt; |\n",
       "|---|---|---|---|---|---|---|---|---|---|---|\n",
       "| 1 |  2600 | 223152 | S. Vilakazi | Sibusiso Vilakazi          | 29 | South Africa | South Africa       |    0 | CAM, CF, RW | Right |\n",
       "| 2 | 11493 | 244742 | A. Ivan     | Andreas Ivan               | 24 | Romania      | New York Red Bulls | 2000 | RM, LM      | Left  |\n",
       "| 3 | 11171 | 248710 | Paulino     | Paulino de la Fuente Gómez | 22 | Spain        | Deportivo Alavés   | 5000 | RM, CAM     | Left  |\n",
       "| 4 |  5780 | 245598 | I. Baba     | Iddrisu Baba Mohammed      | 23 | Ghana        | RCD Mallorca       | 9000 | CDM, CM     | Right |\n",
       "| 5 | 17256 | 247856 | B. Nieto    | Byron Nieto                | 21 | Chile        | CD Antofagasta     | 1000 | RM, RB      | Right |\n",
       "\n"
      ],
      "text/plain": [
       "  X     sofifa_id short_name  long_name                  age nationality \n",
       "1  2600 223152    S. Vilakazi Sibusiso Vilakazi          29  South Africa\n",
       "2 11493 244742    A. Ivan     Andreas Ivan               24  Romania     \n",
       "3 11171 248710    Paulino     Paulino de la Fuente Gómez 22  Spain       \n",
       "4  5780 245598    I. Baba     Iddrisu Baba Mohammed      23  Ghana       \n",
       "5 17256 247856    B. Nieto    Byron Nieto                21  Chile       \n",
       "  club               wage_eur player_positions preferred_foot\n",
       "1 South Africa          0     CAM, CF, RW      Right         \n",
       "2 New York Red Bulls 2000     RM, LM           Left          \n",
       "3 Deportivo Alavés   5000     RM, CAM          Left          \n",
       "4 RCD Mallorca       9000     CDM, CM          Right         \n",
       "5 CD Antofagasta     1000     RM, RB           Right         "
      ]
     },
     "metadata": {},
     "output_type": "display_data"
    }
   ],
   "source": [
    "mydata <- read.csv(\"fifa_sample_wsR.csv\", header=TRUE)\n",
    "head(mydata, 5)"
   ]
  },
  {
   "cell_type": "markdown",
   "metadata": {},
   "source": [
    "Note que por padrão, R lê seu arquivo CSV como se fosse separado por ```,``` <br>\n",
    "O que acontece então se usarmos outro separador?"
   ]
  },
  {
   "cell_type": "code",
   "execution_count": 2,
   "metadata": {},
   "outputs": [
    {
     "data": {
      "text/html": [
       "<table>\n",
       "<thead><tr><th scope=col>X.sofifa_id.short_name.long_name.age.nationality.club.wage_eur.player_positions.preferred_foot</th></tr></thead>\n",
       "<tbody>\n",
       "\t<tr><td>2600,223152,S. Vilakazi,Sibusiso Vilakazi,29,South Africa,South Africa,0,CAM, CF, RW,Right   </td></tr>\n",
       "\t<tr><td>11493,244742,A. Ivan,Andreas Ivan,24,Romania,New York Red Bulls,2000,RM, LM,Left             </td></tr>\n",
       "\t<tr><td>11171,248710,Paulino,Paulino de la Fuente GÃ³mez,22,Spain,Deportivo AlavÃ©s,5000,RM, CAM,Left</td></tr>\n",
       "\t<tr><td>5780,245598,I. Baba,Iddrisu Baba Mohammed,23,Ghana,RCD Mallorca,9000,CDM, CM,Right           </td></tr>\n",
       "\t<tr><td>17256,247856,B. Nieto,Byron Nieto,21,Chile,CD Antofagasta,1000,RM, RB,Right                  </td></tr>\n",
       "</tbody>\n",
       "</table>\n"
      ],
      "text/latex": [
       "\\begin{tabular}{r|l}\n",
       " X.sofifa\\_id.short\\_name.long\\_name.age.nationality.club.wage\\_eur.player\\_positions.preferred\\_foot\\\\\n",
       "\\hline\n",
       "\t 2600,223152,S. Vilakazi,Sibusiso Vilakazi,29,South Africa,South Africa,0,CAM, CF, RW,Right   \\\\\n",
       "\t 11493,244742,A. Ivan,Andreas Ivan,24,Romania,New York Red Bulls,2000,RM, LM,Left             \\\\\n",
       "\t 11171,248710,Paulino,Paulino de la Fuente GÃ³mez,22,Spain,Deportivo AlavÃ©s,5000,RM, CAM,Left\\\\\n",
       "\t 5780,245598,I. Baba,Iddrisu Baba Mohammed,23,Ghana,RCD Mallorca,9000,CDM, CM,Right           \\\\\n",
       "\t 17256,247856,B. Nieto,Byron Nieto,21,Chile,CD Antofagasta,1000,RM, RB,Right                  \\\\\n",
       "\\end{tabular}\n"
      ],
      "text/markdown": [
       "\n",
       "| X.sofifa_id.short_name.long_name.age.nationality.club.wage_eur.player_positions.preferred_foot |\n",
       "|---|\n",
       "| 2600,223152,S. Vilakazi,Sibusiso Vilakazi,29,South Africa,South Africa,0,CAM, CF, RW,Right    |\n",
       "| 11493,244742,A. Ivan,Andreas Ivan,24,Romania,New York Red Bulls,2000,RM, LM,Left              |\n",
       "| 11171,248710,Paulino,Paulino de la Fuente GÃ³mez,22,Spain,Deportivo AlavÃ©s,5000,RM, CAM,Left |\n",
       "| 5780,245598,I. Baba,Iddrisu Baba Mohammed,23,Ghana,RCD Mallorca,9000,CDM, CM,Right            |\n",
       "| 17256,247856,B. Nieto,Byron Nieto,21,Chile,CD Antofagasta,1000,RM, RB,Right                   |\n",
       "\n"
      ],
      "text/plain": [
       "  X.sofifa_id.short_name.long_name.age.nationality.club.wage_eur.player_positions.preferred_foot\n",
       "1 2600,223152,S. Vilakazi,Sibusiso Vilakazi,29,South Africa,South Africa,0,CAM, CF, RW,Right    \n",
       "2 11493,244742,A. Ivan,Andreas Ivan,24,Romania,New York Red Bulls,2000,RM, LM,Left              \n",
       "3 11171,248710,Paulino,Paulino de la Fuente GÃ³mez,22,Spain,Deportivo AlavÃ©s,5000,RM, CAM,Left \n",
       "4 5780,245598,I. Baba,Iddrisu Baba Mohammed,23,Ghana,RCD Mallorca,9000,CDM, CM,Right            \n",
       "5 17256,247856,B. Nieto,Byron Nieto,21,Chile,CD Antofagasta,1000,RM, RB,Right                   "
      ]
     },
     "metadata": {},
     "output_type": "display_data"
    }
   ],
   "source": [
    "mydata <- read.csv(\"fifa_sample_wsR.csv\", header=TRUE, sep=\";\")\n",
    "head(mydata, 5)"
   ]
  },
  {
   "cell_type": "markdown",
   "metadata": {},
   "source": [
    "<img src=\"img/surprised_face.jpg\" width=\"300\"/>"
   ]
  },
  {
   "cell_type": "code",
   "execution_count": 8,
   "metadata": {
    "scrolled": false
   },
   "outputs": [
    {
     "data": {
      "text/html": [
       "<table>\n",
       "<thead><tr><th scope=col>X</th><th scope=col>sofifa_id</th><th scope=col>short_name</th><th scope=col>long_name</th><th scope=col>age</th><th scope=col>height_cm</th><th scope=col>weight_kg</th><th scope=col>nationality</th><th scope=col>club</th><th scope=col>wage_eur</th><th scope=col>player_positions</th><th scope=col>preferred_foot</th></tr></thead>\n",
       "<tbody>\n",
       "\t<tr><td> 1813                    </td><td>224599                   </td><td>Yan Junling              </td><td>é¢œéªå‡Œ                </td><td>28                       </td><td>191                      </td><td>83                       </td><td>China PR                 </td><td>Shanghai SIPG FC         </td><td>13000                    </td><td>GK                       </td><td>Right                    </td></tr>\n",
       "\t<tr><td>12287                    </td><td>243530                   </td><td>Mujaid                   </td><td>Mujaid Sadick Aliu       </td><td>19                       </td><td>180                      </td><td>75                       </td><td>Spain                    </td><td>Deportivo de La CoruÃ±a  </td><td> 1000                    </td><td>CB, RB                   </td><td>Right                    </td></tr>\n",
       "\t<tr><td> 4257                    </td><td>202676                   </td><td>A. Taggart               </td><td>Adam Taggart             </td><td>26                       </td><td>183                      </td><td>70                       </td><td>Australia                </td><td>Suwon Samsung Bluewings  </td><td> 6000                    </td><td>ST, CF                   </td><td>Right                    </td></tr>\n",
       "\t<tr><td> 8794                    </td><td>241187                   </td><td>L. Geertruida            </td><td>Lutsharel Geertruida     </td><td>18                       </td><td>180                      </td><td>75                       </td><td>Netherlands              </td><td>Feyenoord                </td><td> 1000                    </td><td>CB, CDM, RB              </td><td>Right                    </td></tr>\n",
       "\t<tr><td> 3851                    </td><td>193254                   </td><td>C. Trimmel               </td><td>Christopher Trimmel      </td><td>32                       </td><td>189                      </td><td>82                       </td><td>Austria                  </td><td>1. FC Union Berlin       </td><td>24000                    </td><td>RB                       </td><td>Right                    </td></tr>\n",
       "\t<tr><td>15820                    </td><td>180181                   </td><td>K. Browne                </td><td>Kenny Browne             </td><td>32                       </td><td>191                      </td><td>86                       </td><td>Republic of Ireland      </td><td>Waterford FC             </td><td> 1000                    </td><td>CB                       </td><td>Left                     </td></tr>\n",
       "\t<tr><td>16591                    </td><td>245142                   </td><td>R. BorkaÅ‚a              </td><td>Remigiusz BorkaÅ‚a       </td><td>20                       </td><td>176                      </td><td>72                       </td><td>Poland                   </td><td>Piast Gliwice            </td><td> 1000                    </td><td>RM                       </td><td>Right                    </td></tr>\n",
       "\t<tr><td> 2880                    </td><td>188091                   </td><td>F. Gulbrandsen           </td><td>Fredrik Gulbrandsen      </td><td>26                       </td><td>175                      </td><td>79                       </td><td>Norway                   </td><td>Medipol BaÅŸakÅŸehir FK  </td><td>31000                    </td><td>ST                       </td><td>Right                    </td></tr>\n",
       "\t<tr><td>  349                    </td><td>207877                   </td><td>J. MartÃ­nez             </td><td>Josef Alexander MartÃ­nez</td><td>26                       </td><td>170                      </td><td>69                       </td><td>Venezuela                </td><td>Atlanta United           </td><td>14000                    </td><td>ST                       </td><td>Right                    </td></tr>\n",
       "\t<tr><td>18081                    </td><td>251306                   </td><td>A. Randell               </td><td>Adam Randell             </td><td>18                       </td><td>177                      </td><td>69                       </td><td>England                  </td><td>Plymouth Argyle          </td><td> 1000                    </td><td>CM                       </td><td>Right                    </td></tr>\n",
       "</tbody>\n",
       "</table>\n"
      ],
      "text/latex": [
       "\\begin{tabular}{r|llllllllllll}\n",
       " X & sofifa\\_id & short\\_name & long\\_name & age & height\\_cm & weight\\_kg & nationality & club & wage\\_eur & player\\_positions & preferred\\_foot\\\\\n",
       "\\hline\n",
       "\t  1813                     & 224599                    & Yan Junling               & é¢œéªå‡Œ                 & 28                        & 191                       & 83                        & China PR                  & Shanghai SIPG FC          & 13000                     & GK                        & Right                    \\\\\n",
       "\t 12287                     & 243530                    & Mujaid                    & Mujaid Sadick Aliu        & 19                        & 180                       & 75                        & Spain                     & Deportivo de La CoruÃ±a   &  1000                     & CB, RB                    & Right                    \\\\\n",
       "\t  4257                     & 202676                    & A. Taggart                & Adam Taggart              & 26                        & 183                       & 70                        & Australia                 & Suwon Samsung Bluewings   &  6000                     & ST, CF                    & Right                    \\\\\n",
       "\t  8794                     & 241187                    & L. Geertruida             & Lutsharel Geertruida      & 18                        & 180                       & 75                        & Netherlands               & Feyenoord                 &  1000                     & CB, CDM, RB               & Right                    \\\\\n",
       "\t  3851                     & 193254                    & C. Trimmel                & Christopher Trimmel       & 32                        & 189                       & 82                        & Austria                   & 1. FC Union Berlin        & 24000                     & RB                        & Right                    \\\\\n",
       "\t 15820                     & 180181                    & K. Browne                 & Kenny Browne              & 32                        & 191                       & 86                        & Republic of Ireland       & Waterford FC              &  1000                     & CB                        & Left                     \\\\\n",
       "\t 16591                     & 245142                    & R. BorkaÅ‚a               & Remigiusz BorkaÅ‚a        & 20                        & 176                       & 72                        & Poland                    & Piast Gliwice             &  1000                     & RM                        & Right                    \\\\\n",
       "\t  2880                     & 188091                    & F. Gulbrandsen            & Fredrik Gulbrandsen       & 26                        & 175                       & 79                        & Norway                    & Medipol BaÅŸakÅŸehir FK   & 31000                     & ST                        & Right                    \\\\\n",
       "\t   349                     & 207877                    & J. MartÃ­nez              & Josef Alexander MartÃ­nez & 26                        & 170                       & 69                        & Venezuela                 & Atlanta United            & 14000                     & ST                        & Right                    \\\\\n",
       "\t 18081                     & 251306                    & A. Randell                & Adam Randell              & 18                        & 177                       & 69                        & England                   & Plymouth Argyle           &  1000                     & CM                        & Right                    \\\\\n",
       "\\end{tabular}\n"
      ],
      "text/markdown": [
       "\n",
       "| X | sofifa_id | short_name | long_name | age | height_cm | weight_kg | nationality | club | wage_eur | player_positions | preferred_foot |\n",
       "|---|---|---|---|---|---|---|---|---|---|---|---|\n",
       "|  1813                     | 224599                    | Yan Junling               | é¢œéªå‡Œ                 | 28                        | 191                       | 83                        | China PR                  | Shanghai SIPG FC          | 13000                     | GK                        | Right                     |\n",
       "| 12287                     | 243530                    | Mujaid                    | Mujaid Sadick Aliu        | 19                        | 180                       | 75                        | Spain                     | Deportivo de La CoruÃ±a   |  1000                     | CB, RB                    | Right                     |\n",
       "|  4257                     | 202676                    | A. Taggart                | Adam Taggart              | 26                        | 183                       | 70                        | Australia                 | Suwon Samsung Bluewings   |  6000                     | ST, CF                    | Right                     |\n",
       "|  8794                     | 241187                    | L. Geertruida             | Lutsharel Geertruida      | 18                        | 180                       | 75                        | Netherlands               | Feyenoord                 |  1000                     | CB, CDM, RB               | Right                     |\n",
       "|  3851                     | 193254                    | C. Trimmel                | Christopher Trimmel       | 32                        | 189                       | 82                        | Austria                   | 1. FC Union Berlin        | 24000                     | RB                        | Right                     |\n",
       "| 15820                     | 180181                    | K. Browne                 | Kenny Browne              | 32                        | 191                       | 86                        | Republic of Ireland       | Waterford FC              |  1000                     | CB                        | Left                      |\n",
       "| 16591                     | 245142                    | R. BorkaÅ‚a               | Remigiusz BorkaÅ‚a        | 20                        | 176                       | 72                        | Poland                    | Piast Gliwice             |  1000                     | RM                        | Right                     |\n",
       "|  2880                     | 188091                    | F. Gulbrandsen            | Fredrik Gulbrandsen       | 26                        | 175                       | 79                        | Norway                    | Medipol BaÅŸakÅŸehir FK   | 31000                     | ST                        | Right                     |\n",
       "|   349                     | 207877                    | J. MartÃ­nez              | Josef Alexander MartÃ­nez | 26                        | 170                       | 69                        | Venezuela                 | Atlanta United            | 14000                     | ST                        | Right                     |\n",
       "| 18081                     | 251306                    | A. Randell                | Adam Randell              | 18                        | 177                       | 69                        | England                   | Plymouth Argyle           |  1000                     | CM                        | Right                     |\n",
       "\n"
      ],
      "text/plain": [
       "   X     sofifa_id short_name     long_name                 age height_cm\n",
       "1   1813 224599    Yan Junling    é¢œéª\\217å‡Œ                 28  191      \n",
       "2  12287 243530    Mujaid         Mujaid Sadick Aliu        19  180      \n",
       "3   4257 202676    A. Taggart     Adam Taggart              26  183      \n",
       "4   8794 241187    L. Geertruida  Lutsharel Geertruida      18  180      \n",
       "5   3851 193254    C. Trimmel     Christopher Trimmel       32  189      \n",
       "6  15820 180181    K. Browne      Kenny Browne              32  191      \n",
       "7  16591 245142    R. BorkaÅ‚a    Remigiusz BorkaÅ‚a        20  176      \n",
       "8   2880 188091    F. Gulbrandsen Fredrik Gulbrandsen       26  175      \n",
       "9    349 207877    J. MartÃ­nez   Josef Alexander MartÃ­nez 26  170      \n",
       "10 18081 251306    A. Randell     Adam Randell              18  177      \n",
       "   weight_kg nationality         club                    wage_eur\n",
       "1  83        China PR            Shanghai SIPG FC        13000   \n",
       "2  75        Spain               Deportivo de La CoruÃ±a  1000   \n",
       "3  70        Australia           Suwon Samsung Bluewings  6000   \n",
       "4  75        Netherlands         Feyenoord                1000   \n",
       "5  82        Austria             1. FC Union Berlin      24000   \n",
       "6  86        Republic of Ireland Waterford FC             1000   \n",
       "7  72        Poland              Piast Gliwice            1000   \n",
       "8  79        Norway              Medipol BaÅŸakÅŸehir FK 31000   \n",
       "9  69        Venezuela           Atlanta United          14000   \n",
       "10 69        England             Plymouth Argyle          1000   \n",
       "   player_positions preferred_foot\n",
       "1  GK               Right         \n",
       "2  CB, RB           Right         \n",
       "3  ST, CF           Right         \n",
       "4  CB, CDM, RB      Right         \n",
       "5  RB               Right         \n",
       "6  CB               Left          \n",
       "7  RM               Right         \n",
       "8  ST               Right         \n",
       "9  ST               Right         \n",
       "10 CM               Right         "
      ]
     },
     "metadata": {},
     "output_type": "display_data"
    }
   ],
   "source": [
    "fifa <- read.csv(\"fifa_sample_wsR.csv\", header=TRUE)\n",
    "head(fifa, 10)"
   ]
  },
  {
   "cell_type": "markdown",
   "metadata": {},
   "source": [
    "## <a id = \"parte2\"></a><span style=\"color: orange;\"> Parte 2 - Manipulação de dados em R </span>"
   ]
  },
  {
   "cell_type": "markdown",
   "metadata": {},
   "source": [
    "A linguagem R tem como um de seus grandes destaques o pacote Tidyverse.<br>\n",
    "Para falar a verdade, o Tidyverse não é um pacote em si, mas sim um conjunto de pacotes.<br>\n",
    "Dentro dele, encontramos o `dplyr`, que é instalado automaticamente com o `install.packages(\"tidyverse\")`.\n",
    "<br>\n",
    "Aqui uma [Cheat Sheet do dplyr](https://github.com/rstudio/cheatsheets/blob/master/data-transformation.pdf)\n",
    "<br>"
   ]
  },
  {
   "cell_type": "code",
   "execution_count": 11,
   "metadata": {
    "scrolled": true
   },
   "outputs": [],
   "source": [
    "library(dplyr)"
   ]
  },
  {
   "cell_type": "markdown",
   "metadata": {},
   "source": [
    "### <a id=\"dados_faltantes\"></a>Dados faltantes\n",
    "<br>\n",
    "Dados faltantes podem ser um grande problema quando estamos lidando com uma base de dados. Assim, uma abordagem geralmente aplicada é simplesmente removê-los da sua base de dados. No R, muitas funções (a grande maioria delas) exibe um parâmetro `na.rm` que abrevia \"remover NAs\" ou *not available* ."
   ]
  },
  {
   "cell_type": "code",
   "execution_count": 94,
   "metadata": {},
   "outputs": [
    {
     "name": "stdout",
     "output_type": "stream",
     "text": [
      "[1] NA\n"
     ]
    }
   ],
   "source": [
    "#definimos aqui um vetor, vamos ver o que acontece quando aplicamos a função mean()  a ele\n",
    "vetor <- c(2, 3, 4, 5, NA, 7)\n",
    "print(mean(vetor))"
   ]
  },
  {
   "cell_type": "code",
   "execution_count": 95,
   "metadata": {},
   "outputs": [
    {
     "name": "stdout",
     "output_type": "stream",
     "text": [
      "[1] 4.2\n"
     ]
    }
   ],
   "source": [
    "#Agora com o na.rm = TRUE\n",
    "print(mean(vetor, na.rm=TRUE))"
   ]
  },
  {
   "cell_type": "markdown",
   "metadata": {},
   "source": [
    "Outra coisa que podemos querer fazer é inputar algum dado padrão aos dados faltantes, isso pode ser feito da seguinte maneira:"
   ]
  },
  {
   "cell_type": "code",
   "execution_count": 96,
   "metadata": {
    "scrolled": true
   },
   "outputs": [
    {
     "name": "stdout",
     "output_type": "stream",
     "text": [
      "[1] 2 3 4 5 0 7\n"
     ]
    }
   ],
   "source": [
    "vetor[is.na(vetor)] <- 0\n",
    "print(vetor)"
   ]
  },
  {
   "cell_type": "code",
   "execution_count": 97,
   "metadata": {},
   "outputs": [
    {
     "name": "stdout",
     "output_type": "stream",
     "text": [
      "[1] 2.0 3.0 4.0 5.0 4.2 7.0\n"
     ]
    }
   ],
   "source": [
    "vetor <- c(2, 3, 4, 5, NA, 7)\n",
    "vetor[is.na(vetor)] <- mean(vetor, na.rm=TRUE)\n",
    "print(vetor)"
   ]
  },
  {
   "cell_type": "markdown",
   "metadata": {},
   "source": [
    "Vamos dar uma olhada na nossa tabela da Fifa, vamos ver se ela tem algum dado faltante."
   ]
  },
  {
   "cell_type": "code",
   "execution_count": 12,
   "metadata": {
    "scrolled": true
   },
   "outputs": [
    {
     "data": {
      "text/html": [
       "0"
      ],
      "text/latex": [
       "0"
      ],
      "text/markdown": [
       "0"
      ],
      "text/plain": [
       "[1] 0"
      ]
     },
     "metadata": {},
     "output_type": "display_data"
    }
   ],
   "source": [
    "#Calculando a quantidade de dados faltantes\n",
    "sum(is.na(fifa))"
   ]
  },
  {
   "cell_type": "markdown",
   "metadata": {},
   "source": [
    "Como não há dados faltantes, não precisamos nos preocupar."
   ]
  },
  {
   "cell_type": "markdown",
   "metadata": {},
   "source": [
    "### <a id=\"dplyr\"></a>Deep dive in dplyr\n",
    "Vamos agora nos aprofundar na biblioteca `dplyr`. <br>\n",
    "Essa biblioteca é boa porque deixa o nosso código extremamente legível para um ser humano.<br>\n",
    "Isso ocorre porque ela usa uma estrutura de \"verbos\" que regem o que será feito com a base de dados.<br>\n",
    "Os verbos existentes na biblioteca são os seguintes:\n",
    "1. `mutate()` - que adiciona novas variáveis (colunas) ao dataset a partir de operações/ aplicação de funções nas variáveis existentes \n",
    "2. `select()` - seleciona as colunas com base em critérios de nome\n",
    "3. `filter()` - filtra os dados com base em valores.\n",
    "4. `summarise()` - reduz um grande número de valores para valores resumo (como média, contagem, desvio, etc). Para quem mexe com excel, aqui seria algo para criar uma tabela dinâmica (pivot table). Em geral é usado com `group_by()`\n",
    "5. `arrange()`- muda a ordenação das linhas com base em algum critério\n",
    "<br>\n",
    "<br>\n",
    "Todos esses verbos podem ser performados tendo como critério um grupo, usando o `group_by()` , mas é mais comum usar isso no `summarise()`. <br>"
   ]
  },
  {
   "cell_type": "markdown",
   "metadata": {},
   "source": [
    "A estrutura de utilização dos verbos é bem simples: <br>\n",
    "`base de dados %>% verbo` <br>\n",
    "Podemos aplicar vários verbos em seguida também, com a seguinte estutura (a ordem de execução será a ordem desses verbos): <br>\n",
    "`base de dados %>% verbo1 %>% verbo2 %>% verbo3`"
   ]
  },
  {
   "cell_type": "markdown",
   "metadata": {},
   "source": [
    "Nesse Workshop, não usaremos todas essas funções, assim vamos explicar a que mais iremos usar e depois mostraremos um exemplo com todas as funções juntas para entender seu uso."
   ]
  },
  {
   "cell_type": "markdown",
   "metadata": {},
   "source": [
    "#### <a id=\"filter\"></a> `filter()` - Filtrando nossa base de dados!"
   ]
  },
  {
   "cell_type": "markdown",
   "metadata": {},
   "source": [
    "Vamos supor que você quer analisar sua base de dados e segmentar essa análise com base em algum critério. Isso é só um dos cenários em que pode ser muito importante você usar filtros!<br>\n",
    "Vamos aqui filtrar a base para ver jogadores com idade acima de 30 anos."
   ]
  },
  {
   "cell_type": "code",
   "execution_count": 16,
   "metadata": {
    "scrolled": true
   },
   "outputs": [
    {
     "data": {
      "text/html": [
       "<table>\n",
       "<thead><tr><th scope=col>X</th><th scope=col>sofifa_id</th><th scope=col>short_name</th><th scope=col>long_name</th><th scope=col>age</th><th scope=col>nationality</th><th scope=col>club</th><th scope=col>wage_eur</th><th scope=col>player_positions</th><th scope=col>preferred_foot</th></tr></thead>\n",
       "<tbody>\n",
       "\t<tr><td>  877                            </td><td>169115                           </td><td>A. Masiello                      </td><td>Andrea Masiello                  </td><td>33                               </td><td>Italy                            </td><td>Atalanta                         </td><td>48000                            </td><td>CB                               </td><td>Right                            </td></tr>\n",
       "\t<tr><td> 6343                            </td><td>184944                           </td><td>Charles                          </td><td>Charles Fernando Basilio da Silva</td><td>34                               </td><td>Brazil                           </td><td>Antalyaspor                      </td><td> 8000                            </td><td>CDM                              </td><td>Right                            </td></tr>\n",
       "\t<tr><td> 4510                            </td><td>184337                           </td><td>Go Yo Han                        </td><td>ê³ ìš”í•œ é«˜çº¦ç¿°              </td><td>31                               </td><td>Korea Republic                   </td><td>FC Seoul                         </td><td> 6000                            </td><td>CM, RM                           </td><td>Right                            </td></tr>\n",
       "\t<tr><td>11008                            </td><td>246719                           </td><td>D. Ojeda                         </td><td>Delio Ojeda                      </td><td>33                               </td><td>Paraguay                         </td><td>Jaguares de CÃ³rdoba             </td><td> 1000                            </td><td>CB                               </td><td>Right                            </td></tr>\n",
       "\t<tr><td> 2994                            </td><td>157716                           </td><td>M. Russ                          </td><td>Marco Russ                       </td><td>33                               </td><td>Germany                          </td><td>Eintracht Frankfurt              </td><td>24000                            </td><td>CB                               </td><td>Right                            </td></tr>\n",
       "</tbody>\n",
       "</table>\n"
      ],
      "text/latex": [
       "\\begin{tabular}{r|llllllllll}\n",
       " X & sofifa\\_id & short\\_name & long\\_name & age & nationality & club & wage\\_eur & player\\_positions & preferred\\_foot\\\\\n",
       "\\hline\n",
       "\t   877                             & 169115                            & A. Masiello                       & Andrea Masiello                   & 33                                & Italy                             & Atalanta                          & 48000                             & CB                                & Right                            \\\\\n",
       "\t  6343                             & 184944                            & Charles                           & Charles Fernando Basilio da Silva & 34                                & Brazil                            & Antalyaspor                       &  8000                             & CDM                               & Right                            \\\\\n",
       "\t  4510                             & 184337                            & Go Yo Han                         & ê³ ìš”í•œ é«˜çº¦ç¿°               & 31                                & Korea Republic                    & FC Seoul                          &  6000                             & CM, RM                            & Right                            \\\\\n",
       "\t 11008                             & 246719                            & D. Ojeda                          & Delio Ojeda                       & 33                                & Paraguay                          & Jaguares de CÃ³rdoba              &  1000                             & CB                                & Right                            \\\\\n",
       "\t  2994                             & 157716                            & M. Russ                           & Marco Russ                        & 33                                & Germany                           & Eintracht Frankfurt               & 24000                             & CB                                & Right                            \\\\\n",
       "\\end{tabular}\n"
      ],
      "text/markdown": [
       "\n",
       "| X | sofifa_id | short_name | long_name | age | nationality | club | wage_eur | player_positions | preferred_foot |\n",
       "|---|---|---|---|---|---|---|---|---|---|\n",
       "|   877                             | 169115                            | A. Masiello                       | Andrea Masiello                   | 33                                | Italy                             | Atalanta                          | 48000                             | CB                                | Right                             |\n",
       "|  6343                             | 184944                            | Charles                           | Charles Fernando Basilio da Silva | 34                                | Brazil                            | Antalyaspor                       |  8000                             | CDM                               | Right                             |\n",
       "|  4510                             | 184337                            | Go Yo Han                         | ê³ ìš”í•œ é«˜çº¦ç¿°               | 31                                | Korea Republic                    | FC Seoul                          |  6000                             | CM, RM                            | Right                             |\n",
       "| 11008                             | 246719                            | D. Ojeda                          | Delio Ojeda                       | 33                                | Paraguay                          | Jaguares de CÃ³rdoba              |  1000                             | CB                                | Right                             |\n",
       "|  2994                             | 157716                            | M. Russ                           | Marco Russ                        | 33                                | Germany                           | Eintracht Frankfurt               | 24000                             | CB                                | Right                             |\n",
       "\n"
      ],
      "text/plain": [
       "  X     sofifa_id short_name  long_name                         age\n",
       "1   877 169115    A. Masiello Andrea Masiello                   33 \n",
       "2  6343 184944    Charles     Charles Fernando Basilio da Silva 34 \n",
       "3  4510 184337    Go Yo Han   ê³ ìš”í•œ é«\\230çº¦ç¿°               31 \n",
       "4 11008 246719    D. Ojeda    Delio Ojeda                       33 \n",
       "5  2994 157716    M. Russ     Marco Russ                        33 \n",
       "  nationality    club                 wage_eur player_positions preferred_foot\n",
       "1 Italy          Atalanta             48000    CB               Right         \n",
       "2 Brazil         Antalyaspor           8000    CDM              Right         \n",
       "3 Korea Republic FC Seoul              6000    CM, RM           Right         \n",
       "4 Paraguay       Jaguares de CÃ³rdoba  1000    CB               Right         \n",
       "5 Germany        Eintracht Frankfurt  24000    CB               Right         "
      ]
     },
     "metadata": {},
     "output_type": "display_data"
    }
   ],
   "source": [
    "filtro_idade <- fifa %>% filter(age > 30)\n",
    "filtro_idade[1:5,]"
   ]
  },
  {
   "cell_type": "markdown",
   "metadata": {},
   "source": [
    "### <a id=\"varios_verbos\"></a> Usando vários verbos ao mesmo tempo\n",
    "\n",
    "Uma coisa legal do `dplyr` é que a gente pode usar vários verbos ao mesmo tempo"
   ]
  },
  {
   "cell_type": "markdown",
   "metadata": {},
   "source": [
    "Aqui vamos pegar uma base apenas com aqueles com **idade abaixo de 37 anos**, depois vamos avaliar as **combinações de nacionalidade e pé preferido** possíves, para cada uma dando sua **máxima idade**. Finalmente, vamos fazer com que os resultados sejam **ordenados da maior idade máxima para a menor**."
   ]
  },
  {
   "cell_type": "code",
   "execution_count": 18,
   "metadata": {},
   "outputs": [
    {
     "data": {
      "text/html": [
       "<table>\n",
       "<thead><tr><th scope=col>nationality</th><th scope=col>preferred_foot</th><th scope=col>idade_maxima</th></tr></thead>\n",
       "<tbody>\n",
       "\t<tr><td>England            </td><td>Right              </td><td>36                 </td></tr>\n",
       "\t<tr><td>Italy              </td><td>Right              </td><td>36                 </td></tr>\n",
       "\t<tr><td>New Zealand        </td><td>Right              </td><td>36                 </td></tr>\n",
       "\t<tr><td>Portugal           </td><td>Right              </td><td>36                 </td></tr>\n",
       "\t<tr><td>Scotland           </td><td>Right              </td><td>36                 </td></tr>\n",
       "\t<tr><td>Brazil             </td><td>Left               </td><td>35                 </td></tr>\n",
       "\t<tr><td>Brazil             </td><td>Right              </td><td>35                 </td></tr>\n",
       "\t<tr><td>Japan              </td><td>Right              </td><td>35                 </td></tr>\n",
       "\t<tr><td>Greece             </td><td>Right              </td><td>34                 </td></tr>\n",
       "\t<tr><td>Italy              </td><td>Left               </td><td>34                 </td></tr>\n",
       "\t<tr><td>Northern Ireland   </td><td>Right              </td><td>34                 </td></tr>\n",
       "\t<tr><td>Paraguay           </td><td>Right              </td><td>34                 </td></tr>\n",
       "\t<tr><td>Serbia             </td><td>Left               </td><td>34                 </td></tr>\n",
       "\t<tr><td>Colombia           </td><td>Right              </td><td>33                 </td></tr>\n",
       "\t<tr><td>France             </td><td>Right              </td><td>33                 </td></tr>\n",
       "\t<tr><td>Germany            </td><td>Right              </td><td>33                 </td></tr>\n",
       "\t<tr><td>Republic of Ireland</td><td>Right              </td><td>33                 </td></tr>\n",
       "\t<tr><td>Romania            </td><td>Right              </td><td>33                 </td></tr>\n",
       "\t<tr><td>Saudi Arabia       </td><td>Right              </td><td>33                 </td></tr>\n",
       "\t<tr><td>Turkey             </td><td>Right              </td><td>33                 </td></tr>\n",
       "\t<tr><td>France             </td><td>Left               </td><td>32                 </td></tr>\n",
       "\t<tr><td>Germany            </td><td>Left               </td><td>32                 </td></tr>\n",
       "\t<tr><td>Poland             </td><td>Right              </td><td>32                 </td></tr>\n",
       "\t<tr><td>Spain              </td><td>Right              </td><td>32                 </td></tr>\n",
       "\t<tr><td>Turkey             </td><td>Left               </td><td>32                 </td></tr>\n",
       "\t<tr><td>Argentina          </td><td>Right              </td><td>31                 </td></tr>\n",
       "\t<tr><td>Korea Republic     </td><td>Right              </td><td>31                 </td></tr>\n",
       "\t<tr><td>Mexico             </td><td>Right              </td><td>31                 </td></tr>\n",
       "\t<tr><td>Netherlands        </td><td>Right              </td><td>31                 </td></tr>\n",
       "\t<tr><td>Nigeria            </td><td>Right              </td><td>31                 </td></tr>\n",
       "\t<tr><td>...</td><td>...</td><td>...</td></tr>\n",
       "\t<tr><td>Montenegro          </td><td>Right               </td><td>25                  </td></tr>\n",
       "\t<tr><td>Portugal            </td><td>Left                </td><td>25                  </td></tr>\n",
       "\t<tr><td>Tunisia             </td><td>Right               </td><td>25                  </td></tr>\n",
       "\t<tr><td>United States       </td><td>Right               </td><td>25                  </td></tr>\n",
       "\t<tr><td>Egypt               </td><td>Right               </td><td>24                  </td></tr>\n",
       "\t<tr><td>Haiti               </td><td>Right               </td><td>24                  </td></tr>\n",
       "\t<tr><td>Romania             </td><td>Left                </td><td>24                  </td></tr>\n",
       "\t<tr><td>Sweden              </td><td>Left                </td><td>24                  </td></tr>\n",
       "\t<tr><td>Wales               </td><td>Right               </td><td>24                  </td></tr>\n",
       "\t<tr><td>Benin               </td><td>Right               </td><td>23                  </td></tr>\n",
       "\t<tr><td>England             </td><td>Left                </td><td>23                  </td></tr>\n",
       "\t<tr><td>Poland              </td><td>Left                </td><td>23                  </td></tr>\n",
       "\t<tr><td>Switzerland         </td><td>Left                </td><td>23                  </td></tr>\n",
       "\t<tr><td>Finland             </td><td>Right               </td><td>22                  </td></tr>\n",
       "\t<tr><td>Gabon               </td><td>Right               </td><td>22                  </td></tr>\n",
       "\t<tr><td>Kenya               </td><td>Right               </td><td>22                  </td></tr>\n",
       "\t<tr><td>Mexico              </td><td>Left                </td><td>22                  </td></tr>\n",
       "\t<tr><td>Saudi Arabia        </td><td>Left                </td><td>22                  </td></tr>\n",
       "\t<tr><td>Slovenia            </td><td>Left                </td><td>22                  </td></tr>\n",
       "\t<tr><td>Ukraine             </td><td>Left                </td><td>22                  </td></tr>\n",
       "\t<tr><td>Greece              </td><td>Left                </td><td>21                  </td></tr>\n",
       "\t<tr><td>Niger               </td><td>Right               </td><td>21                  </td></tr>\n",
       "\t<tr><td>Austria             </td><td>Left                </td><td>20                  </td></tr>\n",
       "\t<tr><td>Congo               </td><td>Left                </td><td>20                  </td></tr>\n",
       "\t<tr><td>Costa Rica          </td><td>Left                </td><td>20                  </td></tr>\n",
       "\t<tr><td>United Arab Emirates</td><td>Right               </td><td>20                  </td></tr>\n",
       "\t<tr><td>Canada              </td><td>Right               </td><td>19                  </td></tr>\n",
       "\t<tr><td>Uruguay             </td><td>Left                </td><td>19                  </td></tr>\n",
       "\t<tr><td>Iran                </td><td>Right               </td><td>18                  </td></tr>\n",
       "\t<tr><td>Belgium             </td><td>Left                </td><td>17                  </td></tr>\n",
       "</tbody>\n",
       "</table>\n"
      ],
      "text/latex": [
       "\\begin{tabular}{r|lll}\n",
       " nationality & preferred\\_foot & idade\\_maxima\\\\\n",
       "\\hline\n",
       "\t England             & Right               & 36                 \\\\\n",
       "\t Italy               & Right               & 36                 \\\\\n",
       "\t New Zealand         & Right               & 36                 \\\\\n",
       "\t Portugal            & Right               & 36                 \\\\\n",
       "\t Scotland            & Right               & 36                 \\\\\n",
       "\t Brazil              & Left                & 35                 \\\\\n",
       "\t Brazil              & Right               & 35                 \\\\\n",
       "\t Japan               & Right               & 35                 \\\\\n",
       "\t Greece              & Right               & 34                 \\\\\n",
       "\t Italy               & Left                & 34                 \\\\\n",
       "\t Northern Ireland    & Right               & 34                 \\\\\n",
       "\t Paraguay            & Right               & 34                 \\\\\n",
       "\t Serbia              & Left                & 34                 \\\\\n",
       "\t Colombia            & Right               & 33                 \\\\\n",
       "\t France              & Right               & 33                 \\\\\n",
       "\t Germany             & Right               & 33                 \\\\\n",
       "\t Republic of Ireland & Right               & 33                 \\\\\n",
       "\t Romania             & Right               & 33                 \\\\\n",
       "\t Saudi Arabia        & Right               & 33                 \\\\\n",
       "\t Turkey              & Right               & 33                 \\\\\n",
       "\t France              & Left                & 32                 \\\\\n",
       "\t Germany             & Left                & 32                 \\\\\n",
       "\t Poland              & Right               & 32                 \\\\\n",
       "\t Spain               & Right               & 32                 \\\\\n",
       "\t Turkey              & Left                & 32                 \\\\\n",
       "\t Argentina           & Right               & 31                 \\\\\n",
       "\t Korea Republic      & Right               & 31                 \\\\\n",
       "\t Mexico              & Right               & 31                 \\\\\n",
       "\t Netherlands         & Right               & 31                 \\\\\n",
       "\t Nigeria             & Right               & 31                 \\\\\n",
       "\t ... & ... & ...\\\\\n",
       "\t Montenegro           & Right                & 25                  \\\\\n",
       "\t Portugal             & Left                 & 25                  \\\\\n",
       "\t Tunisia              & Right                & 25                  \\\\\n",
       "\t United States        & Right                & 25                  \\\\\n",
       "\t Egypt                & Right                & 24                  \\\\\n",
       "\t Haiti                & Right                & 24                  \\\\\n",
       "\t Romania              & Left                 & 24                  \\\\\n",
       "\t Sweden               & Left                 & 24                  \\\\\n",
       "\t Wales                & Right                & 24                  \\\\\n",
       "\t Benin                & Right                & 23                  \\\\\n",
       "\t England              & Left                 & 23                  \\\\\n",
       "\t Poland               & Left                 & 23                  \\\\\n",
       "\t Switzerland          & Left                 & 23                  \\\\\n",
       "\t Finland              & Right                & 22                  \\\\\n",
       "\t Gabon                & Right                & 22                  \\\\\n",
       "\t Kenya                & Right                & 22                  \\\\\n",
       "\t Mexico               & Left                 & 22                  \\\\\n",
       "\t Saudi Arabia         & Left                 & 22                  \\\\\n",
       "\t Slovenia             & Left                 & 22                  \\\\\n",
       "\t Ukraine              & Left                 & 22                  \\\\\n",
       "\t Greece               & Left                 & 21                  \\\\\n",
       "\t Niger                & Right                & 21                  \\\\\n",
       "\t Austria              & Left                 & 20                  \\\\\n",
       "\t Congo                & Left                 & 20                  \\\\\n",
       "\t Costa Rica           & Left                 & 20                  \\\\\n",
       "\t United Arab Emirates & Right                & 20                  \\\\\n",
       "\t Canada               & Right                & 19                  \\\\\n",
       "\t Uruguay              & Left                 & 19                  \\\\\n",
       "\t Iran                 & Right                & 18                  \\\\\n",
       "\t Belgium              & Left                 & 17                  \\\\\n",
       "\\end{tabular}\n"
      ],
      "text/markdown": [
       "\n",
       "| nationality | preferred_foot | idade_maxima |\n",
       "|---|---|---|\n",
       "| England             | Right               | 36                  |\n",
       "| Italy               | Right               | 36                  |\n",
       "| New Zealand         | Right               | 36                  |\n",
       "| Portugal            | Right               | 36                  |\n",
       "| Scotland            | Right               | 36                  |\n",
       "| Brazil              | Left                | 35                  |\n",
       "| Brazil              | Right               | 35                  |\n",
       "| Japan               | Right               | 35                  |\n",
       "| Greece              | Right               | 34                  |\n",
       "| Italy               | Left                | 34                  |\n",
       "| Northern Ireland    | Right               | 34                  |\n",
       "| Paraguay            | Right               | 34                  |\n",
       "| Serbia              | Left                | 34                  |\n",
       "| Colombia            | Right               | 33                  |\n",
       "| France              | Right               | 33                  |\n",
       "| Germany             | Right               | 33                  |\n",
       "| Republic of Ireland | Right               | 33                  |\n",
       "| Romania             | Right               | 33                  |\n",
       "| Saudi Arabia        | Right               | 33                  |\n",
       "| Turkey              | Right               | 33                  |\n",
       "| France              | Left                | 32                  |\n",
       "| Germany             | Left                | 32                  |\n",
       "| Poland              | Right               | 32                  |\n",
       "| Spain               | Right               | 32                  |\n",
       "| Turkey              | Left                | 32                  |\n",
       "| Argentina           | Right               | 31                  |\n",
       "| Korea Republic      | Right               | 31                  |\n",
       "| Mexico              | Right               | 31                  |\n",
       "| Netherlands         | Right               | 31                  |\n",
       "| Nigeria             | Right               | 31                  |\n",
       "| ... | ... | ... |\n",
       "| Montenegro           | Right                | 25                   |\n",
       "| Portugal             | Left                 | 25                   |\n",
       "| Tunisia              | Right                | 25                   |\n",
       "| United States        | Right                | 25                   |\n",
       "| Egypt                | Right                | 24                   |\n",
       "| Haiti                | Right                | 24                   |\n",
       "| Romania              | Left                 | 24                   |\n",
       "| Sweden               | Left                 | 24                   |\n",
       "| Wales                | Right                | 24                   |\n",
       "| Benin                | Right                | 23                   |\n",
       "| England              | Left                 | 23                   |\n",
       "| Poland               | Left                 | 23                   |\n",
       "| Switzerland          | Left                 | 23                   |\n",
       "| Finland              | Right                | 22                   |\n",
       "| Gabon                | Right                | 22                   |\n",
       "| Kenya                | Right                | 22                   |\n",
       "| Mexico               | Left                 | 22                   |\n",
       "| Saudi Arabia         | Left                 | 22                   |\n",
       "| Slovenia             | Left                 | 22                   |\n",
       "| Ukraine              | Left                 | 22                   |\n",
       "| Greece               | Left                 | 21                   |\n",
       "| Niger                | Right                | 21                   |\n",
       "| Austria              | Left                 | 20                   |\n",
       "| Congo                | Left                 | 20                   |\n",
       "| Costa Rica           | Left                 | 20                   |\n",
       "| United Arab Emirates | Right                | 20                   |\n",
       "| Canada               | Right                | 19                   |\n",
       "| Uruguay              | Left                 | 19                   |\n",
       "| Iran                 | Right                | 18                   |\n",
       "| Belgium              | Left                 | 17                   |\n",
       "\n"
      ],
      "text/plain": [
       "    nationality          preferred_foot idade_maxima\n",
       "1   England              Right          36          \n",
       "2   Italy                Right          36          \n",
       "3   New Zealand          Right          36          \n",
       "4   Portugal             Right          36          \n",
       "5   Scotland             Right          36          \n",
       "6   Brazil               Left           35          \n",
       "7   Brazil               Right          35          \n",
       "8   Japan                Right          35          \n",
       "9   Greece               Right          34          \n",
       "10  Italy                Left           34          \n",
       "11  Northern Ireland     Right          34          \n",
       "12  Paraguay             Right          34          \n",
       "13  Serbia               Left           34          \n",
       "14  Colombia             Right          33          \n",
       "15  France               Right          33          \n",
       "16  Germany              Right          33          \n",
       "17  Republic of Ireland  Right          33          \n",
       "18  Romania              Right          33          \n",
       "19  Saudi Arabia         Right          33          \n",
       "20  Turkey               Right          33          \n",
       "21  France               Left           32          \n",
       "22  Germany              Left           32          \n",
       "23  Poland               Right          32          \n",
       "24  Spain                Right          32          \n",
       "25  Turkey               Left           32          \n",
       "26  Argentina            Right          31          \n",
       "27  Korea Republic       Right          31          \n",
       "28  Mexico               Right          31          \n",
       "29  Netherlands          Right          31          \n",
       "30  Nigeria              Right          31          \n",
       "... ...                  ...            ...         \n",
       "76  Montenegro           Right          25          \n",
       "77  Portugal             Left           25          \n",
       "78  Tunisia              Right          25          \n",
       "79  United States        Right          25          \n",
       "80  Egypt                Right          24          \n",
       "81  Haiti                Right          24          \n",
       "82  Romania              Left           24          \n",
       "83  Sweden               Left           24          \n",
       "84  Wales                Right          24          \n",
       "85  Benin                Right          23          \n",
       "86  England              Left           23          \n",
       "87  Poland               Left           23          \n",
       "88  Switzerland          Left           23          \n",
       "89  Finland              Right          22          \n",
       "90  Gabon                Right          22          \n",
       "91  Kenya                Right          22          \n",
       "92  Mexico               Left           22          \n",
       "93  Saudi Arabia         Left           22          \n",
       "94  Slovenia             Left           22          \n",
       "95  Ukraine              Left           22          \n",
       "96  Greece               Left           21          \n",
       "97  Niger                Right          21          \n",
       "98  Austria              Left           20          \n",
       "99  Congo                Left           20          \n",
       "100 Costa Rica           Left           20          \n",
       "101 United Arab Emirates Right          20          \n",
       "102 Canada               Right          19          \n",
       "103 Uruguay              Left           19          \n",
       "104 Iran                 Right          18          \n",
       "105 Belgium              Left           17          "
      ]
     },
     "metadata": {},
     "output_type": "display_data"
    }
   ],
   "source": [
    "fifa %>%\n",
    "    filter(age < 37) %>%\n",
    "    group_by(nationality, preferred_foot) %>% \n",
    "    summarise(idade_maxima=max(age)) %>%\n",
    "    arrange(desc(idade_maxima))"
   ]
  },
  {
   "cell_type": "code",
   "execution_count": 8,
   "metadata": {},
   "outputs": [
    {
     "data": {
      "text/html": [
       "<table>\n",
       "<thead><tr><th scope=col>X</th><th scope=col>sofifa_id</th><th scope=col>short_name</th><th scope=col>long_name</th><th scope=col>age</th><th scope=col>height_cm</th><th scope=col>weight_kg</th><th scope=col>nationality</th><th scope=col>club</th><th scope=col>wage_eur</th><th scope=col>player_positions</th><th scope=col>preferred_foot</th></tr></thead>\n",
       "<tbody>\n",
       "\t<tr><td> 1813                  </td><td>224599                 </td><td>Yan Junling            </td><td>é¢œéªå‡Œ              </td><td>28                     </td><td>191                    </td><td>83                     </td><td>China PR               </td><td>Shanghai SIPG FC       </td><td>13000                  </td><td>GK                     </td><td>Right                  </td></tr>\n",
       "\t<tr><td>12287                  </td><td>243530                 </td><td>Mujaid                 </td><td>Mujaid Sadick Aliu     </td><td>19                     </td><td>180                    </td><td>75                     </td><td>Spain                  </td><td>Deportivo de La CoruÃ±a</td><td> 1000                  </td><td>CB, RB                 </td><td>Right                  </td></tr>\n",
       "\t<tr><td> 4257                  </td><td>202676                 </td><td>A. Taggart             </td><td>Adam Taggart           </td><td>26                     </td><td>183                    </td><td>70                     </td><td>Australia              </td><td>Suwon Samsung Bluewings</td><td> 6000                  </td><td>ST, CF                 </td><td>Right                  </td></tr>\n",
       "\t<tr><td> 8794                  </td><td>241187                 </td><td>L. Geertruida          </td><td>Lutsharel Geertruida   </td><td>18                     </td><td>180                    </td><td>75                     </td><td>Netherlands            </td><td>Feyenoord              </td><td> 1000                  </td><td>CB, CDM, RB            </td><td>Right                  </td></tr>\n",
       "\t<tr><td> 3851                  </td><td>193254                 </td><td>C. Trimmel             </td><td>Christopher Trimmel    </td><td>32                     </td><td>189                    </td><td>82                     </td><td>Austria                </td><td>1. FC Union Berlin     </td><td>24000                  </td><td>RB                     </td><td>Right                  </td></tr>\n",
       "\t<tr><td>15820                  </td><td>180181                 </td><td>K. Browne              </td><td>Kenny Browne           </td><td>32                     </td><td>191                    </td><td>86                     </td><td>Republic of Ireland    </td><td>Waterford FC           </td><td> 1000                  </td><td>CB                     </td><td>Left                   </td></tr>\n",
       "</tbody>\n",
       "</table>\n"
      ],
      "text/latex": [
       "\\begin{tabular}{r|llllllllllll}\n",
       " X & sofifa\\_id & short\\_name & long\\_name & age & height\\_cm & weight\\_kg & nationality & club & wage\\_eur & player\\_positions & preferred\\_foot\\\\\n",
       "\\hline\n",
       "\t  1813                   & 224599                  & Yan Junling             & é¢œéªå‡Œ               & 28                      & 191                     & 83                      & China PR                & Shanghai SIPG FC        & 13000                   & GK                      & Right                  \\\\\n",
       "\t 12287                   & 243530                  & Mujaid                  & Mujaid Sadick Aliu      & 19                      & 180                     & 75                      & Spain                   & Deportivo de La CoruÃ±a &  1000                   & CB, RB                  & Right                  \\\\\n",
       "\t  4257                   & 202676                  & A. Taggart              & Adam Taggart            & 26                      & 183                     & 70                      & Australia               & Suwon Samsung Bluewings &  6000                   & ST, CF                  & Right                  \\\\\n",
       "\t  8794                   & 241187                  & L. Geertruida           & Lutsharel Geertruida    & 18                      & 180                     & 75                      & Netherlands             & Feyenoord               &  1000                   & CB, CDM, RB             & Right                  \\\\\n",
       "\t  3851                   & 193254                  & C. Trimmel              & Christopher Trimmel     & 32                      & 189                     & 82                      & Austria                 & 1. FC Union Berlin      & 24000                   & RB                      & Right                  \\\\\n",
       "\t 15820                   & 180181                  & K. Browne               & Kenny Browne            & 32                      & 191                     & 86                      & Republic of Ireland     & Waterford FC            &  1000                   & CB                      & Left                   \\\\\n",
       "\\end{tabular}\n"
      ],
      "text/markdown": [
       "\n",
       "| X | sofifa_id | short_name | long_name | age | height_cm | weight_kg | nationality | club | wage_eur | player_positions | preferred_foot |\n",
       "|---|---|---|---|---|---|---|---|---|---|---|---|\n",
       "|  1813                   | 224599                  | Yan Junling             | é¢œéªå‡Œ               | 28                      | 191                     | 83                      | China PR                | Shanghai SIPG FC        | 13000                   | GK                      | Right                   |\n",
       "| 12287                   | 243530                  | Mujaid                  | Mujaid Sadick Aliu      | 19                      | 180                     | 75                      | Spain                   | Deportivo de La CoruÃ±a |  1000                   | CB, RB                  | Right                   |\n",
       "|  4257                   | 202676                  | A. Taggart              | Adam Taggart            | 26                      | 183                     | 70                      | Australia               | Suwon Samsung Bluewings |  6000                   | ST, CF                  | Right                   |\n",
       "|  8794                   | 241187                  | L. Geertruida           | Lutsharel Geertruida    | 18                      | 180                     | 75                      | Netherlands             | Feyenoord               |  1000                   | CB, CDM, RB             | Right                   |\n",
       "|  3851                   | 193254                  | C. Trimmel              | Christopher Trimmel     | 32                      | 189                     | 82                      | Austria                 | 1. FC Union Berlin      | 24000                   | RB                      | Right                   |\n",
       "| 15820                   | 180181                  | K. Browne               | Kenny Browne            | 32                      | 191                     | 86                      | Republic of Ireland     | Waterford FC            |  1000                   | CB                      | Left                    |\n",
       "\n"
      ],
      "text/plain": [
       "  X     sofifa_id short_name    long_name            age height_cm weight_kg\n",
       "1  1813 224599    Yan Junling   é¢œéª\\217å‡Œ            28  191       83       \n",
       "2 12287 243530    Mujaid        Mujaid Sadick Aliu   19  180       75       \n",
       "3  4257 202676    A. Taggart    Adam Taggart         26  183       70       \n",
       "4  8794 241187    L. Geertruida Lutsharel Geertruida 18  180       75       \n",
       "5  3851 193254    C. Trimmel    Christopher Trimmel  32  189       82       \n",
       "6 15820 180181    K. Browne     Kenny Browne         32  191       86       \n",
       "  nationality         club                    wage_eur player_positions\n",
       "1 China PR            Shanghai SIPG FC        13000    GK              \n",
       "2 Spain               Deportivo de La CoruÃ±a  1000    CB, RB          \n",
       "3 Australia           Suwon Samsung Bluewings  6000    ST, CF          \n",
       "4 Netherlands         Feyenoord                1000    CB, CDM, RB     \n",
       "5 Austria             1. FC Union Berlin      24000    RB              \n",
       "6 Republic of Ireland Waterford FC             1000    CB              \n",
       "  preferred_foot\n",
       "1 Right         \n",
       "2 Right         \n",
       "3 Right         \n",
       "4 Right         \n",
       "5 Right         \n",
       "6 Left          "
      ]
     },
     "metadata": {},
     "output_type": "display_data"
    }
   ],
   "source": [
    "head(fifa)"
   ]
  },
  {
   "cell_type": "markdown",
   "metadata": {},
   "source": [
    "## <a id = \"parte3\"></a><span style=\"color: orange;\"> Parte 3 - Visualização de dados em R com ggplot2 </span>\n",
    "\n",
    "__ggplot2__ foi desenvolvido para apresentações gráficas de qualidade em segundos. \n",
    "\n",
    "Este pacote é baseado em **gramática de gráficos**, a ideia é que você possa construir qualquer gráfico combinando adequadamente elementos da gramática, do mesmo modo que é feito na língua portuguesa.\n",
    "\n",
    "### Vantagens\n",
    "\n",
    "- Baseado em __gramática de gráficos__;\n",
    "- Alto nível de abstração em plots;\n",
    "- Flexibilidade;\n",
    "- Sistema de temas para melhorar aparência de gráficos;\n",
    "- Muitos usuários ativos na comunidade open source;\n",
    "\n",
    "### O que não fazer com ggplot2?\n",
    "\n",
    "- Gráficos de 3 dimensões (vide biblioteca [rgl](https://www.rdocumentation.org/packages/rgl/versions/0.100.50));\n",
    "- Gráficos iterativos (vide biblioteca [ggvis](https://ggvis.rstudio.com/));\n",
    "- Gráficos de teoria dos grafos (vide biblioteca [igraph](https://igraph.org/r/));"
   ]
  },
  {
   "cell_type": "code",
   "execution_count": 2,
   "metadata": {},
   "outputs": [
    {
     "name": "stderr",
     "output_type": "stream",
     "text": [
      "Registered S3 methods overwritten by 'ggplot2':\n",
      "  method         from \n",
      "  [.quosures     rlang\n",
      "  c.quosures     rlang\n",
      "  print.quosures rlang\n",
      "Registered S3 method overwritten by 'rvest':\n",
      "  method            from\n",
      "  read_xml.response xml2\n",
      "-- Attaching packages --------------------------------------- tidyverse 1.2.1 --\n",
      "v ggplot2 3.1.1       v purrr   0.3.2  \n",
      "v tibble  2.1.1       v dplyr   0.8.0.1\n",
      "v tidyr   0.8.3       v stringr 1.4.0  \n",
      "v readr   1.3.1       v forcats 0.4.0  \n",
      "-- Conflicts ------------------------------------------ tidyverse_conflicts() --\n",
      "x dplyr::filter() masks stats::filter()\n",
      "x dplyr::lag()    masks stats::lag()\n"
     ]
    }
   ],
   "source": [
    "library(tidyverse) # pacote que vamos usar em quase todas as análises de dados"
   ]
  },
  {
   "cell_type": "markdown",
   "metadata": {},
   "source": [
    "Esse warning mostra as funções do tidyverse que conflitam com as funções do R base. Se precisar explicitar de onde a função vem, basta usar a notação ```package::function()```:\n",
    "```R\n",
    "# exemplo\n",
    "\n",
    "ggplot2::ggplot()\n",
    "```"
   ]
  },
  {
   "cell_type": "markdown",
   "metadata": {},
   "source": [
    "## Entendendo a lógica do ggplot2\n",
    "\n",
    "\n",
    "### Códigos base\n",
    "\n",
    "#### [Inicializando objeto](https://ggplot2.tidyverse.org/reference/ggplot.html)\n",
    "\n",
    "```R\n",
    "# exemplo\n",
    "ggplot(data = fifa)\n",
    "```\n",
    "\n",
    "- dados\n",
    "- mapeamento estético (opcional)\n",
    "\n",
    "#### [Mapeamento Estético](https://ggplot2.tidyverse.org/reference/aes.html)\n",
    "\n",
    "```R\n",
    "# exemplo\n",
    "aes(x = age, y = wage_eur)\n",
    "```\n",
    "\n",
    "- atribui variáveis aos eixos;\n",
    "- adicionar detalhes (cores, contorno, preenchimento, ...)"
   ]
  },
  {
   "cell_type": "code",
   "execution_count": 3,
   "metadata": {},
   "outputs": [
    {
     "data": {
      "image/png": "[encoded data removed]",
      "text/plain": [
       "plot without title"
      ]
     },
     "metadata": {},
     "output_type": "display_data"
    }
   ],
   "source": [
    "# exemplo teste com ggplot e aes\n",
    "ggplot(data = fifa, mapping = aes(x = age, y = wage_eur))"
   ]
  },
  {
   "cell_type": "markdown",
   "metadata": {},
   "source": [
    "#### [Geometrias](https://ggplot2.tidyverse.org/reference/index.html#section-layer-geoms)\n",
    "\n",
    "- Gráfico de barras - geom_bar()\n",
    "- Histograma - geom_histogram()\n",
    "- Dispersão - geom_point() ou geom_jitter()"
   ]
  },
  {
   "cell_type": "code",
   "execution_count": 5,
   "metadata": {},
   "outputs": [
    {
     "data": {
      "image/png": "[encoded data removed]",
      "text/plain": [
       "plot without title"
      ]
     },
     "metadata": {},
     "output_type": "display_data"
    }
   ],
   "source": [
    "# exemplo teste com geom_jitter\n",
    "ggplot(data = fifa, mapping = aes(x = age, y = wage_eur)) + geom_jitter()"
   ]
  },
  {
   "cell_type": "markdown",
   "metadata": {},
   "source": [
    "#### [O CheatSheet do ggplot2](https://github.com/rstudio/cheatsheets/blob/master/data-visualization-2.1.pdf)\n",
    "\n",
    "### Boas Práticas de Visualização de Dados\n",
    "\n",
    "- Títulos\n",
    "- Nome dos Eixos\n",
    "- Unidades dos eixos\n",
    "\n",
    "```R\n",
    "# inserindo textos nos graficos\n",
    "labs(\n",
    "    x = \"Idade\", y = \"Salário (Euros)\",\n",
    "    title = \"Idade X Salário\"\n",
    ")\n",
    "```\n",
    "\n",
    "- Cores\n",
    "\n",
    "```R\n",
    "aes(\n",
    "    #color = preferred_foot,\n",
    "    color = \"red\",\n",
    ")\n",
    "```"
   ]
  },
  {
   "cell_type": "code",
   "execution_count": 9,
   "metadata": {},
   "outputs": [
    {
     "data": {
      "image/png": "[encoded data removed]",
      "text/plain": [
       "plot without title"
      ]
     },
     "metadata": {},
     "output_type": "display_data"
    }
   ],
   "source": [
    "# exemplo teste com nomes dos eixos e cores\n",
    "ggplot(data = fifa, mapping = aes(x = age, y = wage_eur)) + \n",
    "  geom_jitter(mapping = aes(color = preferred_foot)) +\n",
    "  labs(\n",
    "    x = \"Idade\", y = \"Horas Semanais (h)\",\n",
    "    title = \"Idade X Horas Semanais\", color = \"Pé preferencial\"\n",
    ")"
   ]
  },
  {
   "cell_type": "markdown",
   "metadata": {},
   "source": [
    "### Distribuição dos dados"
   ]
  },
  {
   "cell_type": "code",
   "execution_count": 17,
   "metadata": {},
   "outputs": [
    {
     "data": {
      "image/png": "[encoded data removed]",
      "text/plain": [
       "plot without title"
      ]
     },
     "metadata": {},
     "output_type": "display_data"
    }
   ],
   "source": [
    "# Distribuição do salário dos jogadores\n",
    "ggplot(data = fifa, mapping = aes(x = wage_eur)) + \n",
    "  geom_density(kernel=\"gaussian\") +\n",
    "  theme_minimal() +\n",
    "  labs(y = \"Densidade de probabilidade\", x = \"salário\", title = \"Densidade de probabilidade do salário dos jogadores\")"
   ]
  },
  {
   "cell_type": "code",
   "execution_count": 18,
   "metadata": {
    "scrolled": false
   },
   "outputs": [
    {
     "data": {
      "image/png": "[encoded data removed]",
      "text/plain": [
       "plot without title"
      ]
     },
     "metadata": {},
     "output_type": "display_data"
    }
   ],
   "source": [
    "# Distribuição do salário dos jogadores\n",
    "ggplot(data = fifa, mapping = aes(x = weight_kg)) + \n",
    "  geom_density(kernel=\"gaussian\") +\n",
    "  theme_minimal() +\n",
    "  labs(y = \"Densidade de probabilidade\", x = \"peso (kg)\", title = \"Densidade de probabilidade da massa corporal dos jogadores\")"
   ]
  },
  {
   "cell_type": "markdown",
   "metadata": {},
   "source": [
    "### Variáveis Categóricas"
   ]
  },
  {
   "cell_type": "code",
   "execution_count": 13,
   "metadata": {},
   "outputs": [],
   "source": [
    "# quebrando dados agrupados na variável player position\n",
    "fifa2 <- fifa %>% \n",
    "    mutate(player_positions = strsplit(as.character(player_positions), \", \")) %>% \n",
    "    unnest(player_positions)"
   ]
  },
  {
   "cell_type": "code",
   "execution_count": 15,
   "metadata": {
    "scrolled": false
   },
   "outputs": [
    {
     "data": {
      "image/png": "[encoded data removed]",
      "text/plain": [
       "plot without title"
      ]
     },
     "metadata": {},
     "output_type": "display_data"
    }
   ],
   "source": [
    "# Número de pessoas por preferência de pé\n",
    "ggplot(data = fifa2, mapping = aes(x = player_positions)) +\n",
    " geom_bar(aes(fill = preferred_foot), position = \"stack\") + \n",
    " theme_minimal() + coord_flip() +\n",
    " labs(\n",
    "     x = \"Posição do jogador\", y = \"Contagem\", fill = \"Pé preferencial\",\n",
    "     title = \"Contagem de Pessoas por Posição de Jogador e pé preferencial\"\n",
    " )"
   ]
  },
  {
   "cell_type": "markdown",
   "metadata": {},
   "source": [
    "### Variáveis contínuas"
   ]
  },
  {
   "cell_type": "code",
   "execution_count": 20,
   "metadata": {},
   "outputs": [
    {
     "name": "stderr",
     "output_type": "stream",
     "text": [
      "`geom_smooth()` using method = 'loess' and formula 'y ~ x'\n"
     ]
    },
    {
     "data": {
      "image/png": "[encoded data removed]",
      "text/plain": [
       "plot without title"
      ]
     },
     "metadata": {},
     "output_type": "display_data"
    }
   ],
   "source": [
    "# ajuste de curva renda x horas semanais x idade\n",
    "ggplot(data = fifa, mapping = aes(x = age, y = wage_eur)) + \n",
    "  geom_smooth(mapping = aes(color = preferred_foot), method = \"auto\") +\n",
    "  theme_minimal() + \n",
    "  labs(\n",
    "      x = \"Idade\", y = \"Salário (euros)\", color = \"Pé preferencial\",\n",
    "      title = \"Idade x Salário x Pé\"\n",
    "  )\n"
   ]
  },
  {
   "cell_type": "markdown",
   "metadata": {},
   "source": [
    "## <a id = \"parte4\"></a><span style=\"color: orange;\">  Parte 4 - Estatística Básica em R </span>\n",
    "\n",
    "Agora que já vimos o básico de importação de dados em **R**, estamos prontos para entender como essa linguagem é utilizada efetivamente para fazer análises estatísticas!\n",
    "\n",
    "Mas não se preocupe, vamos explorando os diversos temas de estatística enquanto aprendemos mais sobre **R**."
   ]
  },
  {
   "cell_type": "markdown",
   "metadata": {},
   "source": [
    "## <a id=\"tipos_de_dados\"></a> Tipos de Dados\n",
    "\n",
    "Um dos pontos base da Estatística consiste em entender nossas informações e como elas elas são organizadas: os **dados**. Esses dados podem ser divididos em dois tipos diferentes: dados **qualitativos** e dados **quantitativos**.\n",
    "\n",
    "### <a id=\"quali\"></a>Dados Qualitativos\n",
    "\n",
    "Esses dados representam **categorias** do nosso espaço, ou seja, eles dividem os indivíduos em diversas classes que não se intersectam. Por exemplo, a cor de uma flor é um tipo de dado qualitativo, já que as categoriza em classes como: *'amarelo'*, *'rosa'*, *'vermelho'*, *'azul'*, etc. Esses dados são bem úteis para representar características que não são facilmente descritas por números, como qualidades (daí vem o nome)."
   ]
  },
  {
   "cell_type": "code",
   "execution_count": 3,
   "metadata": {},
   "outputs": [
    {
     "data": {
      "text/html": [
       "<table>\n",
       "<thead><tr><th scope=col>Flor</th><th scope=col>Cor</th></tr></thead>\n",
       "<tbody>\n",
       "\t<tr><td>Margarida</td><td>Amarelo  </td></tr>\n",
       "\t<tr><td>Hortênsia</td><td>Azul     </td></tr>\n",
       "\t<tr><td>Violeta  </td><td>Azul     </td></tr>\n",
       "\t<tr><td>Rosa     </td><td>Vermelho </td></tr>\n",
       "</tbody>\n",
       "</table>\n"
      ],
      "text/latex": [
       "\\begin{tabular}{r|ll}\n",
       " Flor & Cor\\\\\n",
       "\\hline\n",
       "\t Margarida & Amarelo  \\\\\n",
       "\t Hortênsia & Azul     \\\\\n",
       "\t Violeta   & Azul     \\\\\n",
       "\t Rosa      & Vermelho \\\\\n",
       "\\end{tabular}\n"
      ],
      "text/markdown": [
       "\n",
       "| Flor | Cor |\n",
       "|---|---|\n",
       "| Margarida | Amarelo   |\n",
       "| Hortênsia | Azul      |\n",
       "| Violeta   | Azul      |\n",
       "| Rosa      | Vermelho  |\n",
       "\n"
      ],
      "text/plain": [
       "  Flor      Cor     \n",
       "1 Margarida Amarelo \n",
       "2 Hortênsia Azul    \n",
       "3 Violeta   Azul    \n",
       "4 Rosa      Vermelho"
      ]
     },
     "metadata": {},
     "output_type": "display_data"
    }
   ],
   "source": [
    "# Montando um Dataframe de Cores de Flores\n",
    "\n",
    "Flor = c(\"Margarida\", \"Hortênsia\", \"Violeta\", \"Rosa\")\n",
    "Cor = c(\"Amarelo\", \"Azul\", \"Azul\", \"Vermelho\")\n",
    "flores = data.frame(Flor, Cor)\n",
    "flores"
   ]
  },
  {
   "cell_type": "code",
   "execution_count": 4,
   "metadata": {},
   "outputs": [
    {
     "data": {
      "text/html": [
       "<table>\n",
       "<thead><tr><th scope=col>Flor</th><th scope=col>Cor</th></tr></thead>\n",
       "<tbody>\n",
       "\t<tr><td>Hortênsia</td><td>Azul     </td></tr>\n",
       "\t<tr><td>Violeta  </td><td>Azul     </td></tr>\n",
       "</tbody>\n",
       "</table>\n"
      ],
      "text/latex": [
       "\\begin{tabular}{r|ll}\n",
       " Flor & Cor\\\\\n",
       "\\hline\n",
       "\t Hortênsia & Azul     \\\\\n",
       "\t Violeta   & Azul     \\\\\n",
       "\\end{tabular}\n"
      ],
      "text/markdown": [
       "\n",
       "| Flor | Cor |\n",
       "|---|---|\n",
       "| Hortênsia | Azul      |\n",
       "| Violeta   | Azul      |\n",
       "\n"
      ],
      "text/plain": [
       "  Flor      Cor \n",
       "1 Hortênsia Azul\n",
       "2 Violeta   Azul"
      ]
     },
     "metadata": {},
     "output_type": "display_data"
    }
   ],
   "source": [
    "# Mostrando as flores de cor Azul\n",
    "\n",
    "flores %>% filter(Cor == \"Azul\")"
   ]
  },
  {
   "cell_type": "markdown",
   "metadata": {},
   "source": [
    "### <a id=\"quant\"></a> Dados Quantitativos\n",
    "\n",
    "São tipos de dados **numéricos**, ou seja, são mensuráveis e podem ser manipulados matematicamente. Essa categoria engloba os dados representáveis por números, como a altura de uma pessoa ou a área de um terreno. Esses dados são mais versáteis, já que conseguimos fazer comparações, médias e outros tipos de operações aritméticas que não são possíveis com os dados qualitativos."
   ]
  },
  {
   "cell_type": "code",
   "execution_count": 5,
   "metadata": {},
   "outputs": [
    {
     "data": {
      "text/html": [
       "<table>\n",
       "<thead><tr><th scope=col>Nome</th><th scope=col>Altura</th></tr></thead>\n",
       "<tbody>\n",
       "\t<tr><td>Marcela  </td><td>161      </td></tr>\n",
       "\t<tr><td>Alexandre</td><td>184      </td></tr>\n",
       "\t<tr><td>Rafaela  </td><td>172      </td></tr>\n",
       "\t<tr><td>Mariana  </td><td>174      </td></tr>\n",
       "\t<tr><td>Victor   </td><td>169      </td></tr>\n",
       "</tbody>\n",
       "</table>\n"
      ],
      "text/latex": [
       "\\begin{tabular}{r|ll}\n",
       " Nome & Altura\\\\\n",
       "\\hline\n",
       "\t Marcela   & 161      \\\\\n",
       "\t Alexandre & 184      \\\\\n",
       "\t Rafaela   & 172      \\\\\n",
       "\t Mariana   & 174      \\\\\n",
       "\t Victor    & 169      \\\\\n",
       "\\end{tabular}\n"
      ],
      "text/markdown": [
       "\n",
       "| Nome | Altura |\n",
       "|---|---|\n",
       "| Marcela   | 161       |\n",
       "| Alexandre | 184       |\n",
       "| Rafaela   | 172       |\n",
       "| Mariana   | 174       |\n",
       "| Victor    | 169       |\n",
       "\n"
      ],
      "text/plain": [
       "  Nome      Altura\n",
       "1 Marcela   161   \n",
       "2 Alexandre 184   \n",
       "3 Rafaela   172   \n",
       "4 Mariana   174   \n",
       "5 Victor    169   "
      ]
     },
     "metadata": {},
     "output_type": "display_data"
    }
   ],
   "source": [
    "# Montando um Dataframe de Altura de Pessoas\n",
    "\n",
    "Nome = c(\"Marcela\", \"Alexandre\", \"Rafaela\", \"Mariana\", \"Victor\")\n",
    "Altura = c(161, 184, 172, 174, 169)\n",
    "alturas = data.frame(Nome, Altura)\n",
    "alturas"
   ]
  },
  {
   "cell_type": "code",
   "execution_count": 6,
   "metadata": {},
   "outputs": [
    {
     "data": {
      "text/html": [
       "<table>\n",
       "<thead><tr><th scope=col>Nome</th><th scope=col>Altura</th></tr></thead>\n",
       "<tbody>\n",
       "\t<tr><td>Alexandre</td><td>184      </td></tr>\n",
       "\t<tr><td>Rafaela  </td><td>172      </td></tr>\n",
       "\t<tr><td>Mariana  </td><td>174      </td></tr>\n",
       "</tbody>\n",
       "</table>\n"
      ],
      "text/latex": [
       "\\begin{tabular}{r|ll}\n",
       " Nome & Altura\\\\\n",
       "\\hline\n",
       "\t Alexandre & 184      \\\\\n",
       "\t Rafaela   & 172      \\\\\n",
       "\t Mariana   & 174      \\\\\n",
       "\\end{tabular}\n"
      ],
      "text/markdown": [
       "\n",
       "| Nome | Altura |\n",
       "|---|---|\n",
       "| Alexandre | 184       |\n",
       "| Rafaela   | 172       |\n",
       "| Mariana   | 174       |\n",
       "\n"
      ],
      "text/plain": [
       "  Nome      Altura\n",
       "1 Alexandre 184   \n",
       "2 Rafaela   172   \n",
       "3 Mariana   174   "
      ]
     },
     "metadata": {},
     "output_type": "display_data"
    }
   ],
   "source": [
    "# Selecionando as pessoas com altura maior que 170 cm\n",
    "\n",
    "alturas %>% filter(Altura > 170)"
   ]
  },
  {
   "cell_type": "markdown",
   "metadata": {},
   "source": [
    "## <a id=\"descritiva\"></a>Estatística Descritiva\n",
    "\n",
    "O tipo de análise estatística mais básico é a **Estatística Descritiva**, que busca simplesmente resumir e descrever os nossos dados da melhor maneira possível. Esse ramo utiliza de diversas medidas para expressar características diferentes dos nossos dados, como veremos a seguir."
   ]
  },
  {
   "cell_type": "markdown",
   "metadata": {},
   "source": [
    "### <a id=\"tendencia_central\"></a>Medidas de Tendência Central\n",
    "\n",
    "As **Medidas de Tendência Central** procuram representrar um valor central em torno do qual os dados se agrupam. Você provavelmente já ouviu falar de alguns exemplos desse tipo de medida, como a **média** e a **mediana**.\n",
    "\n",
    "#### <a id=\"media\"></a> Média\n",
    "\n",
    "A **Média** é a medida numérica que representa a posição central dos nossos dados. Seu valor é obtido ao dividir a soma de todos os nossos dados pela sua quantidade.\n",
    "\n",
    "$$\\large \\bar x ={\\frac {1}{N}}\\sum _{i=1}^{N}x_{i}$$"
   ]
  },
  {
   "cell_type": "code",
   "execution_count": 7,
   "metadata": {},
   "outputs": [
    {
     "data": {
      "text/html": [
       "8929.82456140351"
      ],
      "text/latex": [
       "8929.82456140351"
      ],
      "text/markdown": [
       "8929.82456140351"
      ],
      "text/plain": [
       "[1] 8929.825"
      ]
     },
     "metadata": {},
     "output_type": "display_data"
    }
   ],
   "source": [
    "# Média de salário dos jogadores\n",
    "\n",
    "mean(fifa$wage_eur)"
   ]
  },
  {
   "cell_type": "code",
   "execution_count": 8,
   "metadata": {
    "scrolled": true
   },
   "outputs": [
    {
     "data": {
      "text/html": [
       "<table>\n",
       "<thead><tr><th scope=col>preferred_foot</th><th scope=col>mean_wage</th></tr></thead>\n",
       "<tbody>\n",
       "\t<tr><td>Left    </td><td>12036.70</td></tr>\n",
       "\t<tr><td>Right   </td><td> 7953.89</td></tr>\n",
       "</tbody>\n",
       "</table>\n"
      ],
      "text/latex": [
       "\\begin{tabular}{r|ll}\n",
       " preferred\\_foot & mean\\_wage\\\\\n",
       "\\hline\n",
       "\t Left     & 12036.70\\\\\n",
       "\t Right    &  7953.89\\\\\n",
       "\\end{tabular}\n"
      ],
      "text/markdown": [
       "\n",
       "| preferred_foot | mean_wage |\n",
       "|---|---|\n",
       "| Left     | 12036.70 |\n",
       "| Right    |  7953.89 |\n",
       "\n"
      ],
      "text/plain": [
       "  preferred_foot mean_wage\n",
       "1 Left           12036.70 \n",
       "2 Right           7953.89 "
      ]
     },
     "metadata": {},
     "output_type": "display_data"
    }
   ],
   "source": [
    "# Média de salário por pé utilizado\n",
    "\n",
    "fifa %>% group_by(preferred_foot) %>%\n",
    "     summarise(mean_wage = mean(wage_eur))\n",
    "\n",
    "# Os canhotos, em média, ganham mais que os destros"
   ]
  },
  {
   "cell_type": "code",
   "execution_count": 9,
   "metadata": {},
   "outputs": [
    {
     "name": "stderr",
     "output_type": "stream",
     "text": [
      "Warning message in mean.default(fifa$preferred_foot):\n",
      "\"argument is not numeric or logical: returning NA\""
     ]
    },
    {
     "data": {
      "text/html": [
       "&lt;NA&gt;"
      ],
      "text/latex": [
       "<NA>"
      ],
      "text/markdown": [
       "&lt;NA&gt;"
      ],
      "text/plain": [
       "[1] NA"
      ]
     },
     "metadata": {},
     "output_type": "display_data"
    }
   ],
   "source": [
    "# Não é possível calcular a média de dados qualitativos\n",
    "\n",
    "mean(fifa$preferred_foot)"
   ]
  },
  {
   "cell_type": "markdown",
   "metadata": {},
   "source": [
    "#### <a id=\"mediana\"></a>Mediana\n",
    "\n",
    "A **Mediana** é a medida numérica que representa o dado que se encontra na metade da nossa distribuição quanto esta se encontra ordenada. Ou seja, a mediana é o valor que divide os nossos dados de tal forma que metade deles sejam maiores que a mediana e a outra metade seja menor."
   ]
  },
  {
   "cell_type": "code",
   "execution_count": 11,
   "metadata": {},
   "outputs": [
    {
     "data": {
      "text/html": [
       "24"
      ],
      "text/latex": [
       "24"
      ],
      "text/markdown": [
       "24"
      ],
      "text/plain": [
       "[1] 24"
      ]
     },
     "metadata": {},
     "output_type": "display_data"
    }
   ],
   "source": [
    "# Mediana da idade dos jogadores\n",
    "\n",
    "median(fifa$age)"
   ]
  },
  {
   "cell_type": "code",
   "execution_count": 12,
   "metadata": {},
   "outputs": [
    {
     "ename": "ERROR",
     "evalue": "Error in median.default(fifa$nationality): need numeric data\n",
     "output_type": "error",
     "traceback": [
      "Error in median.default(fifa$nationality): need numeric data\nTraceback:\n",
      "1. median(fifa$nationality)",
      "2. median.default(fifa$nationality)",
      "3. stop(\"need numeric data\")"
     ]
    }
   ],
   "source": [
    "# Não é possível calcular a mediana de dados qualitativos\n",
    "\n",
    "median(fifa$nationality)"
   ]
  },
  {
   "cell_type": "markdown",
   "metadata": {},
   "source": [
    "#### <a id=\"percentil\"></a>Percentil\n",
    "\n",
    "O **Percentil** não é uma medida de tendência central, mas se relaciona bastante com a Mediana. Os percentis são medidas que dividem as nossas amostras tal que **p%** delas sejam menores que o percentil. O **50º percentil**, portanto, é a nossa já conhecida mediana, enquanto o **25º percentil** é denominado primeiro quartil."
   ]
  },
  {
   "cell_type": "code",
   "execution_count": 13,
   "metadata": {},
   "outputs": [
    {
     "data": {
      "text/html": [
       "<table>\n",
       "<thead><tr><th scope=col>0%</th><th scope=col>25%</th><th scope=col>50%</th><th scope=col>75%</th><th scope=col>100%</th></tr></thead>\n",
       "<tbody>\n",
       "\t<tr><td>0     </td><td>1000  </td><td>2000  </td><td>8000  </td><td>215000</td></tr>\n",
       "</tbody>\n",
       "</table>\n"
      ],
      "text/latex": [
       "\\begin{tabular}{lllll}\n",
       " 0\\% & 25\\% & 50\\% & 75\\% & 100\\%\\\\\n",
       "\\hline\n",
       "\t 0      & 1000   & 2000   & 8000   & 215000\\\\\n",
       "\\end{tabular}\n"
      ],
      "text/markdown": [
       "\n",
       "| 0% | 25% | 50% | 75% | 100% |\n",
       "|---|---|---|---|---|\n",
       "| 0      | 1000   | 2000   | 8000   | 215000 |\n",
       "\n"
      ],
      "text/plain": [
       "     0% 25%  50%  75%  100%  \n",
       "[1,] 0  1000 2000 8000 215000"
      ]
     },
     "metadata": {},
     "output_type": "display_data"
    }
   ],
   "source": [
    "# Obtendo os quartis do salário dos jogadores\n",
    "\n",
    "quartis = quantile(fifa$wage_eur)\n",
    "\n",
    "# Transpondo o resultado para ficar mais visualizável\n",
    "t(quartis)"
   ]
  },
  {
   "cell_type": "code",
   "execution_count": 14,
   "metadata": {},
   "outputs": [
    {
     "data": {
      "text/html": [
       "<table>\n",
       "<thead><tr><th scope=col>30%</th><th scope=col>60%</th><th scope=col>90%</th></tr></thead>\n",
       "<tbody>\n",
       "\t<tr><td>1000 </td><td>4000 </td><td>23000</td></tr>\n",
       "</tbody>\n",
       "</table>\n"
      ],
      "text/latex": [
       "\\begin{tabular}{lll}\n",
       " 30\\% & 60\\% & 90\\%\\\\\n",
       "\\hline\n",
       "\t 1000  & 4000  & 23000\\\\\n",
       "\\end{tabular}\n"
      ],
      "text/markdown": [
       "\n",
       "| 30% | 60% | 90% |\n",
       "|---|---|---|\n",
       "| 1000  | 4000  | 23000 |\n",
       "\n"
      ],
      "text/plain": [
       "     30%  60%  90%  \n",
       "[1,] 1000 4000 23000"
      ]
     },
     "metadata": {},
     "output_type": "display_data"
    }
   ],
   "source": [
    "# Obtendo os percentis 30%, 60% e 90% do salário dos jogadores\n",
    "\n",
    "percentis = quantile(fifa$wage_eur, c(.30, .60, .90))\n",
    "\n",
    "# Transpondo o resultado para ficar mais visualizável\n",
    "t(percentis)"
   ]
  },
  {
   "cell_type": "markdown",
   "metadata": {},
   "source": [
    "#### <a id=\"summary\"></a> Summary\n",
    "\n",
    "Uma maneira bem simples de mostrar vários dos valores que vimos até agora é utilizando a função ```summary()```. Ela nos apresenta o *mínimo*, o *1º quartil*, a *mediana*, a *média*, o *3º quartil* e o *máximo* da variável em questão, da seguinte forma:"
   ]
  },
  {
   "cell_type": "code",
   "execution_count": 15,
   "metadata": {},
   "outputs": [
    {
     "data": {
      "text/plain": [
       "   Min. 1st Qu.  Median    Mean 3rd Qu.    Max. \n",
       "      0    1000    2000    8930    8000  215000 "
      ]
     },
     "metadata": {},
     "output_type": "display_data"
    }
   ],
   "source": [
    "# Resumo do salário dos jogadores\n",
    "\n",
    "summary(fifa$wage_eur)"
   ]
  },
  {
   "cell_type": "markdown",
   "metadata": {},
   "source": [
    "### <a id=\"variacao\"></a> Medidas de Variação\n",
    "\n",
    "As **Medidas de Variação** medem o *grau de afastamento* dos dados em torno de um valor central. Elas são importantes para medir a homogeneidade dos dados, indicando se nossas amostras estão próximas entre si ou muito afastadas.\n",
    "\n",
    "#### <a id=\"amplitude\"></a> Amplitude\n",
    "\n",
    "A medida mais simples de variação é a **Amplitude**, que mede simplesmente a diferença entre a maior e a menor amostra. Entretanto, essa medida é bem sensível outliers em suas extremidades.\n",
    "\n",
    "$$ \\large A =  x_{max} - x_{min} $$"
   ]
  },
  {
   "cell_type": "code",
   "execution_count": 16,
   "metadata": {},
   "outputs": [
    {
     "data": {
      "text/html": [
       "215000"
      ],
      "text/latex": [
       "215000"
      ],
      "text/markdown": [
       "215000"
      ],
      "text/plain": [
       "[1] 215000"
      ]
     },
     "metadata": {},
     "output_type": "display_data"
    }
   ],
   "source": [
    "# Calculando a amplitude do salário dos jogadores\n",
    "\n",
    "amplitude = max(fifa$wage_eur) - min(fifa$wage_eur)\n",
    "\n",
    "amplitude"
   ]
  },
  {
   "cell_type": "markdown",
   "metadata": {},
   "source": [
    "#### <a id=\"amplitude_interquartil\"></a> Amplitude Interquartil\n",
    "\n",
    "Uma outra medida de variação mais precisa é a **Amplitude Interquartil**, definida como a diferença entre o 3º e o 1º quartil. Por desprezar os valores mais extremos, essa medida é menos sujeita a flutuações que a amplitude normal."
   ]
  },
  {
   "cell_type": "code",
   "execution_count": 17,
   "metadata": {},
   "outputs": [
    {
     "data": {
      "text/html": [
       "<table>\n",
       "<thead><tr><th scope=col>0%</th><th scope=col>25%</th><th scope=col>50%</th><th scope=col>75%</th><th scope=col>100%</th></tr></thead>\n",
       "<tbody>\n",
       "\t<tr><td>0     </td><td>1000  </td><td>2000  </td><td>8000  </td><td>215000</td></tr>\n",
       "</tbody>\n",
       "</table>\n"
      ],
      "text/latex": [
       "\\begin{tabular}{lllll}\n",
       " 0\\% & 25\\% & 50\\% & 75\\% & 100\\%\\\\\n",
       "\\hline\n",
       "\t 0      & 1000   & 2000   & 8000   & 215000\\\\\n",
       "\\end{tabular}\n"
      ],
      "text/markdown": [
       "\n",
       "| 0% | 25% | 50% | 75% | 100% |\n",
       "|---|---|---|---|---|\n",
       "| 0      | 1000   | 2000   | 8000   | 215000 |\n",
       "\n"
      ],
      "text/plain": [
       "     0% 25%  50%  75%  100%  \n",
       "[1,] 0  1000 2000 8000 215000"
      ]
     },
     "metadata": {},
     "output_type": "display_data"
    }
   ],
   "source": [
    "# Revendo os quartis do salário dos jogadores\n",
    "\n",
    "quartis = quantile(fifa$wage_eur)\n",
    "t(quartis)"
   ]
  },
  {
   "cell_type": "code",
   "execution_count": 18,
   "metadata": {},
   "outputs": [
    {
     "data": {
      "text/html": [
       "7000"
      ],
      "text/latex": [
       "7000"
      ],
      "text/markdown": [
       "7000"
      ],
      "text/plain": [
       "[1] 7000"
      ]
     },
     "metadata": {},
     "output_type": "display_data"
    }
   ],
   "source": [
    "# Calculando a amplitude interquartil do salário dos jogadores\n",
    "\n",
    "IQR(fifa$wage_eur)"
   ]
  },
  {
   "cell_type": "markdown",
   "metadata": {},
   "source": [
    "#### <a id=\"variancia\"></a> Variância\n",
    "\n",
    "A **Variância** é uma medida de variação que mensura a dispersão das amostras com relação à média.\n",
    "\n",
    "Seu valor é obtido a partir do cálculo da média do quadrado das diferenças entre os dados e a média, da seguinte forma:\n",
    "<br>\n",
    "<br>\n",
    "\n",
    "$$\\large s^2 = {\\frac{\\sum_{i=1}^{N}(x_{i} -\\bar{x})^2}{N-1}}$$"
   ]
  },
  {
   "cell_type": "code",
   "execution_count": 19,
   "metadata": {},
   "outputs": [
    {
     "data": {
      "text/html": [
       "410131328.320802"
      ],
      "text/latex": [
       "410131328.320802"
      ],
      "text/markdown": [
       "410131328.320802"
      ],
      "text/plain": [
       "[1] 410131328"
      ]
     },
     "metadata": {},
     "output_type": "display_data"
    }
   ],
   "source": [
    "# Calculando a variância do salário dos jogadores\n",
    "\n",
    "var(fifa$wage_eur)"
   ]
  },
  {
   "cell_type": "markdown",
   "metadata": {},
   "source": [
    "#### <a id=\"desv_pad\"></a> Desvio Padrão\n",
    "\n",
    "O **Desvio Padrão** é uma outra medida de variação obtida simplesmente pela raiz quadrada da variância. Essa raiz é feita para que a unidade de medida seja a mesma dos nossos dados.\n",
    "<br>\n",
    "<br>\n",
    "\n",
    "$$\\large s = \\sqrt{\\frac{\\sum_{i=1}^{N}(x_{i} -\\bar{x})^2}{N-1}}$$"
   ]
  },
  {
   "cell_type": "code",
   "execution_count": 20,
   "metadata": {},
   "outputs": [
    {
     "data": {
      "text/html": [
       "20251.6993934041"
      ],
      "text/latex": [
       "20251.6993934041"
      ],
      "text/markdown": [
       "20251.6993934041"
      ],
      "text/plain": [
       "[1] 20251.7"
      ]
     },
     "metadata": {},
     "output_type": "display_data"
    }
   ],
   "source": [
    "# Calculando o desvio padrão do salário dos jogadores\n",
    "\n",
    "sd(fifa$wage_eur)"
   ]
  },
  {
   "cell_type": "markdown",
   "metadata": {},
   "source": [
    "#### <a id=\"covar\"></a> Covariância\n",
    "\n",
    "A **Covariância** é a medida da *relação linear* entre duas variáveis: seu valor representa o quanto elas \"caminham juntas\". Se a covarância é positiva, significa que as duas crescem juntas; se a covariância é negativa, significa que conforme uma cresce, a outra decresce.\n",
    "\n",
    "Seu valor é obtido da seguinte forma:\n",
    "<br>\n",
    "\n",
    "$$\\large s_{x,y}=\\frac{\\sum_{i=1}^{N}(x_{i}-\\bar{x})(y_{i}-\\bar{y})}{N-1}$$"
   ]
  },
  {
   "cell_type": "code",
   "execution_count": 21,
   "metadata": {},
   "outputs": [
    {
     "data": {
      "text/html": [
       "19168.7295160979"
      ],
      "text/latex": [
       "19168.7295160979"
      ],
      "text/markdown": [
       "19168.7295160979"
      ],
      "text/plain": [
       "[1] 19168.73"
      ]
     },
     "metadata": {},
     "output_type": "display_data"
    }
   ],
   "source": [
    "# Calculando a covarância entre a idade e o salário dos jogadores\n",
    "\n",
    "cov(fifa$age, fifa$wage_eur)"
   ]
  },
  {
   "cell_type": "markdown",
   "metadata": {},
   "source": [
    "A covariância positiva significa que quanto maior a idade do jogador, maior é a chance dele ganhar mais."
   ]
  },
  {
   "cell_type": "markdown",
   "metadata": {},
   "source": [
    "#### <a id=\"ccor\"></a>Coeficiente de Correlação\n",
    "\n",
    "O **Coeficiente de Correlação** também mede a relação linear entre duas variáveis, mas é obtida a partir da divisão da covariância pelos desvios padrões individuais de cada variável. Dessa forma, encontramos uma medida **normalizada** da relação entre as duas. \n",
    "<br>\n",
    "<br>\n",
    "\n",
    "$$\\large r_{x,y}= \\frac{s_{x,y}}{s_{x} s_{y}}$$\n",
    "\n",
    "Quanto mais próximo de 1, maior a _relação linear positiva_ entre as duas variáveis, e seu gráfico se aproxima de uma linha reta _crescente_. Quanto mais próximo de -1, maior a _relação linear negativa_ entre as duas variáveis, e seu gráfico se aproxima de uma linha reta _decrescente_. Quando seu valor é próximo de 0, não existe uma relação muito grande entre as duas variáveis."
   ]
  },
  {
   "cell_type": "code",
   "execution_count": 22,
   "metadata": {},
   "outputs": [
    {
     "data": {
      "text/html": [
       "0.202818021785412"
      ],
      "text/latex": [
       "0.202818021785412"
      ],
      "text/markdown": [
       "0.202818021785412"
      ],
      "text/plain": [
       "[1] 0.202818"
      ]
     },
     "metadata": {},
     "output_type": "display_data"
    }
   ],
   "source": [
    "# Calculando o coeficiente de correlação entre a idade e o salário dos jogadores\n",
    "\n",
    "cor(fifa$age, fifa$wage_eur)"
   ]
  },
  {
   "cell_type": "markdown",
   "metadata": {},
   "source": [
    "A idade dos jogadores tem uma relação linear positiva razoável com seu salário."
   ]
  },
  {
   "cell_type": "markdown",
   "metadata": {},
   "source": [
    "## <a id = \"parte5\"></a><span style=\"color: orange;\"> Parte 5 - Inferência Estatística em R </span>"
   ]
  },
  {
   "cell_type": "code",
   "execution_count": 3,
   "metadata": {},
   "outputs": [],
   "source": [
    "fifa <- read.csv(\"fifa_sample_wsR.csv\", header=TRUE)"
   ]
  },
  {
   "cell_type": "markdown",
   "metadata": {},
   "source": [
    "### <a id=\"testes_de_hipotese\"></a>Testes de Hipótese\n",
    "Muitas vezes, quando estamos fazendo alguma análise, queremos provar que **duas médias são diferentes**. <br>\n",
    "Por exemplo, temos dois grupos de pacientes, um que tomou analgésico e outro que tomou um placebo, e queremos saber se existe diferença na nota que eles atribuem para sua dor antes e depois de tomar o remédio/placebo. <br>\n",
    "<br>\n",
    "Esse é o típico cenário em que devemos aplicar um **teste de hipótese**.\n",
    "<br>\n",
    "#### <a id=\"amostra_pop\"></a> Amostra vs População\n",
    "![censovssample](img/census-vs-sample.jpg)\n",
    "Os testes de hipótese precisam ser feitos porque, muitas vezes, nós não temos a totalidade dos dados e sim uma **amostra**.\n",
    "<br> <br>"
   ]
  },
  {
   "cell_type": "markdown",
   "metadata": {},
   "source": [
    "### Hipóteses e p-valor\n",
    "\n",
    "Existem teoremas matemáticos que garantem que as médias tiradas de amostras aleatorias de uma população convergem para a própria média da população.\n",
    "Mas pode ser que, por acaso, vc tenha pegado uma amostra extrema que não representa essa população - **os testes de hipótese são uma forma de verificar qual é essa probabilidade e se ela é considerável**.\n",
    "Os **testes de hipóteses** têm uma estrutura comum. Eles assumem uma *hipótese nula* e uma *hipótese alternativa*.<br>\n",
    "Em geral: <br>\n",
    "$H_0 =$ (hipótese nula) as médias são iguais <br>\n",
    "$H_A =$ (hipótese alternativa) as médias são diferentes (você pode mudar isso para \"maior\" ou \"menor\" também\n",
    "<br>\n",
    "O que o teste de hipótese nos retorna é o **p-valor**, ele nos dá **a probabilidade de cometer um erro ao falar que $H_A$ está certa** . <br>\n",
    "Em geral, quando o $p-valor \\leq 0.05$ aceitamos $H_A$, pois a probabilidade de \"estarmos falando besteira\" é menor do que 5%\n",
    "\n",
    "![erros](img/erros.png)"
   ]
  },
  {
   "cell_type": "markdown",
   "metadata": {},
   "source": [
    "#### <a id=\"par_vs_npar\"></a> Testes paramétricos VS não-paramétricos\n",
    "![distribuicaonormal](img/normal.jpeg)\n",
    "Os testes de hipótese podem ser divididos entre paramétricos e não paramétricos.\n",
    "<br>\n",
    "Os testes **paramétricos** assumem a **distribuição normal dos dados**, enquanto os **não paramétricos** não possuem tal premissa.<br>\n",
    "A distribuição normal é a famosa curva de sino, em que a maioria dos valores estão próximos de uma média.\n",
    "#### <a id=\"ks\"></a> Kolgomorov-Smirnov\n",
    "Para saber se devemos ou não aplicar um teste paramétrico ou não paramétrico, precisamos saber se nossos dados seguem ou não uma distribuição normal. Para isso usamos o teste de *Kolgomorov-Smirnov* comparando a nossa amostra com uma distribuição normal.\n",
    "Nesse teste, as hipóteses são as seguintes:<br>\n",
    "$H_0 = $ a distribuição é normal <br>\n",
    "$H_A = $ a distribuição não é normal\n"
   ]
  },
  {
   "cell_type": "markdown",
   "metadata": {},
   "source": [
    "Aplicando o ks nas variáveis da base fifa:"
   ]
  },
  {
   "cell_type": "code",
   "execution_count": 4,
   "metadata": {
    "scrolled": true
   },
   "outputs": [
    {
     "name": "stderr",
     "output_type": "stream",
     "text": [
      "Warning message in ks.test(fifa$height_cm, \"pnorm\", mean(fifa$height_cm), sd(fifa$height_cm)):\n",
      "“ties should not be present for the Kolmogorov-Smirnov test”\n"
     ]
    },
    {
     "data": {
      "text/plain": [
       "\n",
       "\tOne-sample Kolmogorov-Smirnov test\n",
       "\n",
       "data:  fifa$height_cm\n",
       "D = 0.049348, p-value = 0.2167\n",
       "alternative hypothesis: two-sided\n"
      ]
     },
     "metadata": {},
     "output_type": "display_data"
    }
   ],
   "source": [
    "ks.test(fifa$height_cm,\"pnorm\", mean(fifa$height_cm), sd(fifa$height_cm))"
   ]
  },
  {
   "cell_type": "markdown",
   "metadata": {},
   "source": [
    "Parece que **a altura dos jogadores $\\huge {não}$ pode ser considerada $\\huge {não}$ normal!**"
   ]
  },
  {
   "cell_type": "code",
   "execution_count": 5,
   "metadata": {},
   "outputs": [
    {
     "name": "stderr",
     "output_type": "stream",
     "text": [
      "Warning message in ks.test(fifa$wage_eur, \"pnorm\", mean(fifa$wage_eur), sd(fifa$wage_eur)):\n",
      "“ties should not be present for the Kolmogorov-Smirnov test”\n"
     ]
    },
    {
     "data": {
      "text/plain": [
       "\n",
       "\tOne-sample Kolmogorov-Smirnov test\n",
       "\n",
       "data:  fifa$wage_eur\n",
       "D = 0.34009, p-value < 2.2e-16\n",
       "alternative hypothesis: two-sided\n"
      ]
     },
     "metadata": {},
     "output_type": "display_data"
    }
   ],
   "source": [
    "ks.test(fifa$wage_eur,\"pnorm\", mean(fifa$wage_eur), sd(fifa$wage_eur))"
   ]
  },
  {
   "cell_type": "markdown",
   "metadata": {},
   "source": [
    "Parece que **o salário dos jogadores pode ser considerado $\\huge {não}$ normal!**"
   ]
  },
  {
   "cell_type": "markdown",
   "metadata": {},
   "source": [
    "#### <a id=\"ttest\"></a> Teste T\n",
    "Existem dois testes mais conhecidos para comparar médias, o teste T e o teste Z. O teste Z é mais usado para comparar uma média amostral com uma média teórica, apesar de poder ser usado para comparar duas médias amostrais também. <br>\n",
    "O teste Z não é nativo do R, mas aceitando-se $H_A$ de teste T = também aceitaria-se ela via teste Z\n",
    "<br>\n",
    "Vamos aqui aplicar um teste que compara as médias, o teste t. A hipótese nula é de que as médias são iguais e a alternativa é de que são diferentes. <br>\n",
    "Esse teste precisa saber se as variâncias são iguais ou diferentes. Pra isso vamos aplicar um teste chamado teste F. <br>\n",
    "Para o teste  F, a hipótese nula é de que as variâncias são diferentes."
   ]
  },
  {
   "cell_type": "code",
   "execution_count": 10,
   "metadata": {},
   "outputs": [],
   "source": [
    "destros = fifa %>% filter(preferred_foot == 'Right')\n",
    "canhotos = fifa %>% filter(preferred_foot == 'Left')"
   ]
  },
  {
   "cell_type": "code",
   "execution_count": 12,
   "metadata": {},
   "outputs": [
    {
     "name": "stdout",
     "output_type": "stream",
     "text": [
      "[1] \"Valor p do teste:  0.178171087327637\"\n"
     ]
    }
   ],
   "source": [
    "f_test = var.test(destros$height_cm, canhotos$height_cm)\n",
    "print(paste(\"Valor p do teste: \", f_test$p.value))"
   ]
  },
  {
   "cell_type": "markdown",
   "metadata": {},
   "source": [
    "Como não podemos aceitar que as variâncias são diferentes, vamos prosseguir assumindo homocedasticidade (variâncias iguais)"
   ]
  },
  {
   "cell_type": "code",
   "execution_count": 14,
   "metadata": {
    "scrolled": true
   },
   "outputs": [
    {
     "name": "stdout",
     "output_type": "stream",
     "text": [
      "[1] \"Valor p do teste:  0.495998016266609\"\n"
     ]
    }
   ],
   "source": [
    "t_test <- t.test(destros$height_cm, canhotos$height_cm, var.equal = TRUE)\n",
    "print(paste(\"Valor p do teste: \", t_test$p.value))"
   ]
  },
  {
   "cell_type": "markdown",
   "metadata": {},
   "source": [
    "Não podemos considerar que as alturas são diferentes entre os destros e os canhotos"
   ]
  },
  {
   "cell_type": "markdown",
   "metadata": {},
   "source": [
    "#### <a id=\"anova\"></a> ANOVA de um fator\n",
    "Para comparar três ou mais médias, utilizaremos um teste de hipóteses chamado ANOVA (Análise de variância) de um fator<br>\n",
    "Aqui, a $H_A$ é que *alguma das médias é diferentes da outras*"
   ]
  },
  {
   "cell_type": "code",
   "execution_count": 22,
   "metadata": {
    "scrolled": true
   },
   "outputs": [
    {
     "data": {
      "text/plain": [
       "             Df Sum Sq Mean Sq F value Pr(>F)  \n",
       "nationality  74   4573   61.79   1.392 0.0258 *\n",
       "Residuals   381  16916   44.40                 \n",
       "---\n",
       "Signif. codes:  0 ‘***’ 0.001 ‘**’ 0.01 ‘*’ 0.05 ‘.’ 0.1 ‘ ’ 1"
      ]
     },
     "metadata": {},
     "output_type": "display_data"
    }
   ],
   "source": [
    "anova <- aov(height_cm ~ nationality, data = fifa)\n",
    "summary(anova)"
   ]
  },
  {
   "cell_type": "markdown",
   "metadata": {},
   "source": [
    "Temos que `Pr(>F)` é o nosso valor P, ele foi bem baixo, o que nos leva a concluir que há diferença de alturas entre os jogadores por nacionalidade. Só de curiosidade, vejamos:"
   ]
  },
  {
   "cell_type": "code",
   "execution_count": 25,
   "metadata": {},
   "outputs": [
    {
     "data": {
      "text/html": [
       "<table>\n",
       "<caption>A tibble: 6 × 2</caption>\n",
       "<thead>\n",
       "\t<tr><th scope=col>nationality</th><th scope=col>altura_media</th></tr>\n",
       "\t<tr><th scope=col>&lt;fct&gt;</th><th scope=col>&lt;dbl&gt;</th></tr>\n",
       "</thead>\n",
       "<tbody>\n",
       "\t<tr><td>Wales      </td><td>190.00</td></tr>\n",
       "\t<tr><td>Finland    </td><td>189.00</td></tr>\n",
       "\t<tr><td>Switzerland</td><td>188.00</td></tr>\n",
       "\t<tr><td>Gabon      </td><td>187.00</td></tr>\n",
       "\t<tr><td>Australia  </td><td>186.25</td></tr>\n",
       "\t<tr><td>Belgium    </td><td>186.00</td></tr>\n",
       "</tbody>\n",
       "</table>\n"
      ],
      "text/latex": [
       "A tibble: 6 × 2\n",
       "\\begin{tabular}{ll}\n",
       " nationality & altura\\_media\\\\\n",
       " <fct> & <dbl>\\\\\n",
       "\\hline\n",
       "\t Wales       & 190.00\\\\\n",
       "\t Finland     & 189.00\\\\\n",
       "\t Switzerland & 188.00\\\\\n",
       "\t Gabon       & 187.00\\\\\n",
       "\t Australia   & 186.25\\\\\n",
       "\t Belgium     & 186.00\\\\\n",
       "\\end{tabular}\n"
      ],
      "text/markdown": [
       "\n",
       "A tibble: 6 × 2\n",
       "\n",
       "| nationality &lt;fct&gt; | altura_media &lt;dbl&gt; |\n",
       "|---|---|\n",
       "| Wales       | 190.00 |\n",
       "| Finland     | 189.00 |\n",
       "| Switzerland | 188.00 |\n",
       "| Gabon       | 187.00 |\n",
       "| Australia   | 186.25 |\n",
       "| Belgium     | 186.00 |\n",
       "\n"
      ],
      "text/plain": [
       "  nationality altura_media\n",
       "1 Wales       190.00      \n",
       "2 Finland     189.00      \n",
       "3 Switzerland 188.00      \n",
       "4 Gabon       187.00      \n",
       "5 Australia   186.25      \n",
       "6 Belgium     186.00      "
      ]
     },
     "metadata": {},
     "output_type": "display_data"
    }
   ],
   "source": [
    "fifa_alturas = fifa %>% group_by(nationality) %>% summarise(altura_media = mean(height_cm)) %>% arrange(desc(altura_media))\n",
    "head(fifa_alturas)"
   ]
  },
  {
   "cell_type": "markdown",
   "metadata": {},
   "source": [
    "## Não paramétricos - Wilcoxon-Mann-Whitney e Kruskal-Wallis\n",
    "Técnicas não paramétricas fazem poucas suposições sobre as distribuições originais.\n",
    "#### <a href=\"wmw\"></a>Wilcoxon-Mann-Whitney\n",
    "O teste U de Mann-Whitney (também conhecido por teste da soma dos postos de Wilcoxon, teste de Wilcoxon-Mann-Whitney ou teste de Mann-Whitney) é a versão da rotina de teste não-paramétrico de t de Student."
   ]
  },
  {
   "cell_type": "code",
   "execution_count": 19,
   "metadata": {
    "scrolled": false
   },
   "outputs": [
    {
     "data": {
      "text/plain": [
       "\n",
       "\tWilcoxon rank sum test with continuity correction\n",
       "\n",
       "data:  destros$wage_eur and canhotos$wage_eur\n",
       "W = 18692, p-value = 0.1708\n",
       "alternative hypothesis: true location shift is not equal to 0\n"
      ]
     },
     "metadata": {},
     "output_type": "display_data"
    }
   ],
   "source": [
    "wilcox.test(destros$wage_eur, canhotos$wage_eur)"
   ]
  },
  {
   "cell_type": "markdown",
   "metadata": {},
   "source": [
    "O teste teve $p_{valor}$ bem pequeno, o que nos pode faz concluir que existe diferença entre ganho de capital entre homens e mulheres"
   ]
  },
  {
   "cell_type": "markdown",
   "metadata": {},
   "source": [
    "#### <a href=\"kw\"></a> Kruskal Wallys\n",
    "É um teste não paramétrico utilizado para comparar três ou mais populações. Ele é usado para testar a hipótese nula de que todas as populações possuem funções de distribuição iguais contra a hipótese alternativa de que ao menos duas das populações possuem funções de distribuição diferentes."
   ]
  },
  {
   "cell_type": "code",
   "execution_count": 26,
   "metadata": {},
   "outputs": [
    {
     "data": {
      "text/plain": [
       "\n",
       "\tKruskal-Wallis rank sum test\n",
       "\n",
       "data:  wage_eur by nationality\n",
       "Kruskal-Wallis chi-squared = 130.36, df = 74, p-value = 5.797e-05\n"
      ]
     },
     "metadata": {},
     "output_type": "display_data"
    }
   ],
   "source": [
    "kruskal.test(wage_eur ~ nationality, data = fifa)"
   ]
  },
  {
   "cell_type": "markdown",
   "metadata": {},
   "source": [
    "O nosso valor P foi bem baixo, o que nos leva a concluir que há diferença de salários entre os jogadores por nacionalidade."
   ]
  }
 ],
 "metadata": {
  "kernelspec": {
   "display_name": "R",
   "language": "R",
   "name": "ir"
  },
  "language_info": {
   "codemirror_mode": "r",
   "file_extension": ".r",
   "mimetype": "text/x-r-source",
   "name": "R",
   "pygments_lexer": "r",
   "version": "3.6.1"
  }
 },
 "nbformat": 4,
 "nbformat_minor": 4
}
