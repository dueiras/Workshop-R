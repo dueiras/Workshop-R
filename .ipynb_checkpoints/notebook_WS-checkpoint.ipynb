{
 "cells": [
  {
   "cell_type": "markdown",
   "metadata": {},
   "source": [
    "#  R tutorial"
   ]
  },
  {
   "cell_type": "markdown",
   "metadata": {},
   "source": [
    "### Packages "
   ]
  },
  {
   "cell_type": "code",
   "execution_count": 1,
   "metadata": {},
   "outputs": [
    {
     "data": {
      "text/html": [
       "'C:/Users/dueir/anaconda3/envs/Renv/Lib/R/library'"
      ],
      "text/latex": [
       "'C:/Users/dueir/anaconda3/envs/Renv/Lib/R/library'"
      ],
      "text/markdown": [
       "'C:/Users/dueir/anaconda3/envs/Renv/Lib/R/library'"
      ],
      "text/plain": [
       "[1] \"C:/Users/dueir/anaconda3/envs/Renv/Lib/R/library\""
      ]
     },
     "metadata": {},
     "output_type": "display_data"
    },
    {
     "data": {
      "text/html": [
       "<ol class=list-inline>\n",
       "\t<li>'.GlobalEnv'</li>\n",
       "\t<li>'jupyter:irkernel'</li>\n",
       "\t<li>'package:stats'</li>\n",
       "\t<li>'package:graphics'</li>\n",
       "\t<li>'package:grDevices'</li>\n",
       "\t<li>'package:utils'</li>\n",
       "\t<li>'package:datasets'</li>\n",
       "\t<li>'package:methods'</li>\n",
       "\t<li>'Autoloads'</li>\n",
       "\t<li>'package:base'</li>\n",
       "</ol>\n"
      ],
      "text/latex": [
       "\\begin{enumerate*}\n",
       "\\item '.GlobalEnv'\n",
       "\\item 'jupyter:irkernel'\n",
       "\\item 'package:stats'\n",
       "\\item 'package:graphics'\n",
       "\\item 'package:grDevices'\n",
       "\\item 'package:utils'\n",
       "\\item 'package:datasets'\n",
       "\\item 'package:methods'\n",
       "\\item 'Autoloads'\n",
       "\\item 'package:base'\n",
       "\\end{enumerate*}\n"
      ],
      "text/markdown": [
       "1. '.GlobalEnv'\n",
       "2. 'jupyter:irkernel'\n",
       "3. 'package:stats'\n",
       "4. 'package:graphics'\n",
       "5. 'package:grDevices'\n",
       "6. 'package:utils'\n",
       "7. 'package:datasets'\n",
       "8. 'package:methods'\n",
       "9. 'Autoloads'\n",
       "10. 'package:base'\n",
       "\n",
       "\n"
      ],
      "text/plain": [
       " [1] \".GlobalEnv\"        \"jupyter:irkernel\"  \"package:stats\"    \n",
       " [4] \"package:graphics\"  \"package:grDevices\" \"package:utils\"    \n",
       " [7] \"package:datasets\"  \"package:methods\"   \"Autoloads\"        \n",
       "[10] \"package:base\"     "
      ]
     },
     "metadata": {},
     "output_type": "display_data"
    }
   ],
   "source": [
    ".libPaths() # get library location\n",
    "library()   # see all packages installed\n",
    "search()    # see packages currently loaded"
   ]
  },
  {
   "cell_type": "markdown",
   "metadata": {},
   "source": [
    "### Getting Help "
   ]
  },
  {
   "cell_type": "code",
   "execution_count": null,
   "metadata": {},
   "outputs": [],
   "source": [
    "help.start()   # general help\n",
    "help(foo)      # help about function foo\n",
    "?foo           # same thing\n",
    "apropos(\"foo\") # list all functions containing string foo\n",
    "example(foo)   # show an example of function foo"
   ]
  },
  {
   "cell_type": "markdown",
   "metadata": {},
   "source": [
    "## Basics "
   ]
  },
  {
   "cell_type": "markdown",
   "metadata": {},
   "source": [
    "Assign a value to a variable:\n",
    "x <- 42"
   ]
  },
  {
   "cell_type": "code",
   "execution_count": 1,
   "metadata": {},
   "outputs": [
    {
     "ename": "ERROR",
     "evalue": "Error in mydata$x1 = 10: object 'mydata' not found\n",
     "output_type": "error",
     "traceback": [
      "Error in mydata$x1 = 10: object 'mydata' not found\nTraceback:\n"
     ]
    }
   ],
   "source": [
    "mydata$x1 = 10\n",
    "mydata$x2 = 20"
   ]
  },
  {
   "cell_type": "markdown",
   "metadata": {},
   "source": [
    "### Get the data type "
   ]
  },
  {
   "cell_type": "code",
   "execution_count": 3,
   "metadata": {},
   "outputs": [
    {
     "data": {
      "text/html": [
       "'numeric'"
      ],
      "text/latex": [
       "'numeric'"
      ],
      "text/markdown": [
       "'numeric'"
      ],
      "text/plain": [
       "[1] \"numeric\""
      ]
     },
     "metadata": {},
     "output_type": "display_data"
    },
    {
     "data": {
      "text/html": [
       "'character'"
      ],
      "text/latex": [
       "'character'"
      ],
      "text/markdown": [
       "'character'"
      ],
      "text/plain": [
       "[1] \"character\""
      ]
     },
     "metadata": {},
     "output_type": "display_data"
    },
    {
     "data": {
      "text/html": [
       "'logical'"
      ],
      "text/latex": [
       "'logical'"
      ],
      "text/markdown": [
       "'logical'"
      ],
      "text/plain": [
       "[1] \"logical\""
      ]
     },
     "metadata": {},
     "output_type": "display_data"
    }
   ],
   "source": [
    "# Declare variables of different types\n",
    "my_numeric <- 42\n",
    "my_character <- \"universe\"\n",
    "my_logical <- FALSE \n",
    "\n",
    "# Check class of my_numeric\n",
    "class(my_numeric)\n",
    "\n",
    "# Check class of my_character\n",
    "class(my_character)\n",
    "\n",
    "# Check class of my_logical\n",
    "class(my_logical)"
   ]
  },
  {
   "cell_type": "code",
   "execution_count": 2,
   "metadata": {},
   "outputs": [
    {
     "ename": "ERROR",
     "evalue": "Error in eval(expr, envir, enclos): object 'mydata' not found\n",
     "output_type": "error",
     "traceback": [
      "Error in eval(expr, envir, enclos): object 'mydata' not found\nTraceback:\n"
     ]
    }
   ],
   "source": [
    "mydata$sum <- mydata$x1 + mydata$x2"
   ]
  },
  {
   "cell_type": "code",
   "execution_count": null,
   "metadata": {},
   "outputs": [],
   "source": [
    "mydata$mean <- (mydata$x1 + mydata$x2)/2"
   ]
  },
  {
   "cell_type": "markdown",
   "metadata": {},
   "source": [
    "### Matrix "
   ]
  },
  {
   "cell_type": "markdown",
   "metadata": {},
   "source": [
    "matrix(data, nrow, ncol, byrow = FALSE)"
   ]
  },
  {
   "cell_type": "markdown",
   "metadata": {},
   "source": [
    "data: The collection of elements that R will arrange into the rows and columns of the matrix \n",
    "\n",
    "nrow: Number of rows \n",
    "\n",
    "ncol: Number of columns\n",
    "\n",
    "byrow: The rows are filled from the left to the right. We use `byrow = FALSE` (default values), if we want the matrix to be filled by the columns i.e. the values are filled top to bottom."
   ]
  },
  {
   "cell_type": "code",
   "execution_count": 4,
   "metadata": {
    "scrolled": true
   },
   "outputs": [
    {
     "data": {
      "text/html": [
       "<table>\n",
       "<tbody>\n",
       "\t<tr><td>1 </td><td> 2</td></tr>\n",
       "\t<tr><td>3 </td><td> 4</td></tr>\n",
       "\t<tr><td>5 </td><td> 6</td></tr>\n",
       "\t<tr><td>7 </td><td> 8</td></tr>\n",
       "\t<tr><td>9 </td><td>10</td></tr>\n",
       "</tbody>\n",
       "</table>\n"
      ],
      "text/latex": [
       "\\begin{tabular}{ll}\n",
       "\t 1  &  2\\\\\n",
       "\t 3  &  4\\\\\n",
       "\t 5  &  6\\\\\n",
       "\t 7  &  8\\\\\n",
       "\t 9  & 10\\\\\n",
       "\\end{tabular}\n"
      ],
      "text/markdown": [
       "\n",
       "| 1  |  2 |\n",
       "| 3  |  4 |\n",
       "| 5  |  6 |\n",
       "| 7  |  8 |\n",
       "| 9  | 10 |\n",
       "\n"
      ],
      "text/plain": [
       "     [,1] [,2]\n",
       "[1,] 1     2  \n",
       "[2,] 3     4  \n",
       "[3,] 5     6  \n",
       "[4,] 7     8  \n",
       "[5,] 9    10  "
      ]
     },
     "metadata": {},
     "output_type": "display_data"
    }
   ],
   "source": [
    "# Construct a matrix with 5 rows that contain the numbers 1 up to 10 and byrow =  TRUE \n",
    "matrix_a <-matrix(1:10, byrow = TRUE, nrow = 5)\n",
    "matrix_a"
   ]
  },
  {
   "cell_type": "code",
   "execution_count": 5,
   "metadata": {
    "scrolled": true
   },
   "outputs": [
    {
     "data": {
      "text/html": [
       "<ol class=list-inline>\n",
       "\t<li>5</li>\n",
       "\t<li>2</li>\n",
       "</ol>\n"
      ],
      "text/latex": [
       "\\begin{enumerate*}\n",
       "\\item 5\n",
       "\\item 2\n",
       "\\end{enumerate*}\n"
      ],
      "text/markdown": [
       "1. 5\n",
       "2. 2\n",
       "\n",
       "\n"
      ],
      "text/plain": [
       "[1] 5 2"
      ]
     },
     "metadata": {},
     "output_type": "display_data"
    }
   ],
   "source": [
    "# Print dimension of the matrix with dim()\n",
    "dim(matrix_a)"
   ]
  },
  {
   "cell_type": "code",
   "execution_count": 6,
   "metadata": {
    "scrolled": true
   },
   "outputs": [
    {
     "data": {
      "text/html": [
       "<table>\n",
       "<tbody>\n",
       "\t<tr><td>1 </td><td> 6</td></tr>\n",
       "\t<tr><td>2 </td><td> 7</td></tr>\n",
       "\t<tr><td>3 </td><td> 8</td></tr>\n",
       "\t<tr><td>4 </td><td> 9</td></tr>\n",
       "\t<tr><td>5 </td><td>10</td></tr>\n",
       "</tbody>\n",
       "</table>\n"
      ],
      "text/latex": [
       "\\begin{tabular}{ll}\n",
       "\t 1  &  6\\\\\n",
       "\t 2  &  7\\\\\n",
       "\t 3  &  8\\\\\n",
       "\t 4  &  9\\\\\n",
       "\t 5  & 10\\\\\n",
       "\\end{tabular}\n"
      ],
      "text/markdown": [
       "\n",
       "| 1  |  6 |\n",
       "| 2  |  7 |\n",
       "| 3  |  8 |\n",
       "| 4  |  9 |\n",
       "| 5  | 10 |\n",
       "\n"
      ],
      "text/plain": [
       "     [,1] [,2]\n",
       "[1,] 1     6  \n",
       "[2,] 2     7  \n",
       "[3,] 3     8  \n",
       "[4,] 4     9  \n",
       "[5,] 5    10  "
      ]
     },
     "metadata": {},
     "output_type": "display_data"
    }
   ],
   "source": [
    "# Construct a matrix with 5 rows that contain the numbers 1 up to 10 and byrow =  FALSE\n",
    "matrix_b <-matrix(1:10, byrow = FALSE, nrow = 5)\n",
    "matrix_b"
   ]
  },
  {
   "cell_type": "code",
   "execution_count": 7,
   "metadata": {},
   "outputs": [
    {
     "data": {
      "text/html": [
       "<ol class=list-inline>\n",
       "\t<li>5</li>\n",
       "\t<li>3</li>\n",
       "</ol>\n"
      ],
      "text/latex": [
       "\\begin{enumerate*}\n",
       "\\item 5\n",
       "\\item 3\n",
       "\\end{enumerate*}\n"
      ],
      "text/markdown": [
       "1. 5\n",
       "2. 3\n",
       "\n",
       "\n"
      ],
      "text/plain": [
       "[1] 5 3"
      ]
     },
     "metadata": {},
     "output_type": "display_data"
    }
   ],
   "source": [
    "# concatenate c(1:5) to the matrix_a\n",
    "matrix_a1 <- cbind(matrix_a, c(1:5))\n",
    "# Check the dimension\n",
    "dim(matrix_a1)"
   ]
  },
  {
   "cell_type": "code",
   "execution_count": 8,
   "metadata": {},
   "outputs": [
    {
     "data": {
      "text/html": [
       "<table>\n",
       "<tbody>\n",
       "\t<tr><td>1 </td><td> 2</td><td>1 </td></tr>\n",
       "\t<tr><td>3 </td><td> 4</td><td>2 </td></tr>\n",
       "\t<tr><td>5 </td><td> 6</td><td>3 </td></tr>\n",
       "\t<tr><td>7 </td><td> 8</td><td>4 </td></tr>\n",
       "\t<tr><td>9 </td><td>10</td><td>5 </td></tr>\n",
       "</tbody>\n",
       "</table>\n"
      ],
      "text/latex": [
       "\\begin{tabular}{lll}\n",
       "\t 1  &  2 & 1 \\\\\n",
       "\t 3  &  4 & 2 \\\\\n",
       "\t 5  &  6 & 3 \\\\\n",
       "\t 7  &  8 & 4 \\\\\n",
       "\t 9  & 10 & 5 \\\\\n",
       "\\end{tabular}\n"
      ],
      "text/markdown": [
       "\n",
       "| 1  |  2 | 1  |\n",
       "| 3  |  4 | 2  |\n",
       "| 5  |  6 | 3  |\n",
       "| 7  |  8 | 4  |\n",
       "| 9  | 10 | 5  |\n",
       "\n"
      ],
      "text/plain": [
       "     [,1] [,2] [,3]\n",
       "[1,] 1     2   1   \n",
       "[2,] 3     4   2   \n",
       "[3,] 5     6   3   \n",
       "[4,] 7     8   4   \n",
       "[5,] 9    10   5   "
      ]
     },
     "metadata": {},
     "output_type": "display_data"
    }
   ],
   "source": [
    "matrix_a1"
   ]
  },
  {
   "cell_type": "code",
   "execution_count": 9,
   "metadata": {
    "scrolled": false
   },
   "outputs": [
    {
     "data": {
      "text/html": [
       "<table>\n",
       "<tbody>\n",
       "\t<tr><td>13</td><td>17</td><td>21</td></tr>\n",
       "\t<tr><td>14</td><td>18</td><td>22</td></tr>\n",
       "\t<tr><td>15</td><td>19</td><td>23</td></tr>\n",
       "\t<tr><td>16</td><td>20</td><td>24</td></tr>\n",
       "</tbody>\n",
       "</table>\n"
      ],
      "text/latex": [
       "\\begin{tabular}{lll}\n",
       "\t 13 & 17 & 21\\\\\n",
       "\t 14 & 18 & 22\\\\\n",
       "\t 15 & 19 & 23\\\\\n",
       "\t 16 & 20 & 24\\\\\n",
       "\\end{tabular}\n"
      ],
      "text/markdown": [
       "\n",
       "| 13 | 17 | 21 |\n",
       "| 14 | 18 | 22 |\n",
       "| 15 | 19 | 23 |\n",
       "| 16 | 20 | 24 |\n",
       "\n"
      ],
      "text/plain": [
       "     [,1] [,2] [,3]\n",
       "[1,] 13   17   21  \n",
       "[2,] 14   18   22  \n",
       "[3,] 15   19   23  \n",
       "[4,] 16   20   24  "
      ]
     },
     "metadata": {},
     "output_type": "display_data"
    }
   ],
   "source": [
    "matrix_a2 <-matrix(13:24, byrow = FALSE, ncol = 3)\n",
    "matrix_a2"
   ]
  },
  {
   "cell_type": "markdown",
   "metadata": {},
   "source": [
    "matrix_c[1,2] selects the element at the first row and second column.\n",
    "\n",
    "matrix_c[1:3,2:3] results in a matrix with the data on the rows 1, 2, 3 and columns 2, 3,\n",
    "\n",
    "matrix_c[,1] selects all elements of the first column.\n",
    "\n",
    "matrix_c[1,] selects all elements of the first row."
   ]
  },
  {
   "cell_type": "markdown",
   "metadata": {},
   "source": [
    "## Import a CSV"
   ]
  },
  {
   "cell_type": "code",
   "execution_count": null,
   "metadata": {},
   "outputs": [],
   "source": [
    "# first row contains variable names, comma is separator\n",
    "# assign the variable id to row names\n",
    "# note the / instead of \\ on mswindows systems\n",
    "\n",
    "mydata <- read.table(\"c:/mydata.csv\", header=TRUE,\n",
    "   sep=\",\", row.names=\"id\")"
   ]
  },
  {
   "cell_type": "markdown",
   "metadata": {},
   "source": [
    "### Data Frame "
   ]
  },
  {
   "cell_type": "code",
   "execution_count": 12,
   "metadata": {
    "scrolled": true
   },
   "outputs": [
    {
     "data": {
      "text/html": [
       "<table>\n",
       "<thead><tr><th scope=col>a</th><th scope=col>b</th><th scope=col>c</th><th scope=col>d</th></tr></thead>\n",
       "<tbody>\n",
       "\t<tr><td>10         </td><td>book       </td><td> TRUE      </td><td> 2.5       </td></tr>\n",
       "\t<tr><td>20         </td><td>pen        </td><td>FALSE      </td><td> 8.0       </td></tr>\n",
       "\t<tr><td>30         </td><td>textbook   </td><td> TRUE      </td><td>10.0       </td></tr>\n",
       "\t<tr><td>40         </td><td>pencil_case</td><td>FALSE      </td><td> 7.0       </td></tr>\n",
       "</tbody>\n",
       "</table>\n"
      ],
      "text/latex": [
       "\\begin{tabular}{r|llll}\n",
       " a & b & c & d\\\\\n",
       "\\hline\n",
       "\t 10          & book        &  TRUE       &  2.5       \\\\\n",
       "\t 20          & pen         & FALSE       &  8.0       \\\\\n",
       "\t 30          & textbook    &  TRUE       & 10.0       \\\\\n",
       "\t 40            & pencil\\_case & FALSE         &  7.0         \\\\\n",
       "\\end{tabular}\n"
      ],
      "text/markdown": [
       "\n",
       "| a | b | c | d |\n",
       "|---|---|---|---|\n",
       "| 10          | book        |  TRUE       |  2.5        |\n",
       "| 20          | pen         | FALSE       |  8.0        |\n",
       "| 30          | textbook    |  TRUE       | 10.0        |\n",
       "| 40          | pencil_case | FALSE       |  7.0        |\n",
       "\n"
      ],
      "text/plain": [
       "  a  b           c     d   \n",
       "1 10 book         TRUE  2.5\n",
       "2 20 pen         FALSE  8.0\n",
       "3 30 textbook     TRUE 10.0\n",
       "4 40 pencil_case FALSE  7.0"
      ]
     },
     "metadata": {},
     "output_type": "display_data"
    }
   ],
   "source": [
    "# Create a, b, c, d variables\n",
    "a <- c(10,20,30,40)\n",
    "b <- c('book', 'pen', 'textbook', 'pencil_case')\n",
    "c <- c(TRUE,FALSE,TRUE,FALSE)\n",
    "d <- c(2.5, 8, 10, 7)\n",
    "# Join the variables to create a data frame\n",
    "df <- data.frame(a,b,c,d)\n",
    "df"
   ]
  },
  {
   "cell_type": "code",
   "execution_count": 13,
   "metadata": {
    "scrolled": true
   },
   "outputs": [
    {
     "data": {
      "text/html": [
       "<table>\n",
       "<thead><tr><th scope=col>ID</th><th scope=col>items</th><th scope=col>store</th><th scope=col>price</th></tr></thead>\n",
       "<tbody>\n",
       "\t<tr><td>10         </td><td>book       </td><td> TRUE      </td><td> 2.5       </td></tr>\n",
       "\t<tr><td>20         </td><td>pen        </td><td>FALSE      </td><td> 8.0       </td></tr>\n",
       "\t<tr><td>30         </td><td>textbook   </td><td> TRUE      </td><td>10.0       </td></tr>\n",
       "\t<tr><td>40         </td><td>pencil_case</td><td>FALSE      </td><td> 7.0       </td></tr>\n",
       "</tbody>\n",
       "</table>\n"
      ],
      "text/latex": [
       "\\begin{tabular}{r|llll}\n",
       " ID & items & store & price\\\\\n",
       "\\hline\n",
       "\t 10          & book        &  TRUE       &  2.5       \\\\\n",
       "\t 20          & pen         & FALSE       &  8.0       \\\\\n",
       "\t 30          & textbook    &  TRUE       & 10.0       \\\\\n",
       "\t 40            & pencil\\_case & FALSE         &  7.0         \\\\\n",
       "\\end{tabular}\n"
      ],
      "text/markdown": [
       "\n",
       "| ID | items | store | price |\n",
       "|---|---|---|---|\n",
       "| 10          | book        |  TRUE       |  2.5        |\n",
       "| 20          | pen         | FALSE       |  8.0        |\n",
       "| 30          | textbook    |  TRUE       | 10.0        |\n",
       "| 40          | pencil_case | FALSE       |  7.0        |\n",
       "\n"
      ],
      "text/plain": [
       "  ID items       store price\n",
       "1 10 book         TRUE  2.5 \n",
       "2 20 pen         FALSE  8.0 \n",
       "3 30 textbook     TRUE 10.0 \n",
       "4 40 pencil_case FALSE  7.0 "
      ]
     },
     "metadata": {},
     "output_type": "display_data"
    }
   ],
   "source": [
    "# Name the data frame\n",
    "names(df) <- c('ID', 'items', 'store', 'price')\n",
    "df"
   ]
  },
  {
   "cell_type": "code",
   "execution_count": 14,
   "metadata": {},
   "outputs": [
    {
     "data": {
      "text/html": [
       "book\n",
       "<details>\n",
       "\t<summary style=display:list-item;cursor:pointer>\n",
       "\t\t<strong>Levels</strong>:\n",
       "\t</summary>\n",
       "\t<ol class=list-inline>\n",
       "\t\t<li>'book'</li>\n",
       "\t\t<li>'pen'</li>\n",
       "\t\t<li>'pencil_case'</li>\n",
       "\t\t<li>'textbook'</li>\n",
       "\t</ol>\n",
       "</details>"
      ],
      "text/latex": [
       "book\n",
       "\\emph{Levels}: \\begin{enumerate*}\n",
       "\\item 'book'\n",
       "\\item 'pen'\n",
       "\\item 'pencil\\_case'\n",
       "\\item 'textbook'\n",
       "\\end{enumerate*}\n"
      ],
      "text/markdown": [
       "book\n",
       "**Levels**: 1. 'book'\n",
       "2. 'pen'\n",
       "3. 'pencil_case'\n",
       "4. 'textbook'\n",
       "\n",
       "\n"
      ],
      "text/plain": [
       "[1] book\n",
       "Levels: book pen pencil_case textbook"
      ]
     },
     "metadata": {},
     "output_type": "display_data"
    }
   ],
   "source": [
    "## Select row 1 in column 2\n",
    "df[1,2]"
   ]
  },
  {
   "cell_type": "code",
   "execution_count": 15,
   "metadata": {
    "scrolled": true
   },
   "outputs": [
    {
     "data": {
      "text/html": [
       "<table>\n",
       "<thead><tr><th scope=col>ID</th><th scope=col>items</th><th scope=col>store</th><th scope=col>price</th></tr></thead>\n",
       "<tbody>\n",
       "\t<tr><td>10   </td><td>book </td><td> TRUE</td><td>2.5  </td></tr>\n",
       "\t<tr><td>20   </td><td>pen  </td><td>FALSE</td><td>8.0  </td></tr>\n",
       "</tbody>\n",
       "</table>\n"
      ],
      "text/latex": [
       "\\begin{tabular}{r|llll}\n",
       " ID & items & store & price\\\\\n",
       "\\hline\n",
       "\t 10    & book  &  TRUE & 2.5  \\\\\n",
       "\t 20    & pen   & FALSE & 8.0  \\\\\n",
       "\\end{tabular}\n"
      ],
      "text/markdown": [
       "\n",
       "| ID | items | store | price |\n",
       "|---|---|---|---|\n",
       "| 10    | book  |  TRUE | 2.5   |\n",
       "| 20    | pen   | FALSE | 8.0   |\n",
       "\n"
      ],
      "text/plain": [
       "  ID items store price\n",
       "1 10 book   TRUE 2.5  \n",
       "2 20 pen   FALSE 8.0  "
      ]
     },
     "metadata": {},
     "output_type": "display_data"
    }
   ],
   "source": [
    "## Select Rows 1 to 2\n",
    "df[1:2,]"
   ]
  },
  {
   "cell_type": "code",
   "execution_count": 16,
   "metadata": {},
   "outputs": [
    {
     "data": {
      "text/html": [
       "<ol class=list-inline>\n",
       "\t<li>10</li>\n",
       "\t<li>20</li>\n",
       "\t<li>30</li>\n",
       "\t<li>40</li>\n",
       "</ol>\n"
      ],
      "text/latex": [
       "\\begin{enumerate*}\n",
       "\\item 10\n",
       "\\item 20\n",
       "\\item 30\n",
       "\\item 40\n",
       "\\end{enumerate*}\n"
      ],
      "text/markdown": [
       "1. 10\n",
       "2. 20\n",
       "3. 30\n",
       "4. 40\n",
       "\n",
       "\n"
      ],
      "text/plain": [
       "[1] 10 20 30 40"
      ]
     },
     "metadata": {},
     "output_type": "display_data"
    }
   ],
   "source": [
    "## Select Columns 1\n",
    "df[,1]"
   ]
  },
  {
   "cell_type": "code",
   "execution_count": 17,
   "metadata": {
    "scrolled": true
   },
   "outputs": [
    {
     "data": {
      "text/html": [
       "<table>\n",
       "<thead><tr><th scope=col>store</th><th scope=col>price</th></tr></thead>\n",
       "<tbody>\n",
       "\t<tr><td> TRUE</td><td> 2.5 </td></tr>\n",
       "\t<tr><td>FALSE</td><td> 8.0 </td></tr>\n",
       "\t<tr><td> TRUE</td><td>10.0 </td></tr>\n",
       "</tbody>\n",
       "</table>\n"
      ],
      "text/latex": [
       "\\begin{tabular}{r|ll}\n",
       " store & price\\\\\n",
       "\\hline\n",
       "\t  TRUE &  2.5 \\\\\n",
       "\t FALSE &  8.0 \\\\\n",
       "\t  TRUE & 10.0 \\\\\n",
       "\\end{tabular}\n"
      ],
      "text/markdown": [
       "\n",
       "| store | price |\n",
       "|---|---|\n",
       "|  TRUE |  2.5  |\n",
       "| FALSE |  8.0  |\n",
       "|  TRUE | 10.0  |\n",
       "\n"
      ],
      "text/plain": [
       "  store price\n",
       "1  TRUE  2.5 \n",
       "2 FALSE  8.0 \n",
       "3  TRUE 10.0 "
      ]
     },
     "metadata": {},
     "output_type": "display_data"
    }
   ],
   "source": [
    "## Select Rows 1 to 3 and columns 3 to 4\n",
    "df[1:3, 3:4]"
   ]
  },
  {
   "cell_type": "code",
   "execution_count": 18,
   "metadata": {
    "scrolled": false
   },
   "outputs": [
    {
     "data": {
      "text/html": [
       "<table>\n",
       "<thead><tr><th scope=col>ID</th><th scope=col>store</th></tr></thead>\n",
       "<tbody>\n",
       "\t<tr><td>10   </td><td> TRUE</td></tr>\n",
       "\t<tr><td>20   </td><td>FALSE</td></tr>\n",
       "\t<tr><td>30   </td><td> TRUE</td></tr>\n",
       "\t<tr><td>40   </td><td>FALSE</td></tr>\n",
       "</tbody>\n",
       "</table>\n"
      ],
      "text/latex": [
       "\\begin{tabular}{r|ll}\n",
       " ID & store\\\\\n",
       "\\hline\n",
       "\t 10    &  TRUE\\\\\n",
       "\t 20    & FALSE\\\\\n",
       "\t 30    &  TRUE\\\\\n",
       "\t 40    & FALSE\\\\\n",
       "\\end{tabular}\n"
      ],
      "text/markdown": [
       "\n",
       "| ID | store |\n",
       "|---|---|\n",
       "| 10    |  TRUE |\n",
       "| 20    | FALSE |\n",
       "| 30    |  TRUE |\n",
       "| 40    | FALSE |\n",
       "\n"
      ],
      "text/plain": [
       "  ID store\n",
       "1 10  TRUE\n",
       "2 20 FALSE\n",
       "3 30  TRUE\n",
       "4 40 FALSE"
      ]
     },
     "metadata": {},
     "output_type": "display_data"
    }
   ],
   "source": [
    "# Slice with columns name\n",
    "df[, c('ID', 'store')]"
   ]
  },
  {
   "cell_type": "markdown",
   "metadata": {},
   "source": [
    "#### Append a Column to Data Frame "
   ]
  },
  {
   "cell_type": "code",
   "execution_count": 19,
   "metadata": {
    "scrolled": true
   },
   "outputs": [
    {
     "data": {
      "text/html": [
       "<table>\n",
       "<thead><tr><th scope=col>ID</th><th scope=col>items</th><th scope=col>store</th><th scope=col>price</th><th scope=col>quantity</th></tr></thead>\n",
       "<tbody>\n",
       "\t<tr><td>10         </td><td>book       </td><td> TRUE      </td><td> 2.5       </td><td>10         </td></tr>\n",
       "\t<tr><td>20         </td><td>pen        </td><td>FALSE      </td><td> 8.0       </td><td>35         </td></tr>\n",
       "\t<tr><td>30         </td><td>textbook   </td><td> TRUE      </td><td>10.0       </td><td>40         </td></tr>\n",
       "\t<tr><td>40         </td><td>pencil_case</td><td>FALSE      </td><td> 7.0       </td><td> 5         </td></tr>\n",
       "</tbody>\n",
       "</table>\n"
      ],
      "text/latex": [
       "\\begin{tabular}{r|lllll}\n",
       " ID & items & store & price & quantity\\\\\n",
       "\\hline\n",
       "\t 10          & book        &  TRUE       &  2.5        & 10         \\\\\n",
       "\t 20          & pen         & FALSE       &  8.0        & 35         \\\\\n",
       "\t 30          & textbook    &  TRUE       & 10.0        & 40         \\\\\n",
       "\t 40            & pencil\\_case & FALSE         &  7.0          &  5           \\\\\n",
       "\\end{tabular}\n"
      ],
      "text/markdown": [
       "\n",
       "| ID | items | store | price | quantity |\n",
       "|---|---|---|---|---|\n",
       "| 10          | book        |  TRUE       |  2.5        | 10          |\n",
       "| 20          | pen         | FALSE       |  8.0        | 35          |\n",
       "| 30          | textbook    |  TRUE       | 10.0        | 40          |\n",
       "| 40          | pencil_case | FALSE       |  7.0        |  5          |\n",
       "\n"
      ],
      "text/plain": [
       "  ID items       store price quantity\n",
       "1 10 book         TRUE  2.5  10      \n",
       "2 20 pen         FALSE  8.0  35      \n",
       "3 30 textbook     TRUE 10.0  40      \n",
       "4 40 pencil_case FALSE  7.0   5      "
      ]
     },
     "metadata": {},
     "output_type": "display_data"
    }
   ],
   "source": [
    "# Create a new vector\n",
    "quantity <- c(10, 35, 40, 5)\n",
    "\n",
    "# Add `quantity` to the `df` data frame\n",
    "df$quantity <- quantity\n",
    "df"
   ]
  },
  {
   "cell_type": "markdown",
   "metadata": {},
   "source": [
    "#### Select a Column "
   ]
  },
  {
   "cell_type": "code",
   "execution_count": 20,
   "metadata": {},
   "outputs": [
    {
     "data": {
      "text/html": [
       "<ol class=list-inline>\n",
       "\t<li>10</li>\n",
       "\t<li>20</li>\n",
       "\t<li>30</li>\n",
       "\t<li>40</li>\n",
       "</ol>\n"
      ],
      "text/latex": [
       "\\begin{enumerate*}\n",
       "\\item 10\n",
       "\\item 20\n",
       "\\item 30\n",
       "\\item 40\n",
       "\\end{enumerate*}\n"
      ],
      "text/markdown": [
       "1. 10\n",
       "2. 20\n",
       "3. 30\n",
       "4. 40\n",
       "\n",
       "\n"
      ],
      "text/plain": [
       "[1] 10 20 30 40"
      ]
     },
     "metadata": {},
     "output_type": "display_data"
    }
   ],
   "source": [
    "# Select the column ID\n",
    "df$ID"
   ]
  },
  {
   "cell_type": "code",
   "execution_count": 21,
   "metadata": {},
   "outputs": [
    {
     "data": {
      "text/html": [
       "<table>\n",
       "<thead><tr><th></th><th scope=col>ID</th><th scope=col>items</th><th scope=col>store</th><th scope=col>price</th><th scope=col>quantity</th></tr></thead>\n",
       "<tbody>\n",
       "\t<tr><th scope=row>2</th><td>20         </td><td>pen        </td><td>FALSE      </td><td> 8         </td><td>35         </td></tr>\n",
       "\t<tr><th scope=row>3</th><td>30         </td><td>textbook   </td><td> TRUE      </td><td>10         </td><td>40         </td></tr>\n",
       "\t<tr><th scope=row>4</th><td>40         </td><td>pencil_case</td><td>FALSE      </td><td> 7         </td><td> 5         </td></tr>\n",
       "</tbody>\n",
       "</table>\n"
      ],
      "text/latex": [
       "\\begin{tabular}{r|lllll}\n",
       "  & ID & items & store & price & quantity\\\\\n",
       "\\hline\n",
       "\t2 & 20          & pen         & FALSE       &  8          & 35         \\\\\n",
       "\t3 & 30          & textbook    &  TRUE       & 10          & 40         \\\\\n",
       "\t4 & 40            & pencil\\_case & FALSE         &  7            &  5           \\\\\n",
       "\\end{tabular}\n"
      ],
      "text/markdown": [
       "\n",
       "| <!--/--> | ID | items | store | price | quantity |\n",
       "|---|---|---|---|---|---|\n",
       "| 2 | 20          | pen         | FALSE       |  8          | 35          |\n",
       "| 3 | 30          | textbook    |  TRUE       | 10          | 40          |\n",
       "| 4 | 40          | pencil_case | FALSE       |  7          |  5          |\n",
       "\n"
      ],
      "text/plain": [
       "  ID items       store price quantity\n",
       "2 20 pen         FALSE  8    35      \n",
       "3 30 textbook     TRUE 10    40      \n",
       "4 40 pencil_case FALSE  7     5      "
      ]
     },
     "metadata": {},
     "output_type": "display_data"
    }
   ],
   "source": [
    "# Select price above 5\n",
    "subset(df, subset = price > 5)"
   ]
  },
  {
   "cell_type": "markdown",
   "metadata": {},
   "source": [
    "### Descriptive Statistics "
   ]
  },
  {
   "cell_type": "markdown",
   "metadata": {},
   "source": [
    "R provides a wide range of functions for obtaining summary statistics. One way to get descriptive statistics is to use the sapply( ) function with a specified summary statistic."
   ]
  },
  {
   "cell_type": "code",
   "execution_count": null,
   "metadata": {},
   "outputs": [],
   "source": [
    "# get means for variables in data frame mydata\n",
    "# excluding missing values\n",
    "sapply(mydata, mean, na.rm=TRUE)"
   ]
  },
  {
   "cell_type": "markdown",
   "metadata": {},
   "source": [
    "### Plotting in R "
   ]
  },
  {
   "cell_type": "code",
   "execution_count": null,
   "metadata": {},
   "outputs": [],
   "source": [
    "# Creating a Graph\n",
    "attach(mtcars)\n",
    "plot(wt, mpg)\n",
    "abline(lm(mpg~wt))\n",
    "title(\"Regression of MPG on Weight\")"
   ]
  },
  {
   "cell_type": "markdown",
   "metadata": {},
   "source": [
    "-"
   ]
  },
  {
   "cell_type": "markdown",
   "metadata": {},
   "source": [
    "-"
   ]
  },
  {
   "cell_type": "code",
   "execution_count": null,
   "metadata": {},
   "outputs": [],
   "source": []
  }
 ],
 "metadata": {
  "kernelspec": {
   "display_name": "R",
   "language": "R",
   "name": "ir"
  },
  "language_info": {
   "codemirror_mode": "r",
   "file_extension": ".r",
   "mimetype": "text/x-r-source",
   "name": "R",
   "pygments_lexer": "r",
   "version": "3.6.1"
  }
 },
 "nbformat": 4,
 "nbformat_minor": 4
}
